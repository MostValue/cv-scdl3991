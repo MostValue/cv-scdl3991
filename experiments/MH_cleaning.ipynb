{
 "cells": [
  {
   "cell_type": "code",
   "execution_count": 5,
   "id": "d6b29956-db8c-495f-86fe-fc08659f3efe",
   "metadata": {},
   "outputs": [],
   "source": [
    "import pyreadr\n",
    "import os\n",
    "from pathlib import Path"
   ]
  },
  {
   "cell_type": "code",
   "execution_count": 6,
   "id": "8310cfba-b14e-4cf9-bcb9-b7c32e258861",
   "metadata": {},
   "outputs": [],
   "source": [
    "# Ensure you are always in the parent dir\n",
    "os.chdir('/home/kyan/git/cv-scdl3991/')\n",
    "data_path = Path('data/MH/counts_mh.Rds')"
   ]
  },
  {
   "cell_type": "code",
   "execution_count": 7,
   "id": "2a9eaa05-c7e3-4640-b761-d3225a3efadf",
   "metadata": {},
   "outputs": [
    {
     "ename": "LibrdataError",
     "evalue": "The file contains an unrecognized object",
     "output_type": "error",
     "traceback": [
      "\u001b[0;31m---------------------------------------------------------------------------\u001b[0m",
      "\u001b[0;31mLibrdataError\u001b[0m                             Traceback (most recent call last)",
      "Cell \u001b[0;32mIn[7], line 1\u001b[0m\n\u001b[0;32m----> 1\u001b[0m result \u001b[38;5;241m=\u001b[39m \u001b[43mpyreadr\u001b[49m\u001b[38;5;241;43m.\u001b[39;49m\u001b[43mread_r\u001b[49m\u001b[43m(\u001b[49m\u001b[43mdata_path\u001b[49m\u001b[43m)\u001b[49m\n",
      "File \u001b[0;32m~/miniforge3/envs/cv-proj/lib/python3.12/site-packages/pyreadr/pyreadr.py:66\u001b[0m, in \u001b[0;36mread_r\u001b[0;34m(path, use_objects, timezone)\u001b[0m\n\u001b[1;32m     64\u001b[0m \u001b[38;5;28;01mif\u001b[39;00m \u001b[38;5;129;01mnot\u001b[39;00m os\u001b[38;5;241m.\u001b[39mpath\u001b[38;5;241m.\u001b[39misfile(filename_bytes):\n\u001b[1;32m     65\u001b[0m     \u001b[38;5;28;01mraise\u001b[39;00m PyreadrError(\u001b[38;5;124m\"\u001b[39m\u001b[38;5;124mFile \u001b[39m\u001b[38;5;132;01m{0}\u001b[39;00m\u001b[38;5;124m does not exist!\u001b[39m\u001b[38;5;124m\"\u001b[39m\u001b[38;5;241m.\u001b[39mformat(filename_bytes))\n\u001b[0;32m---> 66\u001b[0m \u001b[43mparser\u001b[49m\u001b[38;5;241;43m.\u001b[39;49m\u001b[43mparse\u001b[49m\u001b[43m(\u001b[49m\u001b[43mfilename_bytes\u001b[49m\u001b[43m)\u001b[49m\n\u001b[1;32m     68\u001b[0m result \u001b[38;5;241m=\u001b[39m OrderedDict()\n\u001b[1;32m     69\u001b[0m \u001b[38;5;28;01mfor\u001b[39;00m table_index, table \u001b[38;5;129;01min\u001b[39;00m \u001b[38;5;28menumerate\u001b[39m(parser\u001b[38;5;241m.\u001b[39mtable_data):\n",
      "File \u001b[0;32m~/miniforge3/envs/cv-proj/lib/python3.12/site-packages/pyreadr/librdata.pyx:149\u001b[0m, in \u001b[0;36mpyreadr.librdata.Parser.parse\u001b[0;34m()\u001b[0m\n",
      "File \u001b[0;32m~/miniforge3/envs/cv-proj/lib/python3.12/site-packages/pyreadr/librdata.pyx:178\u001b[0m, in \u001b[0;36mpyreadr.librdata.Parser.parse\u001b[0;34m()\u001b[0m\n",
      "\u001b[0;31mLibrdataError\u001b[0m: The file contains an unrecognized object"
     ]
    }
   ],
   "source": [
    "result = pyreadr.read_r(data_path)"
   ]
  },
  {
   "cell_type": "code",
   "execution_count": 10,
   "id": "75396861-7af4-4b45-a238-dc3c781b2882",
   "metadata": {},
   "outputs": [
    {
     "name": "stdout",
     "output_type": "stream",
     "text": [
      "Site-packages: ['/home/kyan/miniforge3/envs/cv-proj/lib/python3.12/site-packages']\n"
     ]
    }
   ],
   "source": [
    "import site\n",
    "print(\"Site-packages:\", site.getsitepackages())\n"
   ]
  }
 ],
 "metadata": {
  "kernelspec": {
   "display_name": "Python 3 (ipykernel)",
   "language": "python",
   "name": "python3"
  },
  "language_info": {
   "codemirror_mode": {
    "name": "ipython",
    "version": 3
   },
   "file_extension": ".py",
   "mimetype": "text/x-python",
   "name": "python",
   "nbconvert_exporter": "python",
   "pygments_lexer": "ipython3",
   "version": "3.12.4"
  }
 },
 "nbformat": 4,
 "nbformat_minor": 5
}
