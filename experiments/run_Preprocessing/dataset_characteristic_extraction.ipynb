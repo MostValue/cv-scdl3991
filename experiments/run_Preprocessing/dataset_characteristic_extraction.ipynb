{
 "cells": [
  {
   "cell_type": "code",
   "execution_count": 1,
   "id": "84f8936c-036d-47c1-881b-74dda24736e8",
   "metadata": {},
   "outputs": [],
   "source": [
    "import scanpy as sc\n",
    "# import scvi\n",
    "import pandas as pd\n",
    "import math\n",
    "import numpy as np\n",
    "# Plotting\n",
    "\n",
    "import seaborn as sns\n",
    "\n",
    "# System\n",
    "from pathlib import Path\n",
    "import os\n",
    "\n",
    "# Ensure you are always in the parent dir\n",
    "os.chdir('/home/kyan/git/cv-scdl3991/')\n",
    "# data_path = Path('data/MH/MH_raw_counts.csv')\n",
    "data_path = Path('data/')\n",
    "dir_path = Path('MSC/osmfish.h5ad')\n",
    "# Warnings \n",
    "\n",
    "import warnings\n",
    "warnings.simplefilter(\"ignore\")"
   ]
  },
  {
   "cell_type": "code",
   "execution_count": 2,
   "id": "cee33343-99b2-4e01-8ae4-5b301597da78",
   "metadata": {},
   "outputs": [],
   "source": [
    "def setup_qc_metrics(adata):\n",
    "    \"\"\"\n",
    "    Sets up and performs doublet detection for an AnnData object.\n",
    "\n",
    "    1. Identifies the top 2000 highly variable genes using the 'seurat_v3' method \n",
    "    2. Uses the scVI model to detect and remove doublets\n",
    "    3. Trains a SOLO model to further refine the detection of doublets.\n",
    "   \n",
    "    Parameters\n",
    "    ----------\n",
    "    adata : AnnData\n",
    "        An AnnData object containing single-cell gene expression data.\n",
    "\n",
    "    Returns\n",
    "    -------\n",
    "    AnnData\n",
    "        The input AnnData object with additional QC metrics, including doublet predictions, stored in the `obs` DataFrame.\n",
    "    \"\"\"\n",
    "    # setup\n",
    "\n",
    "    adata.var_names_make_unique()\n",
    "\n",
    "    sc.pp.highly_variable_genes(adata, n_top_genes = 2000, subset=True, flavor = 'seurat_v3', inplace=True)\n",
    "\n",
    "    # # using scvi to remove doublets\n",
    "    # scvi.model.SCVI.setup_anndata(adata)\n",
    "    # vae = scvi.model.SCVI(adata)\n",
    "    # vae.train()\n",
    "\n",
    "    # # training a solo model\n",
    "    # solo = scvi.external.SOLO.from_scvi_model(vae)\n",
    "    # solo.train()\n",
    "\n",
    "    # temp_df = solo.predict()\n",
    "    # temp_df['predict'] = solo.predict(soft = False)\n",
    "    # temp_df['difference'] = temp_df.doublet - temp_df.singlet \n",
    "    # doublets = temp_df[(temp_df['predict'] == 'doublet') & (temp_df['difference'] > 1)] # filtering out only those that have a predicted difference of more than 1\n",
    "\n",
    "    # # adding doublet prediction to adata object\n",
    "    # adata.obs['doublet'] = adata.obs.index.isin(doublets)\n",
    "\n",
    "    return adata\n",
    "\n",
    "\n",
    "def compute_qc_metrics(adata):\n",
    "    \"\"\"\n",
    "    Compute quality control (QC) metrics for an AnnData object.\n",
    "\n",
    "    This function calculates various QC metrics for the input AnnData object, such as the percentage of counts \n",
    "    assigned to specific gene categories (mitochondrial, ribosomal, hemoglobin genes), and the percentage of counts \n",
    "    assigned to the top x% of genes per cell. Additionally, it computes the percentage of highly variable genes.\n",
    "\n",
    "    Parameters\n",
    "    ----------\n",
    "    adata : AnnData\n",
    "        An AnnData object containing single-cell gene expression data. The input object should have a `var` DataFrame \n",
    "        with gene names.\n",
    "\n",
    "    Returns\n",
    "    -------\n",
    "    AnnData\n",
    "        The input AnnData object with additional QC metrics stored in the `obs` and `var` DataFrames.\n",
    "    \"\"\"\n",
    "    \n",
    "    # default is no filtering \n",
    "    # sc.pp.filter_cells(adata, min_genes = 200) \n",
    "    \n",
    "    adata.var[\"mt\"] = adata.var_names.str.startswith((\"MT-\", \"mt-\", \"Mt-\"))\n",
    "    adata.var[\"ribo\"] = adata.var_names.str.startswith((\"RPS\", \"RPL\"))\n",
    "    adata.var[\"hb\"] = adata.var_names.str.contains((\"^HB[^(P)]\"))\n",
    "\n",
    "\n",
    "    # To calculate the % of counts assigned to the top x genes per cell. Some data have very small cell counts so % were used instead\n",
    "    n_genes = len(adata.var)\n",
    "    percents = [0.01, 0.05, 0.1, 0.2] # 1% , 5%, 10%, 20% of genes)\n",
    "    ceiling_values = [math.ceil(n_genes * p) for p in percents]\n",
    "    sc.pp.calculate_qc_metrics(adata, qc_vars=[\"mt\", \"ribo\", \"hb\"], inplace=True, percent_top=ceiling_values, log1p=True)\n",
    "\n",
    "    # Doing some renaming\n",
    "    percent_names = [f\"pct_counts_in_top_{n}_genes\" for n in ceiling_values]\n",
    "    new_names = [f\"pct_counts_in_top_{round(n*100)}_pct_genes\" for n in percents]\n",
    "    adata.obs.rename(columns = dict(zip(percent_names, new_names)), inplace = True)\n",
    "\n",
    "    rename_totals = {'total_counts': 'total_counts_genes', 'log1p_total_counts': 'log1p_total_counts_genes'}\n",
    "    adata.var.rename(columns = rename_totals, inplace = True)\n",
    "    # remove = ['total_counts_mt', 'log1p_total_counts_mt', 'total_counts_ribo', \n",
    "    #       'log1p_total_counts_ribo', 'total_counts_hb', 'log1p_total_counts_hb']\n",
    "    \n",
    "    # adata.obs = adata.obs[[x for x in adata.obs.columns if x not in remove]]\n",
    "    \n",
    "    #### Other Metrics #####\n",
    "    # adata.var['pct_highly_var_genes'] = adata.var[\"highly_variable\"].sum() / len(adata.var). Realised this is not a useful metric\n",
    "    \n",
    "    return adata\n",
    "\n",
    "def extract_metrics(adata, agg=np.median, exclude = None):\n",
    "    \"\"\"\n",
    "    Extracts summary statistics from an AnnData object.\n",
    "    \n",
    "    Parameters:\n",
    "    - adata: AnnData object, after highly variable genes, and doublets have been identified.\n",
    "    - agg: function to apply to each variable (default: np.mean)\n",
    "    \n",
    "    Returns:\n",
    "    - dict, column_names: dictionary of {row: [metrics]}, list of all column_names\n",
    "    \"\"\"\n",
    "    try:\n",
    "        index = adata.uns['name']\n",
    "    except:\n",
    "        print(\"No name set for AnnData object\")\n",
    "\n",
    "    ##### Computing metrics for all cells. #####\n",
    "\n",
    "    # selecting only numeric quantities\n",
    "    numeric_obs = adata.obs.select_dtypes(include=['number']).columns.tolist()\n",
    "    numeric_obs = [item for item in numeric_obs if not item.startswith(\"_\")]\n",
    "\n",
    "    # applying our agg function\n",
    "    obs_metrics = adata.obs[numeric_obs].apply(agg).to_list()\n",
    "\n",
    "    ##### Computing metrics for all genes.#####\n",
    "    \n",
    "    # selecting only numeric quantities\n",
    "    numeric_vars = adata.var.select_dtypes(include=['number']).columns.tolist()\n",
    "\n",
    "    # EXCLUDE\n",
    "    exclude = ['highly_variable_rank']\n",
    "    \n",
    "    numeric_vars = [item for item in numeric_vars if ((not item.startswith(\"_\")) and (item not in exclude))]\n",
    "\n",
    "    # applying our agg function\n",
    "    var_metrics = adata.var[numeric_vars].apply(agg).to_list()\n",
    "\n",
    "    ##### Custom defined metrics #####\n",
    "\n",
    "    ## TODO\n",
    "\n",
    "    ##### PCA Extraction #####\n",
    "\n",
    "    obs_metrics.extend(var_metrics)\n",
    "    numeric_obs.extend(numeric_vars)\n",
    "    \n",
    "    return {index: obs_metrics}, numeric_obs"
   ]
  },
  {
   "cell_type": "code",
   "execution_count": 3,
   "id": "ef08ddf7-4ffb-486c-8dd9-752036a84aa1",
   "metadata": {},
   "outputs": [],
   "source": [
    "def run_all_qc_partially(adata):\n",
    "    save_path = \"outputs/characteristics/characteristics.csv\"\n",
    "    \n",
    "    adata = setup_qc_metrics(adata)\n",
    "    adata = compute_qc_metrics(adata)\n",
    "    dataset_row, columns = extract_metrics(adata)\n",
    "    new_df = pd.DataFrame.from_dict(dataset_row, columns = columns, \n",
    "                                    orient='index') \n",
    "    return new_df"
   ]
  },
  {
   "cell_type": "code",
   "execution_count": 4,
   "id": "5a6cc4a9-301e-45a9-ab79-202323075aa0",
   "metadata": {},
   "outputs": [],
   "source": [
    "def run_all_qc(adata):\n",
    "    save_path = \"outputs/characteristics/characteristics.csv\"\n",
    "    \n",
    "    adata = setup_qc_metrics(adata)\n",
    "    adata = compute_qc_metrics(adata)\n",
    "    dataset_row, columns = extract_metrics(adata)\n",
    "\n",
    "\n",
    "    ### Adding onto the end of new df\n",
    "    saved_df = pd.read_csv(save_path, index_col = 0)\n",
    "    new_df = pd.DataFrame.from_dict(dataset_row, columns = columns, \n",
    "                                    orient='index') \n",
    "    print(f\"Adding entry < {new_df.index} to dataset\")\n",
    "\n",
    "    ### TESTING FOR DUPLICATED COLUMNS\n",
    "    duplicate_columns = new_df.columns[new_df.columns.duplicated()]\n",
    "    # Display results\n",
    "    if duplicate_columns.any():\n",
    "        print(f\"WARNING: Duplicate columns in {new_df.index}:\")\n",
    "        print(duplicate_columns)\n",
    "\n",
    "    common_columns = saved_df.columns.intersection(new_df.columns)\n",
    "\n",
    "    print(f\"Old Columns: {saved_df.columns} \\n\")\n",
    "    print(f\"New Columns: {new_df.columns} \\n\")\n",
    "    print(f\"Common Columns: {common_columns} \\n\")\n",
    "    \n",
    "    # Select only the common columns from both DataFrames\n",
    "    saved_df_common = saved_df[common_columns]\n",
    "    new_df_common = new_df[common_columns]\n",
    "\n",
    "    # Append df2 to df1\n",
    "    result = pd.concat([saved_df_common, new_df_common], join=\"inner\")\n",
    "    result.to_csv(save_path, index= True)\n",
    "\n",
    "    print(f\"Saved to disk at path: {save_path}\")"
   ]
  },
  {
   "cell_type": "markdown",
   "id": "e82ca02e-6d95-4c3f-a00f-55ac9aa26a6d",
   "metadata": {},
   "source": [
    "## MSC"
   ]
  },
  {
   "cell_type": "code",
   "execution_count": 5,
   "id": "ad23748f-d0db-4f96-834f-75d855dca00f",
   "metadata": {},
   "outputs": [],
   "source": [
    "data_path_MSC = Path('data/MSC/MSC_gene_expression_FINAL.h5ad')\n",
    "adata = sc.read_h5ad(data_path_MSC)\n",
    "adata.uns['name'] = 'MSC'"
   ]
  },
  {
   "cell_type": "code",
   "execution_count": 6,
   "id": "2773b196-a6f3-4ea5-b280-3631e4f5bb88",
   "metadata": {},
   "outputs": [],
   "source": [
    "adata = setup_qc_metrics(adata)"
   ]
  },
  {
   "cell_type": "code",
   "execution_count": 7,
   "id": "b149ec2b-c42c-4e5a-8c76-df8a47b9051a",
   "metadata": {},
   "outputs": [],
   "source": [
    "adata = compute_qc_metrics(adata) # this can only be run once"
   ]
  },
  {
   "cell_type": "code",
   "execution_count": 8,
   "id": "1c987da9-2fb6-45c9-aa82-bf1c912e1d3a",
   "metadata": {},
   "outputs": [],
   "source": [
    "dataset_row, columns = extract_metrics(adata)"
   ]
  },
  {
   "cell_type": "code",
   "execution_count": 9,
   "id": "bd873a38-400e-406e-b131-848f72a3aeee",
   "metadata": {},
   "outputs": [
    {
     "data": {
      "text/html": [
       "<div>\n",
       "<style scoped>\n",
       "    .dataframe tbody tr th:only-of-type {\n",
       "        vertical-align: middle;\n",
       "    }\n",
       "\n",
       "    .dataframe tbody tr th {\n",
       "        vertical-align: top;\n",
       "    }\n",
       "\n",
       "    .dataframe thead th {\n",
       "        text-align: right;\n",
       "    }\n",
       "</style>\n",
       "<table border=\"1\" class=\"dataframe\">\n",
       "  <thead>\n",
       "    <tr style=\"text-align: right;\">\n",
       "      <th></th>\n",
       "      <th>n_genes_by_counts</th>\n",
       "      <th>log1p_n_genes_by_counts</th>\n",
       "      <th>total_counts</th>\n",
       "      <th>log1p_total_counts</th>\n",
       "      <th>pct_counts_in_top_1_pct_genes</th>\n",
       "      <th>pct_counts_in_top_5_pct_genes</th>\n",
       "      <th>pct_counts_in_top_10_pct_genes</th>\n",
       "      <th>pct_counts_in_top_20_pct_genes</th>\n",
       "      <th>total_counts_mt</th>\n",
       "      <th>log1p_total_counts_mt</th>\n",
       "      <th>...</th>\n",
       "      <th>pct_counts_hb</th>\n",
       "      <th>means</th>\n",
       "      <th>variances</th>\n",
       "      <th>variances_norm</th>\n",
       "      <th>n_cells_by_counts</th>\n",
       "      <th>mean_counts</th>\n",
       "      <th>log1p_mean_counts</th>\n",
       "      <th>pct_dropout_by_counts</th>\n",
       "      <th>total_counts_genes</th>\n",
       "      <th>log1p_total_counts_genes</th>\n",
       "    </tr>\n",
       "  </thead>\n",
       "  <tbody>\n",
       "    <tr>\n",
       "      <th>MSC</th>\n",
       "      <td>23.0</td>\n",
       "      <td>3.178054</td>\n",
       "      <td>5328.0</td>\n",
       "      <td>8.580919</td>\n",
       "      <td>20.125708</td>\n",
       "      <td>33.299927</td>\n",
       "      <td>51.226799</td>\n",
       "      <td>68.549191</td>\n",
       "      <td>0.0</td>\n",
       "      <td>0.0</td>\n",
       "      <td>...</td>\n",
       "      <td>0.0</td>\n",
       "      <td>159.733532</td>\n",
       "      <td>59376.838508</td>\n",
       "      <td>0.99151</td>\n",
       "      <td>3379.0</td>\n",
       "      <td>159.733551</td>\n",
       "      <td>5.079748</td>\n",
       "      <td>30.171523</td>\n",
       "      <td>772950.625</td>\n",
       "      <td>13.557972</td>\n",
       "    </tr>\n",
       "  </tbody>\n",
       "</table>\n",
       "<p>1 rows × 26 columns</p>\n",
       "</div>"
      ],
      "text/plain": [
       "     n_genes_by_counts  log1p_n_genes_by_counts  total_counts  \\\n",
       "MSC               23.0                 3.178054        5328.0   \n",
       "\n",
       "     log1p_total_counts  pct_counts_in_top_1_pct_genes  \\\n",
       "MSC            8.580919                      20.125708   \n",
       "\n",
       "     pct_counts_in_top_5_pct_genes  pct_counts_in_top_10_pct_genes  \\\n",
       "MSC                      33.299927                       51.226799   \n",
       "\n",
       "     pct_counts_in_top_20_pct_genes  total_counts_mt  log1p_total_counts_mt  \\\n",
       "MSC                       68.549191              0.0                    0.0   \n",
       "\n",
       "     ...  pct_counts_hb       means     variances  variances_norm  \\\n",
       "MSC  ...            0.0  159.733532  59376.838508         0.99151   \n",
       "\n",
       "     n_cells_by_counts  mean_counts  log1p_mean_counts  pct_dropout_by_counts  \\\n",
       "MSC             3379.0   159.733551           5.079748              30.171523   \n",
       "\n",
       "     total_counts_genes  log1p_total_counts_genes  \n",
       "MSC          772950.625                 13.557972  \n",
       "\n",
       "[1 rows x 26 columns]"
      ]
     },
     "execution_count": 9,
     "metadata": {},
     "output_type": "execute_result"
    }
   ],
   "source": [
    "characteristics_df = pd.DataFrame.from_dict(dataset_row, columns = columns, orient='index') # 34 features so far\n",
    "characteristics_df"
   ]
  },
  {
   "cell_type": "code",
   "execution_count": 10,
   "id": "e8f4a841-6bb7-41b3-9d5e-43b6a42bee25",
   "metadata": {},
   "outputs": [],
   "source": [
    "save_path = \"outputs/characteristics/characteristics.csv\"\n",
    "characteristics_df.to_csv(save_path, index=True)"
   ]
  },
  {
   "cell_type": "markdown",
   "id": "bcfa415f-d5a7-4afd-aacf-005b953d6152",
   "metadata": {},
   "source": [
    "## Loading in all other data"
   ]
  },
  {
   "cell_type": "code",
   "execution_count": 7,
   "id": "10ae1c8a-e435-40aa-8eae-413f800092ae",
   "metadata": {},
   "outputs": [],
   "source": [
    "data_path_MSC = Path('data/MSC/MSC_gene_expression_FINAL.h5ad')\n",
    "data_path_DPLC_1 = Path('data/DLPC/151507')\n",
    "data_path_DPLC_2 = Path('data/DLPC/151508')\n",
    "data_path_DPLC_3 = Path('data/DLPC/151509')\n",
    "data_path_HBCA1 = Path('data/HBCA1/')\n",
    "\n",
    "adata = sc.read_h5ad(data_path_MSC)\n",
    "adata.uns['name'] = 'MSC'\n",
    "\n",
    "\n",
    "adata1 = sc.read_visium(data_path_DPLC_1,\n",
    "                       count_file = \"151507_filtered_feature_bc_matrix.h5\")\n",
    "adata1.uns['name'] = 'DPLC_151707'\n",
    "\n",
    "adata2 = sc.read_visium(data_path_DPLC_2,\n",
    "                       count_file = \"151508_filtered_feature_bc_matrix.h5\")\n",
    "adata2.uns['name'] = 'DPLC_151708'\n",
    "\n",
    "\n",
    "adata3 = sc.read_visium(data_path_DPLC_3,\n",
    "                       count_file = \"151509_filtered_feature_bc_matrix.h5\")\n",
    "adata3.uns['name'] = 'DPLC_151709'\n",
    "\n",
    "\n",
    "adata4 = sc.read_visium(data_path_HBCA1,\n",
    "                       count_file = \"V1_Breast_Cancer_Block_A_Section_1_filtered_feature_bc_matrix.h5\")\n",
    "adata4.uns['name'] = 'HBCA1'"
   ]
  },
  {
   "cell_type": "code",
   "execution_count": 12,
   "id": "59d6dd9e-7047-4011-9ad6-ef7ae3e19581",
   "metadata": {},
   "outputs": [],
   "source": [
    "adatas = [adata1, adata2, adata3, adata4]"
   ]
  },
  {
   "cell_type": "code",
   "execution_count": 8,
   "id": "adcff642-8c22-47d4-a993-bf2b330cdabf",
   "metadata": {},
   "outputs": [
    {
     "name": "stdout",
     "output_type": "stream",
     "text": [
      "Adding entry < Index(['DPLC_151707'], dtype='object') to dataset\n",
      "Old Columns: Index(['n_genes_by_counts', 'log1p_n_genes_by_counts', 'total_counts',\n",
      "       'log1p_total_counts', 'pct_counts_in_top_1_pct_genes',\n",
      "       'pct_counts_in_top_5_pct_genes', 'pct_counts_in_top_10_pct_genes',\n",
      "       'pct_counts_in_top_20_pct_genes', 'total_counts_mt',\n",
      "       'log1p_total_counts_mt', 'pct_counts_mt', 'total_counts_ribo',\n",
      "       'log1p_total_counts_ribo', 'pct_counts_ribo', 'total_counts_hb',\n",
      "       'log1p_total_counts_hb', 'pct_counts_hb', 'means', 'variances',\n",
      "       'variances_norm', 'n_cells_by_counts', 'mean_counts',\n",
      "       'log1p_mean_counts', 'pct_dropout_by_counts', 'total_counts_genes',\n",
      "       'log1p_total_counts_genes'],\n",
      "      dtype='object') \n",
      "\n",
      "New Columns: Index(['in_tissue', 'array_row', 'array_col', 'n_genes_by_counts',\n",
      "       'log1p_n_genes_by_counts', 'total_counts', 'log1p_total_counts',\n",
      "       'pct_counts_in_top_1_pct_genes', 'pct_counts_in_top_5_pct_genes',\n",
      "       'pct_counts_in_top_10_pct_genes', 'pct_counts_in_top_20_pct_genes',\n",
      "       'total_counts_mt', 'log1p_total_counts_mt', 'pct_counts_mt',\n",
      "       'total_counts_ribo', 'log1p_total_counts_ribo', 'pct_counts_ribo',\n",
      "       'total_counts_hb', 'log1p_total_counts_hb', 'pct_counts_hb', 'means',\n",
      "       'variances', 'variances_norm', 'n_cells_by_counts', 'mean_counts',\n",
      "       'log1p_mean_counts', 'pct_dropout_by_counts', 'total_counts_genes',\n",
      "       'log1p_total_counts_genes'],\n",
      "      dtype='object') \n",
      "\n",
      "Common Columns: Index(['n_genes_by_counts', 'log1p_n_genes_by_counts', 'total_counts',\n",
      "       'log1p_total_counts', 'pct_counts_in_top_1_pct_genes',\n",
      "       'pct_counts_in_top_5_pct_genes', 'pct_counts_in_top_10_pct_genes',\n",
      "       'pct_counts_in_top_20_pct_genes', 'total_counts_mt',\n",
      "       'log1p_total_counts_mt', 'pct_counts_mt', 'total_counts_ribo',\n",
      "       'log1p_total_counts_ribo', 'pct_counts_ribo', 'total_counts_hb',\n",
      "       'log1p_total_counts_hb', 'pct_counts_hb', 'means', 'variances',\n",
      "       'variances_norm', 'n_cells_by_counts', 'mean_counts',\n",
      "       'log1p_mean_counts', 'pct_dropout_by_counts', 'total_counts_genes',\n",
      "       'log1p_total_counts_genes'],\n",
      "      dtype='object') \n",
      "\n",
      "Saved to disk at path: outputs/characteristics/characteristics.csv\n"
     ]
    }
   ],
   "source": [
    "run_all_qc(adata1)"
   ]
  },
  {
   "cell_type": "code",
   "execution_count": 14,
   "id": "c84f1c23-f857-4dca-8f1c-733c4123aa96",
   "metadata": {},
   "outputs": [
    {
     "name": "stdout",
     "output_type": "stream",
     "text": [
      "Adding entry < Index(['DPLC_151709'], dtype='object') to dataset\n",
      "Old Columns: Index(['n_genes_by_counts', 'log1p_n_genes_by_counts', 'total_counts',\n",
      "       'log1p_total_counts', 'pct_counts_in_top_1_pct_genes',\n",
      "       'pct_counts_in_top_5_pct_genes', 'pct_counts_in_top_10_pct_genes',\n",
      "       'pct_counts_in_top_20_pct_genes', 'total_counts_mt',\n",
      "       'log1p_total_counts_mt', 'pct_counts_mt', 'total_counts_ribo',\n",
      "       'log1p_total_counts_ribo', 'pct_counts_ribo', 'total_counts_hb',\n",
      "       'log1p_total_counts_hb', 'pct_counts_hb', 'means', 'variances',\n",
      "       'variances_norm', 'n_cells_by_counts', 'mean_counts',\n",
      "       'log1p_mean_counts', 'pct_dropout_by_counts', 'total_counts_genes',\n",
      "       'log1p_total_counts_genes'],\n",
      "      dtype='object') \n",
      "\n",
      "New Columns: Index(['in_tissue', 'array_row', 'array_col', 'n_genes_by_counts',\n",
      "       'log1p_n_genes_by_counts', 'total_counts', 'log1p_total_counts',\n",
      "       'pct_counts_in_top_1_pct_genes', 'pct_counts_in_top_5_pct_genes',\n",
      "       'pct_counts_in_top_10_pct_genes', 'pct_counts_in_top_20_pct_genes',\n",
      "       'total_counts_mt', 'log1p_total_counts_mt', 'pct_counts_mt',\n",
      "       'total_counts_ribo', 'log1p_total_counts_ribo', 'pct_counts_ribo',\n",
      "       'total_counts_hb', 'log1p_total_counts_hb', 'pct_counts_hb', 'means',\n",
      "       'variances', 'variances_norm', 'n_cells_by_counts', 'mean_counts',\n",
      "       'log1p_mean_counts', 'pct_dropout_by_counts', 'total_counts_genes',\n",
      "       'log1p_total_counts_genes'],\n",
      "      dtype='object') \n",
      "\n",
      "Common Columns: Index(['n_genes_by_counts', 'log1p_n_genes_by_counts', 'total_counts',\n",
      "       'log1p_total_counts', 'pct_counts_in_top_1_pct_genes',\n",
      "       'pct_counts_in_top_5_pct_genes', 'pct_counts_in_top_10_pct_genes',\n",
      "       'pct_counts_in_top_20_pct_genes', 'total_counts_mt',\n",
      "       'log1p_total_counts_mt', 'pct_counts_mt', 'total_counts_ribo',\n",
      "       'log1p_total_counts_ribo', 'pct_counts_ribo', 'total_counts_hb',\n",
      "       'log1p_total_counts_hb', 'pct_counts_hb', 'means', 'variances',\n",
      "       'variances_norm', 'n_cells_by_counts', 'mean_counts',\n",
      "       'log1p_mean_counts', 'pct_dropout_by_counts', 'total_counts_genes',\n",
      "       'log1p_total_counts_genes'],\n",
      "      dtype='object') \n",
      "\n",
      "Saved to disk at path: outputs/characteristics/characteristics.csv\n",
      "Adding entry < Index(['HBCA1'], dtype='object') to dataset\n",
      "Old Columns: Index(['n_genes_by_counts', 'log1p_n_genes_by_counts', 'total_counts',\n",
      "       'log1p_total_counts', 'pct_counts_in_top_1_pct_genes',\n",
      "       'pct_counts_in_top_5_pct_genes', 'pct_counts_in_top_10_pct_genes',\n",
      "       'pct_counts_in_top_20_pct_genes', 'total_counts_mt',\n",
      "       'log1p_total_counts_mt', 'pct_counts_mt', 'total_counts_ribo',\n",
      "       'log1p_total_counts_ribo', 'pct_counts_ribo', 'total_counts_hb',\n",
      "       'log1p_total_counts_hb', 'pct_counts_hb', 'means', 'variances',\n",
      "       'variances_norm', 'n_cells_by_counts', 'mean_counts',\n",
      "       'log1p_mean_counts', 'pct_dropout_by_counts', 'total_counts_genes',\n",
      "       'log1p_total_counts_genes'],\n",
      "      dtype='object') \n",
      "\n",
      "New Columns: Index(['in_tissue', 'array_row', 'array_col', 'n_genes_by_counts',\n",
      "       'log1p_n_genes_by_counts', 'total_counts', 'log1p_total_counts',\n",
      "       'pct_counts_in_top_1_pct_genes', 'pct_counts_in_top_5_pct_genes',\n",
      "       'pct_counts_in_top_10_pct_genes', 'pct_counts_in_top_20_pct_genes',\n",
      "       'total_counts_mt', 'log1p_total_counts_mt', 'pct_counts_mt',\n",
      "       'total_counts_ribo', 'log1p_total_counts_ribo', 'pct_counts_ribo',\n",
      "       'total_counts_hb', 'log1p_total_counts_hb', 'pct_counts_hb', 'means',\n",
      "       'variances', 'variances_norm', 'n_cells_by_counts', 'mean_counts',\n",
      "       'log1p_mean_counts', 'pct_dropout_by_counts', 'total_counts_genes',\n",
      "       'log1p_total_counts_genes'],\n",
      "      dtype='object') \n",
      "\n",
      "Common Columns: Index(['n_genes_by_counts', 'log1p_n_genes_by_counts', 'total_counts',\n",
      "       'log1p_total_counts', 'pct_counts_in_top_1_pct_genes',\n",
      "       'pct_counts_in_top_5_pct_genes', 'pct_counts_in_top_10_pct_genes',\n",
      "       'pct_counts_in_top_20_pct_genes', 'total_counts_mt',\n",
      "       'log1p_total_counts_mt', 'pct_counts_mt', 'total_counts_ribo',\n",
      "       'log1p_total_counts_ribo', 'pct_counts_ribo', 'total_counts_hb',\n",
      "       'log1p_total_counts_hb', 'pct_counts_hb', 'means', 'variances',\n",
      "       'variances_norm', 'n_cells_by_counts', 'mean_counts',\n",
      "       'log1p_mean_counts', 'pct_dropout_by_counts', 'total_counts_genes',\n",
      "       'log1p_total_counts_genes'],\n",
      "      dtype='object') \n",
      "\n",
      "Saved to disk at path: outputs/characteristics/characteristics.csv\n"
     ]
    }
   ],
   "source": [
    "for adata in [adata3, adata4]:\n",
    "    try:\n",
    "        run_all_qc(adata)\n",
    "    except:\n",
    "        print(f\"{adata.uns['name']} failed. Proceeding with the next\")"
   ]
  },
  {
   "cell_type": "code",
   "execution_count": 16,
   "id": "5c24ef4d-2c77-45c0-9e1c-4135df7a0dab",
   "metadata": {},
   "outputs": [
    {
     "data": {
      "text/plain": [
       "['NDUFA1',\n",
       " 'GRIA3',\n",
       " 'SH2D1A',\n",
       " 'APLN',\n",
       " 'SASH3',\n",
       " 'GPC4',\n",
       " 'GPC3',\n",
       " 'MIR503HG',\n",
       " 'MCF2',\n",
       " 'LINC00632',\n",
       " 'CXorf40A',\n",
       " 'HMGB3',\n",
       " 'AC244102.4',\n",
       " 'GABRQ',\n",
       " 'BGN',\n",
       " 'PLXNA3',\n",
       " 'LAGE3',\n",
       " 'AC234781.1',\n",
       " 'MT-ATP8',\n",
       " 'MT-ND6']"
      ]
     },
     "execution_count": 16,
     "metadata": {},
     "output_type": "execute_result"
    }
   ],
   "source": [
    "adata4.var_names.to_list()[-20:]"
   ]
  },
  {
   "cell_type": "code",
   "execution_count": 5,
   "id": "25ea430d-1781-4509-bf8b-4a906d9c5008",
   "metadata": {},
   "outputs": [],
   "source": [
    "data_path_MH = Path('data/MH')\n",
    "def load_MH_datasets(MH_dir):\n",
    "    datasets = []\n",
    "    # Files must follow the naming scheme MH_{sample}.h5ad\n",
    "    for file in MH_dir.glob(\"MH_*.h5ad\"):\n",
    "        print(f\"Loading data from {file.stem}...\")\n",
    "        adata = sc.read_h5ad(file)\n",
    "        adata.uns['name'] = file.stem\n",
    "        datasets.append(adata)\n",
    "    return datasets"
   ]
  },
  {
   "cell_type": "code",
   "execution_count": null,
   "id": "627151ab-b870-4998-8a57-b6278fd15288",
   "metadata": {},
   "outputs": [],
   "source": [
    "res1 = load_MH_datasets(data_path_MH)"
   ]
  },
  {
   "cell_type": "code",
   "execution_count": 7,
   "id": "e8b2a838-44ab-4c2d-bc2d-27a4ba7b5de2",
   "metadata": {},
   "outputs": [],
   "source": [
    "test = res[1]"
   ]
  },
  {
   "cell_type": "code",
   "execution_count": 8,
   "id": "912c9ca5-d6f1-419b-af4b-73fe9c5f5d19",
   "metadata": {},
   "outputs": [
    {
     "data": {
      "text/plain": [
       "AnnData object with n_obs × n_vars = 5319 × 135\n",
       "    obs: 'Cell_ID', 'Animal_ID', 'Animal_sex', 'Behavior', 'Bregma', 'Cell_class', 'Neuron_cluster_ID', 'samples', 'X', 'Y'\n",
       "    var: 'Gene', 'highly_variable', 'highly_variable_rank', 'means', 'variances', 'variances_norm'\n",
       "    uns: 'X_name', 'name', 'hvg'"
      ]
     },
     "execution_count": 8,
     "metadata": {},
     "output_type": "execute_result"
    }
   ],
   "source": [
    "setup_qc_metrics(test)"
   ]
  },
  {
   "cell_type": "code",
   "execution_count": 9,
   "id": "83a70650-e5a9-4c11-ac4c-d63db882f78e",
   "metadata": {},
   "outputs": [
    {
     "data": {
      "text/plain": [
       "AnnData object with n_obs × n_vars = 5319 × 135\n",
       "    obs: 'Cell_ID', 'Animal_ID', 'Animal_sex', 'Behavior', 'Bregma', 'Cell_class', 'Neuron_cluster_ID', 'samples', 'X', 'Y', 'n_genes_by_counts', 'log1p_n_genes_by_counts', 'total_counts', 'log1p_total_counts', 'pct_counts_in_top_1_pct_genes', 'pct_counts_in_top_5_pct_genes', 'pct_counts_in_top_10_pct_genes', 'pct_counts_in_top_20_pct_genes', 'total_counts_mt', 'log1p_total_counts_mt', 'pct_counts_mt', 'total_counts_ribo', 'log1p_total_counts_ribo', 'pct_counts_ribo', 'total_counts_hb', 'log1p_total_counts_hb', 'pct_counts_hb'\n",
       "    var: 'Gene', 'highly_variable', 'highly_variable_rank', 'means', 'variances', 'variances_norm', 'mt', 'ribo', 'hb', 'n_cells_by_counts', 'mean_counts', 'log1p_mean_counts', 'pct_dropout_by_counts', 'total_counts_genes', 'log1p_total_counts_genes'\n",
       "    uns: 'X_name', 'name', 'hvg'"
      ]
     },
     "execution_count": 9,
     "metadata": {},
     "output_type": "execute_result"
    }
   ],
   "source": [
    "compute_qc_metrics(test)"
   ]
  },
  {
   "cell_type": "code",
   "execution_count": 13,
   "id": "5725808e-756f-44a6-a945-b429642ff818",
   "metadata": {},
   "outputs": [
    {
     "data": {
      "text/plain": [
       "'MH_5'"
      ]
     },
     "execution_count": 13,
     "metadata": {},
     "output_type": "execute_result"
    }
   ],
   "source": [
    "test.uns[\"name\"]"
   ]
  },
  {
   "cell_type": "code",
   "execution_count": null,
   "id": "92417c33-712c-4a0f-8b18-ccd319fd746d",
   "metadata": {},
   "outputs": [],
   "source": []
  }
 ],
 "metadata": {
  "kernelspec": {
   "display_name": "Python 3 (ipykernel)",
   "language": "python",
   "name": "python3"
  },
  "language_info": {
   "codemirror_mode": {
    "name": "ipython",
    "version": 3
   },
   "file_extension": ".py",
   "mimetype": "text/x-python",
   "name": "python",
   "nbconvert_exporter": "python",
   "pygments_lexer": "ipython3",
   "version": "3.12.4"
  }
 },
 "nbformat": 4,
 "nbformat_minor": 5
}
