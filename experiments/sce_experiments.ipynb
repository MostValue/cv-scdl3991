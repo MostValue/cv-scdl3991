{
 "cells": [
  {
   "cell_type": "markdown",
   "id": "b810f99d-9734-43ae-88fa-9b2cf8424861",
   "metadata": {},
   "source": [
    "# SCE Experiments"
   ]
  },
  {
   "cell_type": "markdown",
   "id": "794435e9-402d-4a1a-b3fb-2e0e49958b49",
   "metadata": {},
   "source": [
    "Goal:\n",
    "- learn to use SCE data in python\n",
    "- learn to use anndata objects, and ways to manipulate them\n",
    "- compute dataset metrics for each of the datasets in python"
   ]
  },
  {
   "cell_type": "markdown",
   "id": "872691ff-cfb2-4801-b494-6b0c45cca1a0",
   "metadata": {},
   "source": [
    "Notes:\n",
    "1) for 10x visium, filtered matrix_bc_h5\n",
    "2) we can open the data already in scanpy"
   ]
  },
  {
   "cell_type": "markdown",
   "id": "c179ab5e-5d1f-4119-9d67-a91dd0117207",
   "metadata": {},
   "source": [
    "References:\n",
    "- https://www.youtube.com/watch?v=cmOlCTGX4Ik\n",
    "- https://www.youtube.com/watch?v=uvyG9yLuNSE"
   ]
  },
  {
   "cell_type": "markdown",
   "id": "05a08045-b7a3-4e59-b0f9-309b7edf9442",
   "metadata": {},
   "source": [
    "### Setup\n"
   ]
  },
  {
   "cell_type": "code",
   "execution_count": 2,
   "id": "cfae380b-cebe-4727-ad5b-71f3f74846e6",
   "metadata": {},
   "outputs": [
    {
     "name": "stderr",
     "output_type": "stream",
     "text": [
      "/home/kyan/miniforge3/envs/cv-proj/lib/python3.12/site-packages/tqdm/auto.py:21: TqdmWarning: IProgress not found. Please update jupyter and ipywidgets. See https://ipywidgets.readthedocs.io/en/stable/user_install.html\n",
      "  from .autonotebook import tqdm as notebook_tqdm\n"
     ]
    }
   ],
   "source": [
    "import scanpy as sc\n",
    "import scvi\n",
    "import pandas as pd\n",
    "import math\n",
    "import numpy as np\n",
    "# Plotting\n",
    "\n",
    "import seaborn as sns\n",
    "\n",
    "# System\n",
    "from pathlib import Path\n",
    "import os\n",
    "\n",
    "# Ensure you are always in the parent dir\n",
    "os.chdir('/home/kyan/git/cv-scdl3991/')\n",
    "# data_path = Path('data/MH/MH_raw_counts.csv')\n",
    "data_path = Path('data/')\n",
    "dir_path = Path('MSC/osmfish.h5ad')\n",
    "# Warnings \n",
    "\n",
    "import warnings\n",
    "warnings.simplefilter(\"ignore\")"
   ]
  },
  {
   "cell_type": "code",
   "execution_count": 35,
   "id": "810e4781-64cb-42d6-b3c6-95938833877a",
   "metadata": {
    "editable": true,
    "slideshow": {
     "slide_type": ""
    },
    "tags": []
   },
   "outputs": [
    {
     "data": {
      "text/plain": [
       "['MSC', 'HBCA1', 'DLPC', 'MH_raw_counts1.csv', 'MH']"
      ]
     },
     "execution_count": 35,
     "metadata": {},
     "output_type": "execute_result"
    }
   ],
   "source": [
    "os.listdir(data_path)"
   ]
  },
  {
   "cell_type": "code",
   "execution_count": 39,
   "id": "3c83a67f-1675-494e-95b1-9255db18f039",
   "metadata": {},
   "outputs": [],
   "source": [
    "def list_files_in_dir(directory):\n",
    "    file_list = []\n",
    "    for root, dirs, files in os.walk(directory):\n",
    "        for file in files:\n",
    "            file_list.append(os.path.join(root, file))\n",
    "    return file_list"
   ]
  },
  {
   "cell_type": "code",
   "execution_count": 50,
   "id": "ecec619f-aca6-413c-bf08-47196e696aa6",
   "metadata": {},
   "outputs": [
    {
     "data": {
      "text/plain": [
       "['data/MH_raw_counts1.csv',\n",
       " 'data/MSC/mRNA_coords_raw_counting.hdf5:Zone.Identifier',\n",
       " 'data/MSC/osmfish.h5ad',\n",
       " 'data/MSC/osmfish_remove_excluded.h5ad:Zone.Identifier',\n",
       " 'data/MSC/MSC_gene_expression_FINAL.h5ad']"
      ]
     },
     "execution_count": 50,
     "metadata": {},
     "output_type": "execute_result"
    }
   ],
   "source": [
    "list_files_in_dir(data_path)[:5]"
   ]
  },
  {
   "cell_type": "code",
   "execution_count": 45,
   "id": "d6a5f683-9476-4e1a-977e-bc69695d58ce",
   "metadata": {},
   "outputs": [],
   "source": [
    "final_datas = [x for x in list_files_in_dir(data_path) if x.endswith(\"FINAL.h5ad\")]"
   ]
  },
  {
   "cell_type": "code",
   "execution_count": 46,
   "id": "a8390f2b-d06e-46e5-a586-cf4d659ec43b",
   "metadata": {},
   "outputs": [
    {
     "data": {
      "text/plain": [
       "['data/MSC/MSC_gene_expression_FINAL.h5ad']"
      ]
     },
     "execution_count": 46,
     "metadata": {},
     "output_type": "execute_result"
    }
   ],
   "source": [
    "final_datas"
   ]
  },
  {
   "cell_type": "markdown",
   "id": "875572c4-cd55-4387-84ef-7ab0712c3299",
   "metadata": {},
   "source": [
    "### General Workflow"
   ]
  },
  {
   "cell_type": "code",
   "execution_count": 10,
   "id": "0e1d3532-694a-46e6-8c0d-1bb47d78a01f",
   "metadata": {},
   "outputs": [],
   "source": [
    "# !cat data/MH/MH_raw_counts1.csv | head"
   ]
  },
  {
   "cell_type": "code",
   "execution_count": 47,
   "id": "16e74f99-612e-4cae-9199-8f833fb33040",
   "metadata": {},
   "outputs": [],
   "source": [
    "test_data = final_datas[0]\n",
    "adata = sc.read_h5ad(test_data)"
   ]
  },
  {
   "cell_type": "code",
   "execution_count": 48,
   "id": "7d569eae-7d7c-4065-9649-fbaa2ec51b3f",
   "metadata": {},
   "outputs": [
    {
     "data": {
      "text/plain": [
       "AnnData object with n_obs × n_vars = 4839 × 33\n",
       "    obs: 'ClusterName', 'ClusterID', 'Region'\n",
       "    uns: 'ClusterName_colors'\n",
       "    obsm: 'spatial'"
      ]
     },
     "execution_count": 48,
     "metadata": {},
     "output_type": "execute_result"
    }
   ],
   "source": [
    "adata"
   ]
  },
  {
   "cell_type": "code",
   "execution_count": 146,
   "id": "1d20795f-f96e-4329-b807-e5d3c58ac0f9",
   "metadata": {},
   "outputs": [],
   "source": [
    "adata.uns[\"name\"] = Path(final_datas[0]).parent.name.split('/')[-1]"
   ]
  },
  {
   "cell_type": "code",
   "execution_count": 49,
   "id": "927d0d5c-b64e-4ca9-94f5-cb85ef20c86e",
   "metadata": {},
   "outputs": [
    {
     "data": {
      "text/html": [
       "<div>\n",
       "<style scoped>\n",
       "    .dataframe tbody tr th:only-of-type {\n",
       "        vertical-align: middle;\n",
       "    }\n",
       "\n",
       "    .dataframe tbody tr th {\n",
       "        vertical-align: top;\n",
       "    }\n",
       "\n",
       "    .dataframe thead th {\n",
       "        text-align: right;\n",
       "    }\n",
       "</style>\n",
       "<table border=\"1\" class=\"dataframe\">\n",
       "  <thead>\n",
       "    <tr style=\"text-align: right;\">\n",
       "      <th></th>\n",
       "      <th>ClusterName</th>\n",
       "      <th>ClusterID</th>\n",
       "      <th>Region</th>\n",
       "    </tr>\n",
       "  </thead>\n",
       "  <tbody>\n",
       "    <tr>\n",
       "      <th>cell_778</th>\n",
       "      <td>Inhibitory_CP</td>\n",
       "      <td>18</td>\n",
       "      <td>Layer 6</td>\n",
       "    </tr>\n",
       "    <tr>\n",
       "      <th>cell_1409</th>\n",
       "      <td>Inhibitory_CP</td>\n",
       "      <td>18</td>\n",
       "      <td>Internal Capsule Caudoputamen</td>\n",
       "    </tr>\n",
       "    <tr>\n",
       "      <th>cell_3642</th>\n",
       "      <td>Inhibitory_CP</td>\n",
       "      <td>18</td>\n",
       "      <td>Layer 4</td>\n",
       "    </tr>\n",
       "    <tr>\n",
       "      <th>cell_1302</th>\n",
       "      <td>Inhibitory_CP</td>\n",
       "      <td>18</td>\n",
       "      <td>Internal Capsule Caudoputamen</td>\n",
       "    </tr>\n",
       "    <tr>\n",
       "      <th>cell_1285</th>\n",
       "      <td>Inhibitory_CP</td>\n",
       "      <td>18</td>\n",
       "      <td>Internal Capsule Caudoputamen</td>\n",
       "    </tr>\n",
       "  </tbody>\n",
       "</table>\n",
       "</div>"
      ],
      "text/plain": [
       "             ClusterName ClusterID                         Region\n",
       "cell_778   Inhibitory_CP        18                        Layer 6\n",
       "cell_1409  Inhibitory_CP        18  Internal Capsule Caudoputamen\n",
       "cell_3642  Inhibitory_CP        18                        Layer 4\n",
       "cell_1302  Inhibitory_CP        18  Internal Capsule Caudoputamen\n",
       "cell_1285  Inhibitory_CP        18  Internal Capsule Caudoputamen"
      ]
     },
     "execution_count": 49,
     "metadata": {},
     "output_type": "execute_result"
    }
   ],
   "source": [
    "adata.obs[:5] # metadata, e.g. cell barcodes"
   ]
  },
  {
   "cell_type": "code",
   "execution_count": 9,
   "id": "76df3b69-2210-4a5a-be09-8a9aa09d509d",
   "metadata": {},
   "outputs": [
    {
     "data": {
      "text/html": [
       "<div>\n",
       "<style scoped>\n",
       "    .dataframe tbody tr th:only-of-type {\n",
       "        vertical-align: middle;\n",
       "    }\n",
       "\n",
       "    .dataframe tbody tr th {\n",
       "        vertical-align: top;\n",
       "    }\n",
       "\n",
       "    .dataframe thead th {\n",
       "        text-align: right;\n",
       "    }\n",
       "</style>\n",
       "<table border=\"1\" class=\"dataframe\">\n",
       "  <thead>\n",
       "    <tr style=\"text-align: right;\">\n",
       "      <th></th>\n",
       "    </tr>\n",
       "  </thead>\n",
       "  <tbody>\n",
       "    <tr>\n",
       "      <th>Gad2</th>\n",
       "    </tr>\n",
       "    <tr>\n",
       "      <th>Slc32a1</th>\n",
       "    </tr>\n",
       "    <tr>\n",
       "      <th>Crhbp</th>\n",
       "    </tr>\n",
       "    <tr>\n",
       "      <th>Cnr1</th>\n",
       "    </tr>\n",
       "    <tr>\n",
       "      <th>Vip</th>\n",
       "    </tr>\n",
       "  </tbody>\n",
       "</table>\n",
       "</div>"
      ],
      "text/plain": [
       "Empty DataFrame\n",
       "Columns: []\n",
       "Index: [Gad2, Slc32a1, Crhbp, Cnr1, Vip]"
      ]
     },
     "execution_count": 9,
     "metadata": {},
     "output_type": "execute_result"
    }
   ],
   "source": [
    "adata.var[:5] # variables, e.g. the genes"
   ]
  },
  {
   "cell_type": "markdown",
   "id": "d0ab397f-d043-4a81-8da1-9b0adae650f7",
   "metadata": {},
   "source": [
    "Is adata.X supposed to be 0,1 only? If I have values here, does it mean they were already log transformed?"
   ]
  },
  {
   "cell_type": "code",
   "execution_count": 11,
   "id": "87384039-cf7b-4672-8016-66d58f0f793f",
   "metadata": {},
   "outputs": [
    {
     "data": {
      "text/plain": [
       "(array([[ 268.4723  ,  867.64154 ,    0.      , ...,    0.      ,\n",
       "          107.823784,  101.62062 ],\n",
       "        [ 151.82317 ,  680.6384  ,   51.181667, ...,    0.      ,\n",
       "          700.2619  ,  125.70961 ],\n",
       "        [ 791.82306 , 1126.7451  ,  224.78687 , ...,    0.      ,\n",
       "          117.16225 ,   36.807278],\n",
       "        ...,\n",
       "        [ 126.26297 ,    0.      ,    0.      , ...,  556.5547  ,\n",
       "            0.      ,  929.2957  ],\n",
       "        [  89.91866 ,    0.      ,    0.      , ...,    0.      ,\n",
       "            0.      , 1191.2427  ],\n",
       "        [  75.9398  ,    0.      ,    0.      , ...,    0.      ,\n",
       "          266.8656  ,  838.37555 ]], dtype=float32),\n",
       " (4839, 33))"
      ]
     },
     "execution_count": 11,
     "metadata": {},
     "output_type": "execute_result"
    }
   ],
   "source": [
    "adata.X, adata.X.shape # the matrix. "
   ]
  },
  {
   "cell_type": "code",
   "execution_count": 140,
   "id": "7d1984ef-50fe-4ac2-bcb6-4ddfe71689ca",
   "metadata": {},
   "outputs": [
    {
     "data": {
      "text/plain": [
       "array([5327.9995, 5327.9995, 5328.    , ..., 5328.    , 5328.    ,\n",
       "       5328.    ], dtype=float32)"
      ]
     },
     "execution_count": 140,
     "metadata": {},
     "output_type": "execute_result"
    }
   ],
   "source": [
    "adata.X.sum(axis=1) # might have already been normalised to 5328"
   ]
  },
  {
   "cell_type": "markdown",
   "id": "c80ecc15-2af8-4a7c-9440-ea47fc601a89",
   "metadata": {},
   "source": [
    "## QC Metrics"
   ]
  },
  {
   "cell_type": "markdown",
   "id": "0579b20d-8aa5-45a9-9413-fcb00e459e94",
   "metadata": {},
   "source": [
    "Generate QC metrics for each dataset and add to the obs table."
   ]
  },
  {
   "cell_type": "code",
   "execution_count": 58,
   "id": "c565dda0-8c56-42ca-a017-a2be847e76b8",
   "metadata": {},
   "outputs": [],
   "source": [
    "# # extracting all the mouse mitochondrial genes, and saving it into a csv\n",
    "# temp_mouse_df = pd.read_excel(data_path /\"Mouse.MitoCarta3.0.xls\" , sheet_name=1)\n",
    "    \n",
    "#  # Extract the third column (column number 2, as columns are 0-indexed)\n",
    "# third_column = temp_mouse_df.iloc[:, 2]\n",
    "# output_df = pd.DataFrame(third_column)\n",
    "# output_df.to_csv(\"mouse_mt_genes\", )"
   ]
  },
  {
   "cell_type": "code",
   "execution_count": 70,
   "id": "f0c719a0-1539-480b-ac78-570b29d7c52d",
   "metadata": {},
   "outputs": [
    {
     "data": {
      "text/plain": [
       "1140"
      ]
     },
     "execution_count": 70,
     "metadata": {},
     "output_type": "execute_result"
    }
   ],
   "source": [
    "mouse_mt_genes = pd.read_csv(data_path / \"mouse_mt_genes\", index_col = 0)\n",
    "mouse_mt_genes = mouse_mt_genes[\"Symbol\"].to_list()\n",
    "len(mouse_mt_genes)"
   ]
  },
  {
   "cell_type": "code",
   "execution_count": 82,
   "id": "f00caa54-320b-49fd-8423-d05e52bfb64b",
   "metadata": {},
   "outputs": [
    {
     "data": {
      "text/plain": [
       "Index(['Gad2', 'Slc32a1', 'Crhbp', 'Cnr1', 'Vip', 'Cpne5', 'Pthlh', 'Crh',\n",
       "       'Tbr1', 'Lamp5', 'Rorb', 'Syt6', 'Kcnip2', 'Aldoc', 'Gfap', 'Serpinf1',\n",
       "       'Mfge8', 'Sox10', 'Plp1', 'Pdgfra', 'Bmp4', 'Itpr2', 'Tmem2', 'Ctps',\n",
       "       'Anln', 'Mrc1', 'Hexb', 'Ttr', 'Foxj1', 'Vtn', 'Flt1', 'Apln', 'Acta2'],\n",
       "      dtype='object')"
      ]
     },
     "execution_count": 82,
     "metadata": {},
     "output_type": "execute_result"
    }
   ],
   "source": [
    "adata.var_names"
   ]
  },
  {
   "cell_type": "code",
   "execution_count": 81,
   "id": "88c6f90a-b0d2-4a6d-8d12-a3cc44a64aad",
   "metadata": {},
   "outputs": [
    {
     "data": {
      "text/plain": [
       "[False,\n",
       " False,\n",
       " False,\n",
       " False,\n",
       " False,\n",
       " False,\n",
       " False,\n",
       " False,\n",
       " False,\n",
       " False,\n",
       " False,\n",
       " False,\n",
       " False,\n",
       " False,\n",
       " False,\n",
       " False,\n",
       " False,\n",
       " False,\n",
       " False,\n",
       " False,\n",
       " False,\n",
       " False,\n",
       " False,\n",
       " False,\n",
       " False,\n",
       " False,\n",
       " False,\n",
       " False,\n",
       " False,\n",
       " False,\n",
       " False,\n",
       " False,\n",
       " False]"
      ]
     },
     "execution_count": 81,
     "metadata": {},
     "output_type": "execute_result"
    }
   ],
   "source": [
    "[x in mouse_mt_genes for x in adata.var_names]"
   ]
  },
  {
   "cell_type": "code",
   "execution_count": 125,
   "id": "58c70ee6-ef56-4c14-ab51-ffc15007b7f8",
   "metadata": {},
   "outputs": [
    {
     "data": {
      "text/plain": [
       "[1, 2, 4, 7]"
      ]
     },
     "execution_count": 125,
     "metadata": {},
     "output_type": "execute_result"
    }
   ],
   "source": []
  },
  {
   "cell_type": "code",
   "execution_count": 174,
   "id": "d5532680-2fd7-4bc0-9d45-25cfd0f19186",
   "metadata": {},
   "outputs": [],
   "source": [
    "def compute_qc_metrics(adata):\n",
    "    \n",
    "    # default is no filtering \n",
    "    # sc.pp.filter_cells(adata, min_genes = 200) \n",
    "    \n",
    "    adata.var[\"mt\"] = adata.var_names.str.startswith((\"^(?i)MT-\"))\n",
    "    adata.var[\"ribo\"] = adata.var_names.str.startswith((\"RPS\", \"RPL\"))\n",
    "    adata.var[\"hb\"] = adata.var_names.str.contains((\"^HB[^(P)]\"))\n",
    "\n",
    "\n",
    "    # To calculate the % of counts assigned to the top x genes per cell. Some data have very small cell counts so % were used instead\n",
    "    n_genes = len(adata.var)\n",
    "    percents = [0.01, 0.05, 0.1, 0.2] # 1% , 5%, 10%, 20% of genes)\n",
    "    ceiling_values = [math.ceil(n_genes * p) for p in percents]\n",
    "    sc.pp.calculate_qc_metrics(adata, qc_vars=[\"mt\", \"ribo\", \"hb\"], inplace=True, percent_top=ceiling_values, log1p=True)\n",
    "\n",
    "    # Doing some renaming\n",
    "    percent_names = [f\"pct_counts_in_top_{n}_genes\" for n in ceiling_values]\n",
    "    new_names = [f\"pct_counts_in_top_{round(n*100)}_pct_genes\" for n in percents]\n",
    "    adata.rename(dict(zip(percent_names, new_names)))\n",
    "    # remove = ['total_counts_mt', 'log1p_total_counts_mt', 'total_counts_ribo', \n",
    "    #       'log1p_total_counts_ribo', 'total_counts_hb', 'log1p_total_counts_hb']\n",
    "    \n",
    "    # adata.obs = adata.obs[[x for x in adata.obs.columns if x not in remove]]\n",
    "    \n",
    "    #### Other Metrics #####\n",
    "    adata.var['pct_highly_var_genes'] = adata.var[\"highly_variable\"].sum() / len(adata.var)\n",
    "    \n",
    "    return adata"
   ]
  },
  {
   "cell_type": "code",
   "execution_count": 167,
   "id": "815f3a24-062b-43a8-96d2-246804e8b0c2",
   "metadata": {},
   "outputs": [
    {
     "name": "stdout",
     "output_type": "stream",
     "text": [
      "{'pct_counts_in_top_1_genes': 'pct_counts_in_top_1_pct_genes', 'pct_counts_in_top_2_genes': 'pct_counts_in_top_5_pct_genes', 'pct_counts_in_top_4_genes': 'pct_counts_in_top_10_pct_genes', 'pct_counts_in_top_7_genes': 'pct_counts_in_top_20_pct_genes'}\n"
     ]
    }
   ],
   "source": [
    "percent_names = [f\"pct_counts_in_top_{n}_genes\" for n in ceiling_values]\n",
    "new_names = [f\"pct_counts_in_top_{round(n*100)}_pct_genes\" for n in percents]\n",
    "print(dict(zip(percent_names, new_names)))"
   ]
  },
  {
   "cell_type": "code",
   "execution_count": 127,
   "id": "aa13d454-0bf3-44f5-940e-567613989bea",
   "metadata": {},
   "outputs": [
    {
     "data": {
      "text/plain": [
       "AnnData object with n_obs × n_vars = 4839 × 33\n",
       "    obs: 'ClusterName', 'ClusterID', 'Region', 'n_genes_by_counts', 'log1p_n_genes_by_counts', 'total_counts', 'log1p_total_counts', 'pct_counts_in_top_20_genes', 'total_counts_mt', 'log1p_total_counts_mt', 'pct_counts_mt', 'total_counts_ribo', 'log1p_total_counts_ribo', 'pct_counts_ribo', 'total_counts_hb', 'log1p_total_counts_hb', 'pct_counts_hb', '_scvi_batch', '_scvi_labels', 'doublet', 'pct_counts_in_top_1_genes', 'pct_counts_in_top_2_genes', 'pct_counts_in_top_4_genes', 'pct_counts_in_top_7_genes'\n",
       "    var: 'mt', 'ribo', 'hb', 'n_cells_by_counts', 'mean_counts', 'log1p_mean_counts', 'pct_dropout_by_counts', 'total_counts', 'log1p_total_counts', 'highly_variable', 'highly_variable_rank', 'means', 'variances', 'variances_norm'\n",
       "    uns: 'ClusterName_colors', 'hvg', '_scvi_uuid', '_scvi_manager_uuid'\n",
       "    obsm: 'spatial'"
      ]
     },
     "execution_count": 127,
     "metadata": {},
     "output_type": "execute_result"
    }
   ],
   "source": [
    "compute_qc_metrics(adata)"
   ]
  },
  {
   "cell_type": "code",
   "execution_count": 129,
   "id": "656afe11-88fa-4f14-bf59-5403a9241a4a",
   "metadata": {},
   "outputs": [
    {
     "data": {
      "text/html": [
       "<div>\n",
       "<style scoped>\n",
       "    .dataframe tbody tr th:only-of-type {\n",
       "        vertical-align: middle;\n",
       "    }\n",
       "\n",
       "    .dataframe tbody tr th {\n",
       "        vertical-align: top;\n",
       "    }\n",
       "\n",
       "    .dataframe thead th {\n",
       "        text-align: right;\n",
       "    }\n",
       "</style>\n",
       "<table border=\"1\" class=\"dataframe\">\n",
       "  <thead>\n",
       "    <tr style=\"text-align: right;\">\n",
       "      <th></th>\n",
       "      <th>mt</th>\n",
       "      <th>ribo</th>\n",
       "      <th>hb</th>\n",
       "      <th>n_cells_by_counts</th>\n",
       "      <th>mean_counts</th>\n",
       "      <th>log1p_mean_counts</th>\n",
       "      <th>pct_dropout_by_counts</th>\n",
       "      <th>total_counts</th>\n",
       "      <th>log1p_total_counts</th>\n",
       "      <th>highly_variable</th>\n",
       "      <th>highly_variable_rank</th>\n",
       "      <th>means</th>\n",
       "      <th>variances</th>\n",
       "      <th>variances_norm</th>\n",
       "    </tr>\n",
       "  </thead>\n",
       "  <tbody>\n",
       "    <tr>\n",
       "      <th>Gad2</th>\n",
       "      <td>False</td>\n",
       "      <td>False</td>\n",
       "      <td>False</td>\n",
       "      <td>4515</td>\n",
       "      <td>151.852249</td>\n",
       "      <td>5.029472</td>\n",
       "      <td>6.695598</td>\n",
       "      <td>734813.00000</td>\n",
       "      <td>13.507373</td>\n",
       "      <td>True</td>\n",
       "      <td>23.0</td>\n",
       "      <td>151.852519</td>\n",
       "      <td>45813.907012</td>\n",
       "      <td>0.857496</td>\n",
       "    </tr>\n",
       "    <tr>\n",
       "      <th>Slc32a1</th>\n",
       "      <td>False</td>\n",
       "      <td>False</td>\n",
       "      <td>False</td>\n",
       "      <td>2391</td>\n",
       "      <td>124.746445</td>\n",
       "      <td>4.834268</td>\n",
       "      <td>50.588965</td>\n",
       "      <td>603648.06250</td>\n",
       "      <td>13.310748</td>\n",
       "      <td>True</td>\n",
       "      <td>28.0</td>\n",
       "      <td>124.746550</td>\n",
       "      <td>73946.579551</td>\n",
       "      <td>0.749794</td>\n",
       "    </tr>\n",
       "    <tr>\n",
       "      <th>Crhbp</th>\n",
       "      <td>False</td>\n",
       "      <td>False</td>\n",
       "      <td>False</td>\n",
       "      <td>1676</td>\n",
       "      <td>100.057365</td>\n",
       "      <td>4.615688</td>\n",
       "      <td>65.364745</td>\n",
       "      <td>484177.59375</td>\n",
       "      <td>13.090209</td>\n",
       "      <td>True</td>\n",
       "      <td>16.0</td>\n",
       "      <td>100.057345</td>\n",
       "      <td>96882.573388</td>\n",
       "      <td>0.991510</td>\n",
       "    </tr>\n",
       "    <tr>\n",
       "      <th>Cnr1</th>\n",
       "      <td>False</td>\n",
       "      <td>False</td>\n",
       "      <td>False</td>\n",
       "      <td>3789</td>\n",
       "      <td>180.343826</td>\n",
       "      <td>5.200395</td>\n",
       "      <td>21.698698</td>\n",
       "      <td>872683.75000</td>\n",
       "      <td>13.679330</td>\n",
       "      <td>True</td>\n",
       "      <td>4.0</td>\n",
       "      <td>180.343607</td>\n",
       "      <td>59376.838508</td>\n",
       "      <td>1.389423</td>\n",
       "    </tr>\n",
       "    <tr>\n",
       "      <th>Vip</th>\n",
       "      <td>False</td>\n",
       "      <td>False</td>\n",
       "      <td>False</td>\n",
       "      <td>3981</td>\n",
       "      <td>162.183914</td>\n",
       "      <td>5.094878</td>\n",
       "      <td>17.730936</td>\n",
       "      <td>784807.93750</td>\n",
       "      <td>13.573195</td>\n",
       "      <td>True</td>\n",
       "      <td>13.0</td>\n",
       "      <td>162.184042</td>\n",
       "      <td>48396.231039</td>\n",
       "      <td>1.098261</td>\n",
       "    </tr>\n",
       "  </tbody>\n",
       "</table>\n",
       "</div>"
      ],
      "text/plain": [
       "            mt   ribo     hb  n_cells_by_counts  mean_counts  \\\n",
       "Gad2     False  False  False               4515   151.852249   \n",
       "Slc32a1  False  False  False               2391   124.746445   \n",
       "Crhbp    False  False  False               1676   100.057365   \n",
       "Cnr1     False  False  False               3789   180.343826   \n",
       "Vip      False  False  False               3981   162.183914   \n",
       "\n",
       "         log1p_mean_counts  pct_dropout_by_counts  total_counts  \\\n",
       "Gad2              5.029472               6.695598  734813.00000   \n",
       "Slc32a1           4.834268              50.588965  603648.06250   \n",
       "Crhbp             4.615688              65.364745  484177.59375   \n",
       "Cnr1              5.200395              21.698698  872683.75000   \n",
       "Vip               5.094878              17.730936  784807.93750   \n",
       "\n",
       "         log1p_total_counts  highly_variable  highly_variable_rank  \\\n",
       "Gad2              13.507373             True                  23.0   \n",
       "Slc32a1           13.310748             True                  28.0   \n",
       "Crhbp             13.090209             True                  16.0   \n",
       "Cnr1              13.679330             True                   4.0   \n",
       "Vip               13.573195             True                  13.0   \n",
       "\n",
       "              means     variances  variances_norm  \n",
       "Gad2     151.852519  45813.907012        0.857496  \n",
       "Slc32a1  124.746550  73946.579551        0.749794  \n",
       "Crhbp    100.057345  96882.573388        0.991510  \n",
       "Cnr1     180.343607  59376.838508        1.389423  \n",
       "Vip      162.184042  48396.231039        1.098261  "
      ]
     },
     "execution_count": 129,
     "metadata": {},
     "output_type": "execute_result"
    }
   ],
   "source": [
    "adata.var[:5]"
   ]
  },
  {
   "cell_type": "code",
   "execution_count": 130,
   "id": "195247f0-e51b-4c3c-aafb-f104a8cb2313",
   "metadata": {},
   "outputs": [
    {
     "data": {
      "text/html": [
       "<div>\n",
       "<style scoped>\n",
       "    .dataframe tbody tr th:only-of-type {\n",
       "        vertical-align: middle;\n",
       "    }\n",
       "\n",
       "    .dataframe tbody tr th {\n",
       "        vertical-align: top;\n",
       "    }\n",
       "\n",
       "    .dataframe thead th {\n",
       "        text-align: right;\n",
       "    }\n",
       "</style>\n",
       "<table border=\"1\" class=\"dataframe\">\n",
       "  <thead>\n",
       "    <tr style=\"text-align: right;\">\n",
       "      <th></th>\n",
       "      <th>ClusterName</th>\n",
       "      <th>ClusterID</th>\n",
       "      <th>Region</th>\n",
       "      <th>n_genes_by_counts</th>\n",
       "      <th>log1p_n_genes_by_counts</th>\n",
       "      <th>total_counts</th>\n",
       "      <th>log1p_total_counts</th>\n",
       "      <th>pct_counts_in_top_20_genes</th>\n",
       "      <th>total_counts_mt</th>\n",
       "      <th>log1p_total_counts_mt</th>\n",
       "      <th>...</th>\n",
       "      <th>total_counts_hb</th>\n",
       "      <th>log1p_total_counts_hb</th>\n",
       "      <th>pct_counts_hb</th>\n",
       "      <th>_scvi_batch</th>\n",
       "      <th>_scvi_labels</th>\n",
       "      <th>doublet</th>\n",
       "      <th>pct_counts_in_top_1_genes</th>\n",
       "      <th>pct_counts_in_top_2_genes</th>\n",
       "      <th>pct_counts_in_top_4_genes</th>\n",
       "      <th>pct_counts_in_top_7_genes</th>\n",
       "    </tr>\n",
       "  </thead>\n",
       "  <tbody>\n",
       "    <tr>\n",
       "      <th>cell_778</th>\n",
       "      <td>Inhibitory_CP</td>\n",
       "      <td>18</td>\n",
       "      <td>Layer 6</td>\n",
       "      <td>28</td>\n",
       "      <td>3.367296</td>\n",
       "      <td>5327.999512</td>\n",
       "      <td>8.580919</td>\n",
       "      <td>92.796962</td>\n",
       "      <td>0.0</td>\n",
       "      <td>0.0</td>\n",
       "      <td>...</td>\n",
       "      <td>0.0</td>\n",
       "      <td>0.0</td>\n",
       "      <td>0.0</td>\n",
       "      <td>0</td>\n",
       "      <td>0</td>\n",
       "      <td>False</td>\n",
       "      <td>16.284565</td>\n",
       "      <td>28.040978</td>\n",
       "      <td>45.822246</td>\n",
       "      <td>62.014791</td>\n",
       "    </tr>\n",
       "    <tr>\n",
       "      <th>cell_1409</th>\n",
       "      <td>Inhibitory_CP</td>\n",
       "      <td>18</td>\n",
       "      <td>Internal Capsule Caudoputamen</td>\n",
       "      <td>28</td>\n",
       "      <td>3.367296</td>\n",
       "      <td>5327.999512</td>\n",
       "      <td>8.580919</td>\n",
       "      <td>93.180375</td>\n",
       "      <td>0.0</td>\n",
       "      <td>0.0</td>\n",
       "      <td>...</td>\n",
       "      <td>0.0</td>\n",
       "      <td>0.0</td>\n",
       "      <td>0.0</td>\n",
       "      <td>0</td>\n",
       "      <td>0</td>\n",
       "      <td>False</td>\n",
       "      <td>13.143055</td>\n",
       "      <td>25.917801</td>\n",
       "      <td>42.124959</td>\n",
       "      <td>59.065557</td>\n",
       "    </tr>\n",
       "    <tr>\n",
       "      <th>cell_3642</th>\n",
       "      <td>Inhibitory_CP</td>\n",
       "      <td>18</td>\n",
       "      <td>Layer 4</td>\n",
       "      <td>29</td>\n",
       "      <td>3.401197</td>\n",
       "      <td>5328.000000</td>\n",
       "      <td>8.580919</td>\n",
       "      <td>94.365942</td>\n",
       "      <td>0.0</td>\n",
       "      <td>0.0</td>\n",
       "      <td>...</td>\n",
       "      <td>0.0</td>\n",
       "      <td>0.0</td>\n",
       "      <td>0.0</td>\n",
       "      <td>0</td>\n",
       "      <td>0</td>\n",
       "      <td>False</td>\n",
       "      <td>21.147619</td>\n",
       "      <td>37.572129</td>\n",
       "      <td>60.825142</td>\n",
       "      <td>71.873849</td>\n",
       "    </tr>\n",
       "    <tr>\n",
       "      <th>cell_1302</th>\n",
       "      <td>Inhibitory_CP</td>\n",
       "      <td>18</td>\n",
       "      <td>Internal Capsule Caudoputamen</td>\n",
       "      <td>20</td>\n",
       "      <td>3.044522</td>\n",
       "      <td>5328.000000</td>\n",
       "      <td>8.580919</td>\n",
       "      <td>99.999991</td>\n",
       "      <td>0.0</td>\n",
       "      <td>0.0</td>\n",
       "      <td>...</td>\n",
       "      <td>0.0</td>\n",
       "      <td>0.0</td>\n",
       "      <td>0.0</td>\n",
       "      <td>0</td>\n",
       "      <td>0</td>\n",
       "      <td>False</td>\n",
       "      <td>20.343375</td>\n",
       "      <td>31.091177</td>\n",
       "      <td>48.675834</td>\n",
       "      <td>67.030899</td>\n",
       "    </tr>\n",
       "    <tr>\n",
       "      <th>cell_1285</th>\n",
       "      <td>Inhibitory_CP</td>\n",
       "      <td>18</td>\n",
       "      <td>Internal Capsule Caudoputamen</td>\n",
       "      <td>26</td>\n",
       "      <td>3.295837</td>\n",
       "      <td>5328.000000</td>\n",
       "      <td>8.580919</td>\n",
       "      <td>94.269303</td>\n",
       "      <td>0.0</td>\n",
       "      <td>0.0</td>\n",
       "      <td>...</td>\n",
       "      <td>0.0</td>\n",
       "      <td>0.0</td>\n",
       "      <td>0.0</td>\n",
       "      <td>0</td>\n",
       "      <td>0</td>\n",
       "      <td>False</td>\n",
       "      <td>22.008201</td>\n",
       "      <td>31.131856</td>\n",
       "      <td>48.182483</td>\n",
       "      <td>62.016866</td>\n",
       "    </tr>\n",
       "  </tbody>\n",
       "</table>\n",
       "<p>5 rows × 24 columns</p>\n",
       "</div>"
      ],
      "text/plain": [
       "             ClusterName ClusterID                         Region  \\\n",
       "cell_778   Inhibitory_CP        18                        Layer 6   \n",
       "cell_1409  Inhibitory_CP        18  Internal Capsule Caudoputamen   \n",
       "cell_3642  Inhibitory_CP        18                        Layer 4   \n",
       "cell_1302  Inhibitory_CP        18  Internal Capsule Caudoputamen   \n",
       "cell_1285  Inhibitory_CP        18  Internal Capsule Caudoputamen   \n",
       "\n",
       "           n_genes_by_counts  log1p_n_genes_by_counts  total_counts  \\\n",
       "cell_778                  28                 3.367296   5327.999512   \n",
       "cell_1409                 28                 3.367296   5327.999512   \n",
       "cell_3642                 29                 3.401197   5328.000000   \n",
       "cell_1302                 20                 3.044522   5328.000000   \n",
       "cell_1285                 26                 3.295837   5328.000000   \n",
       "\n",
       "           log1p_total_counts  pct_counts_in_top_20_genes  total_counts_mt  \\\n",
       "cell_778             8.580919                   92.796962              0.0   \n",
       "cell_1409            8.580919                   93.180375              0.0   \n",
       "cell_3642            8.580919                   94.365942              0.0   \n",
       "cell_1302            8.580919                   99.999991              0.0   \n",
       "cell_1285            8.580919                   94.269303              0.0   \n",
       "\n",
       "           log1p_total_counts_mt  ...  total_counts_hb  log1p_total_counts_hb  \\\n",
       "cell_778                     0.0  ...              0.0                    0.0   \n",
       "cell_1409                    0.0  ...              0.0                    0.0   \n",
       "cell_3642                    0.0  ...              0.0                    0.0   \n",
       "cell_1302                    0.0  ...              0.0                    0.0   \n",
       "cell_1285                    0.0  ...              0.0                    0.0   \n",
       "\n",
       "           pct_counts_hb  _scvi_batch  _scvi_labels  doublet  \\\n",
       "cell_778             0.0            0             0    False   \n",
       "cell_1409            0.0            0             0    False   \n",
       "cell_3642            0.0            0             0    False   \n",
       "cell_1302            0.0            0             0    False   \n",
       "cell_1285            0.0            0             0    False   \n",
       "\n",
       "           pct_counts_in_top_1_genes  pct_counts_in_top_2_genes  \\\n",
       "cell_778                   16.284565                  28.040978   \n",
       "cell_1409                  13.143055                  25.917801   \n",
       "cell_3642                  21.147619                  37.572129   \n",
       "cell_1302                  20.343375                  31.091177   \n",
       "cell_1285                  22.008201                  31.131856   \n",
       "\n",
       "           pct_counts_in_top_4_genes  pct_counts_in_top_7_genes  \n",
       "cell_778                   45.822246                  62.014791  \n",
       "cell_1409                  42.124959                  59.065557  \n",
       "cell_3642                  60.825142                  71.873849  \n",
       "cell_1302                  48.675834                  67.030899  \n",
       "cell_1285                  48.182483                  62.016866  \n",
       "\n",
       "[5 rows x 24 columns]"
      ]
     },
     "execution_count": 130,
     "metadata": {},
     "output_type": "execute_result"
    }
   ],
   "source": [
    "adata.obs[:5]"
   ]
  },
  {
   "cell_type": "code",
   "execution_count": 51,
   "id": "5ce52fd5-095a-48a4-a032-d92857b8bd3a",
   "metadata": {},
   "outputs": [
    {
     "data": {
      "text/plain": [
       "Index(['Gad2', 'Slc32a1', 'Crhbp', 'Cnr1', 'Vip', 'Cpne5', 'Pthlh', 'Crh',\n",
       "       'Tbr1', 'Lamp5', 'Rorb', 'Syt6', 'Kcnip2', 'Aldoc', 'Gfap', 'Serpinf1',\n",
       "       'Mfge8', 'Sox10', 'Plp1', 'Pdgfra', 'Bmp4', 'Itpr2', 'Tmem2', 'Ctps',\n",
       "       'Anln', 'Mrc1', 'Hexb', 'Ttr', 'Foxj1', 'Vtn', 'Flt1', 'Apln', 'Acta2'],\n",
       "      dtype='object')"
      ]
     },
     "execution_count": 51,
     "metadata": {},
     "output_type": "execute_result"
    }
   ],
   "source": [
    "adata.var_names"
   ]
  },
  {
   "cell_type": "markdown",
   "id": "c3151774-c226-4381-91e6-0e33ef92fa01",
   "metadata": {},
   "source": [
    "## Doublet Removal"
   ]
  },
  {
   "cell_type": "code",
   "execution_count": 92,
   "id": "d4344fde-f79f-496e-851c-294644d9c9f1",
   "metadata": {},
   "outputs": [],
   "source": [
    " # annotate the highly variable genes (likely to be the most important ones)\n",
    "sc.pp.highly_variable_genes(adata, n_top_genes = 2000, subset = True, flavor = 'seurat_v3')"
   ]
  },
  {
   "cell_type": "code",
   "execution_count": 93,
   "id": "3b06d61d-96cf-4901-afc2-a6e6fd9b0a6a",
   "metadata": {},
   "outputs": [
    {
     "name": "stderr",
     "output_type": "stream",
     "text": [
      "An NVIDIA GPU may be present on this machine, but a CUDA-enabled jaxlib is not installed. Falling back to cpu.\n",
      "GPU available: True (cuda), used: True\n",
      "TPU available: False, using: 0 TPU cores\n",
      "IPU available: False, using: 0 IPUs\n",
      "HPU available: False, using: 0 HPUs\n",
      "You are using a CUDA device ('NVIDIA GeForce RTX 4070 Ti SUPER') that has Tensor Cores. To properly utilize them, you should set `torch.set_float32_matmul_precision('medium' | 'high')` which will trade-off precision for performance. For more details, read https://pytorch.org/docs/stable/generated/torch.set_float32_matmul_precision.html#torch.set_float32_matmul_precision\n",
      "LOCAL_RANK: 0 - CUDA_VISIBLE_DEVICES: [0]\n"
     ]
    },
    {
     "name": "stdout",
     "output_type": "stream",
     "text": [
      "Epoch 400/400: 100%|█████████████████████████████████| 400/400 [02:09<00:00,  3.62it/s, v_num=1, train_loss_step=183, train_loss_epoch=158]"
     ]
    },
    {
     "name": "stderr",
     "output_type": "stream",
     "text": [
      "`Trainer.fit` stopped: `max_epochs=400` reached.\n"
     ]
    },
    {
     "name": "stdout",
     "output_type": "stream",
     "text": [
      "Epoch 400/400: 100%|█████████████████████████████████| 400/400 [02:09<00:00,  3.09it/s, v_num=1, train_loss_step=183, train_loss_epoch=158]\n"
     ]
    }
   ],
   "source": [
    "scvi.model.SCVI.setup_anndata(adata)\n",
    "vae = scvi.model.SCVI(adata)\n",
    "vae.train()"
   ]
  },
  {
   "cell_type": "code",
   "execution_count": 96,
   "id": "b3f84afb-b96f-4a7a-b3e6-5ff73c438c52",
   "metadata": {},
   "outputs": [
    {
     "name": "stdout",
     "output_type": "stream",
     "text": [
      "\u001b[34mINFO    \u001b[0m Creating doublets, preparing SOLO model.                                                                  \n"
     ]
    },
    {
     "name": "stderr",
     "output_type": "stream",
     "text": [
      "GPU available: True (cuda), used: True\n",
      "TPU available: False, using: 0 TPU cores\n",
      "IPU available: False, using: 0 IPUs\n",
      "HPU available: False, using: 0 HPUs\n",
      "LOCAL_RANK: 0 - CUDA_VISIBLE_DEVICES: [0]\n"
     ]
    },
    {
     "name": "stdout",
     "output_type": "stream",
     "text": [
      "Epoch 349/400:  87%|█████████████████████▊   | 349/400 [01:14<00:10,  4.67it/s, v_num=1, train_loss_step=1.67e-5, train_loss_epoch=3.23e-5]\n",
      "Monitored metric validation_loss did not improve in the last 30 records. Best score: 0.000. Signaling Trainer to stop.\n"
     ]
    }
   ],
   "source": [
    "solo = scvi.external.SOLO.from_scvi_model(vae)\n",
    "solo.train()"
   ]
  },
  {
   "cell_type": "code",
   "execution_count": 98,
   "id": "73a8da0d-7686-48be-9ebb-e057b408f22f",
   "metadata": {},
   "outputs": [
    {
     "data": {
      "text/html": [
       "<div>\n",
       "<style scoped>\n",
       "    .dataframe tbody tr th:only-of-type {\n",
       "        vertical-align: middle;\n",
       "    }\n",
       "\n",
       "    .dataframe tbody tr th {\n",
       "        vertical-align: top;\n",
       "    }\n",
       "\n",
       "    .dataframe thead th {\n",
       "        text-align: right;\n",
       "    }\n",
       "</style>\n",
       "<table border=\"1\" class=\"dataframe\">\n",
       "  <thead>\n",
       "    <tr style=\"text-align: right;\">\n",
       "      <th></th>\n",
       "      <th>doublet</th>\n",
       "      <th>singlet</th>\n",
       "    </tr>\n",
       "  </thead>\n",
       "  <tbody>\n",
       "    <tr>\n",
       "      <th>cell_778</th>\n",
       "      <td>4.687270e-06</td>\n",
       "      <td>0.999995</td>\n",
       "    </tr>\n",
       "    <tr>\n",
       "      <th>cell_1409</th>\n",
       "      <td>1.104068e-06</td>\n",
       "      <td>0.999999</td>\n",
       "    </tr>\n",
       "    <tr>\n",
       "      <th>cell_3642</th>\n",
       "      <td>1.257894e-05</td>\n",
       "      <td>0.999987</td>\n",
       "    </tr>\n",
       "    <tr>\n",
       "      <th>cell_1302</th>\n",
       "      <td>4.942190e-06</td>\n",
       "      <td>0.999995</td>\n",
       "    </tr>\n",
       "    <tr>\n",
       "      <th>cell_1285</th>\n",
       "      <td>1.284665e-05</td>\n",
       "      <td>0.999987</td>\n",
       "    </tr>\n",
       "    <tr>\n",
       "      <th>...</th>\n",
       "      <td>...</td>\n",
       "      <td>...</td>\n",
       "    </tr>\n",
       "    <tr>\n",
       "      <th>cell_6462</th>\n",
       "      <td>3.328981e-07</td>\n",
       "      <td>1.000000</td>\n",
       "    </tr>\n",
       "    <tr>\n",
       "      <th>cell_260</th>\n",
       "      <td>1.229384e-05</td>\n",
       "      <td>0.999988</td>\n",
       "    </tr>\n",
       "    <tr>\n",
       "      <th>cell_4446</th>\n",
       "      <td>2.622331e-07</td>\n",
       "      <td>1.000000</td>\n",
       "    </tr>\n",
       "    <tr>\n",
       "      <th>cell_6431</th>\n",
       "      <td>2.563247e-07</td>\n",
       "      <td>1.000000</td>\n",
       "    </tr>\n",
       "    <tr>\n",
       "      <th>cell_5462</th>\n",
       "      <td>3.539784e-06</td>\n",
       "      <td>0.999996</td>\n",
       "    </tr>\n",
       "  </tbody>\n",
       "</table>\n",
       "<p>4839 rows × 2 columns</p>\n",
       "</div>"
      ],
      "text/plain": [
       "                doublet   singlet\n",
       "cell_778   4.687270e-06  0.999995\n",
       "cell_1409  1.104068e-06  0.999999\n",
       "cell_3642  1.257894e-05  0.999987\n",
       "cell_1302  4.942190e-06  0.999995\n",
       "cell_1285  1.284665e-05  0.999987\n",
       "...                 ...       ...\n",
       "cell_6462  3.328981e-07  1.000000\n",
       "cell_260   1.229384e-05  0.999988\n",
       "cell_4446  2.622331e-07  1.000000\n",
       "cell_6431  2.563247e-07  1.000000\n",
       "cell_5462  3.539784e-06  0.999996\n",
       "\n",
       "[4839 rows x 2 columns]"
      ]
     },
     "execution_count": 98,
     "metadata": {},
     "output_type": "execute_result"
    }
   ],
   "source": [
    "solo.predict()"
   ]
  },
  {
   "cell_type": "code",
   "execution_count": 103,
   "id": "1282170a-39e9-47e2-9b20-8fea8559978c",
   "metadata": {},
   "outputs": [],
   "source": [
    "df = solo.predict()\n",
    "df['predict'] = solo.predict(soft = False) # returns the actual probs instead of labels"
   ]
  },
  {
   "cell_type": "code",
   "execution_count": 105,
   "id": "d6f9e881-5403-4a0c-bf1f-3313908cb9e8",
   "metadata": {},
   "outputs": [
    {
     "data": {
      "text/html": [
       "<div>\n",
       "<style scoped>\n",
       "    .dataframe tbody tr th:only-of-type {\n",
       "        vertical-align: middle;\n",
       "    }\n",
       "\n",
       "    .dataframe tbody tr th {\n",
       "        vertical-align: top;\n",
       "    }\n",
       "\n",
       "    .dataframe thead th {\n",
       "        text-align: right;\n",
       "    }\n",
       "</style>\n",
       "<table border=\"1\" class=\"dataframe\">\n",
       "  <thead>\n",
       "    <tr style=\"text-align: right;\">\n",
       "      <th></th>\n",
       "      <th>doublet</th>\n",
       "      <th>singlet</th>\n",
       "    </tr>\n",
       "    <tr>\n",
       "      <th>predict</th>\n",
       "      <th></th>\n",
       "      <th></th>\n",
       "    </tr>\n",
       "  </thead>\n",
       "  <tbody>\n",
       "    <tr>\n",
       "      <th>singlet</th>\n",
       "      <td>4839</td>\n",
       "      <td>4839</td>\n",
       "    </tr>\n",
       "  </tbody>\n",
       "</table>\n",
       "</div>"
      ],
      "text/plain": [
       "         doublet  singlet\n",
       "predict                  \n",
       "singlet     4839     4839"
      ]
     },
     "execution_count": 105,
     "metadata": {},
     "output_type": "execute_result"
    }
   ],
   "source": [
    "df.groupby('predict').count() # appears to have no doublets"
   ]
  },
  {
   "cell_type": "code",
   "execution_count": 106,
   "id": "047dcb20-cb75-45dd-89c9-764288356065",
   "metadata": {},
   "outputs": [],
   "source": [
    "df['difference'] = df.doublet - df.singlet"
   ]
  },
  {
   "cell_type": "code",
   "execution_count": 108,
   "id": "68090df8-8b23-4ea8-9449-0248f7139b97",
   "metadata": {},
   "outputs": [
    {
     "data": {
      "text/plain": [
       "<Axes: xlabel='difference', ylabel='Count'>"
      ]
     },
     "execution_count": 108,
     "metadata": {},
     "output_type": "execute_result"
    },
    {
     "data": {
      "image/png": "[encoded data removed]",
      "text/plain": [
       "<Figure size 640x480 with 1 Axes>"
      ]
     },
     "metadata": {},
     "output_type": "display_data"
    }
   ],
   "source": [
    "sns.histplot(df['difference']) # scale is very tiny, but can vary for multiple datasets"
   ]
  },
  {
   "cell_type": "code",
   "execution_count": 110,
   "id": "27cd853f-6473-44d8-bbca-bddb6e501835",
   "metadata": {},
   "outputs": [
    {
     "data": {
      "text/html": [
       "<div>\n",
       "<style scoped>\n",
       "    .dataframe tbody tr th:only-of-type {\n",
       "        vertical-align: middle;\n",
       "    }\n",
       "\n",
       "    .dataframe tbody tr th {\n",
       "        vertical-align: top;\n",
       "    }\n",
       "\n",
       "    .dataframe thead th {\n",
       "        text-align: right;\n",
       "    }\n",
       "</style>\n",
       "<table border=\"1\" class=\"dataframe\">\n",
       "  <thead>\n",
       "    <tr style=\"text-align: right;\">\n",
       "      <th></th>\n",
       "      <th>doublet</th>\n",
       "      <th>singlet</th>\n",
       "      <th>predict</th>\n",
       "      <th>difference</th>\n",
       "    </tr>\n",
       "  </thead>\n",
       "  <tbody>\n",
       "  </tbody>\n",
       "</table>\n",
       "</div>"
      ],
      "text/plain": [
       "Empty DataFrame\n",
       "Columns: [doublet, singlet, predict, difference]\n",
       "Index: []"
      ]
     },
     "execution_count": 110,
     "metadata": {},
     "output_type": "execute_result"
    }
   ],
   "source": [
    "doublets = df[(df['predict'] == 'doublet') & (df['difference'] > 1)]\n",
    "doublets"
   ]
  },
  {
   "cell_type": "code",
   "execution_count": 112,
   "id": "a9cb5a29-65d1-413f-9543-79e50a5c5846",
   "metadata": {},
   "outputs": [],
   "source": [
    "adata.obs['doublet'] = adata.obs.index.isin(doublets)"
   ]
  },
  {
   "cell_type": "code",
   "execution_count": 136,
   "id": "a1720a58-2799-41b0-b623-e0b485273cf4",
   "metadata": {},
   "outputs": [
    {
     "data": {
      "text/plain": [
       "highly_variable\n",
       "True    33\n",
       "Name: count, dtype: int64"
      ]
     },
     "execution_count": 136,
     "metadata": {},
     "output_type": "execute_result"
    }
   ],
   "source": [
    "adata.var.highly_variable.value_counts()"
   ]
  },
  {
   "cell_type": "code",
   "execution_count": 135,
   "id": "ed4eaa51-b758-42da-b9c3-ee5692cd3639",
   "metadata": {},
   "outputs": [
    {
     "data": {
      "text/html": [
       "<div>\n",
       "<style scoped>\n",
       "    .dataframe tbody tr th:only-of-type {\n",
       "        vertical-align: middle;\n",
       "    }\n",
       "\n",
       "    .dataframe tbody tr th {\n",
       "        vertical-align: top;\n",
       "    }\n",
       "\n",
       "    .dataframe thead th {\n",
       "        text-align: right;\n",
       "    }\n",
       "</style>\n",
       "<table border=\"1\" class=\"dataframe\">\n",
       "  <thead>\n",
       "    <tr style=\"text-align: right;\">\n",
       "      <th></th>\n",
       "      <th>mt</th>\n",
       "      <th>ribo</th>\n",
       "      <th>hb</th>\n",
       "      <th>n_cells_by_counts</th>\n",
       "      <th>mean_counts</th>\n",
       "      <th>log1p_mean_counts</th>\n",
       "      <th>pct_dropout_by_counts</th>\n",
       "      <th>total_counts</th>\n",
       "      <th>log1p_total_counts</th>\n",
       "      <th>highly_variable</th>\n",
       "      <th>highly_variable_rank</th>\n",
       "      <th>means</th>\n",
       "      <th>variances</th>\n",
       "      <th>variances_norm</th>\n",
       "    </tr>\n",
       "  </thead>\n",
       "  <tbody>\n",
       "    <tr>\n",
       "      <th>Gad2</th>\n",
       "      <td>False</td>\n",
       "      <td>False</td>\n",
       "      <td>False</td>\n",
       "      <td>4515</td>\n",
       "      <td>151.852249</td>\n",
       "      <td>5.029472</td>\n",
       "      <td>6.695598</td>\n",
       "      <td>734813.00000</td>\n",
       "      <td>13.507373</td>\n",
       "      <td>True</td>\n",
       "      <td>23.0</td>\n",
       "      <td>151.852519</td>\n",
       "      <td>45813.907012</td>\n",
       "      <td>0.857496</td>\n",
       "    </tr>\n",
       "    <tr>\n",
       "      <th>Slc32a1</th>\n",
       "      <td>False</td>\n",
       "      <td>False</td>\n",
       "      <td>False</td>\n",
       "      <td>2391</td>\n",
       "      <td>124.746445</td>\n",
       "      <td>4.834268</td>\n",
       "      <td>50.588965</td>\n",
       "      <td>603648.06250</td>\n",
       "      <td>13.310748</td>\n",
       "      <td>True</td>\n",
       "      <td>28.0</td>\n",
       "      <td>124.746550</td>\n",
       "      <td>73946.579551</td>\n",
       "      <td>0.749794</td>\n",
       "    </tr>\n",
       "    <tr>\n",
       "      <th>Crhbp</th>\n",
       "      <td>False</td>\n",
       "      <td>False</td>\n",
       "      <td>False</td>\n",
       "      <td>1676</td>\n",
       "      <td>100.057365</td>\n",
       "      <td>4.615688</td>\n",
       "      <td>65.364745</td>\n",
       "      <td>484177.59375</td>\n",
       "      <td>13.090209</td>\n",
       "      <td>True</td>\n",
       "      <td>16.0</td>\n",
       "      <td>100.057345</td>\n",
       "      <td>96882.573388</td>\n",
       "      <td>0.991510</td>\n",
       "    </tr>\n",
       "    <tr>\n",
       "      <th>Cnr1</th>\n",
       "      <td>False</td>\n",
       "      <td>False</td>\n",
       "      <td>False</td>\n",
       "      <td>3789</td>\n",
       "      <td>180.343826</td>\n",
       "      <td>5.200395</td>\n",
       "      <td>21.698698</td>\n",
       "      <td>872683.75000</td>\n",
       "      <td>13.679330</td>\n",
       "      <td>True</td>\n",
       "      <td>4.0</td>\n",
       "      <td>180.343607</td>\n",
       "      <td>59376.838508</td>\n",
       "      <td>1.389423</td>\n",
       "    </tr>\n",
       "    <tr>\n",
       "      <th>Vip</th>\n",
       "      <td>False</td>\n",
       "      <td>False</td>\n",
       "      <td>False</td>\n",
       "      <td>3981</td>\n",
       "      <td>162.183914</td>\n",
       "      <td>5.094878</td>\n",
       "      <td>17.730936</td>\n",
       "      <td>784807.93750</td>\n",
       "      <td>13.573195</td>\n",
       "      <td>True</td>\n",
       "      <td>13.0</td>\n",
       "      <td>162.184042</td>\n",
       "      <td>48396.231039</td>\n",
       "      <td>1.098261</td>\n",
       "    </tr>\n",
       "  </tbody>\n",
       "</table>\n",
       "</div>"
      ],
      "text/plain": [
       "            mt   ribo     hb  n_cells_by_counts  mean_counts  \\\n",
       "Gad2     False  False  False               4515   151.852249   \n",
       "Slc32a1  False  False  False               2391   124.746445   \n",
       "Crhbp    False  False  False               1676   100.057365   \n",
       "Cnr1     False  False  False               3789   180.343826   \n",
       "Vip      False  False  False               3981   162.183914   \n",
       "\n",
       "         log1p_mean_counts  pct_dropout_by_counts  total_counts  \\\n",
       "Gad2              5.029472               6.695598  734813.00000   \n",
       "Slc32a1           4.834268              50.588965  603648.06250   \n",
       "Crhbp             4.615688              65.364745  484177.59375   \n",
       "Cnr1              5.200395              21.698698  872683.75000   \n",
       "Vip               5.094878              17.730936  784807.93750   \n",
       "\n",
       "         log1p_total_counts  highly_variable  highly_variable_rank  \\\n",
       "Gad2              13.507373             True                  23.0   \n",
       "Slc32a1           13.310748             True                  28.0   \n",
       "Crhbp             13.090209             True                  16.0   \n",
       "Cnr1              13.679330             True                   4.0   \n",
       "Vip               13.573195             True                  13.0   \n",
       "\n",
       "              means     variances  variances_norm  \n",
       "Gad2     151.852519  45813.907012        0.857496  \n",
       "Slc32a1  124.746550  73946.579551        0.749794  \n",
       "Crhbp    100.057345  96882.573388        0.991510  \n",
       "Cnr1     180.343607  59376.838508        1.389423  \n",
       "Vip      162.184042  48396.231039        1.098261  "
      ]
     },
     "execution_count": 135,
     "metadata": {},
     "output_type": "execute_result"
    }
   ],
   "source": [
    "adata.var[:5]"
   ]
  },
  {
   "cell_type": "code",
   "execution_count": 133,
   "id": "b42001ba-1212-4a21-b1f2-2a7ec497eef6",
   "metadata": {},
   "outputs": [
    {
     "data": {
      "image/png": "[encoded data removed]",
      "text/plain": [
       "<Figure size 1011.11x500 with 2 Axes>"
      ]
     },
     "metadata": {},
     "output_type": "display_data"
    }
   ],
   "source": [
    "sc.pl.violin(adata, [\"n_genes_by_counts\", \"total_counts\"],\n",
    "            jitter=0.4,\n",
    "            multi_panel=True)\n",
    "\n",
    "# majority of cells have close to 30 genes, with some cells having less (cells with < x) genes are usually filtered out?"
   ]
  },
  {
   "cell_type": "code",
   "execution_count": 134,
   "id": "aa6f9b26-62c1-46f8-b7d0-293e86eabedc",
   "metadata": {},
   "outputs": [
    {
     "data": {
      "text/plain": [
       "mt                          bool\n",
       "ribo                        bool\n",
       "hb                          bool\n",
       "n_cells_by_counts          int64\n",
       "mean_counts              float32\n",
       "log1p_mean_counts        float32\n",
       "pct_dropout_by_counts    float64\n",
       "total_counts             float32\n",
       "log1p_total_counts       float32\n",
       "highly_variable             bool\n",
       "highly_variable_rank     float32\n",
       "means                    float64\n",
       "variances                float64\n",
       "variances_norm           float64\n",
       "dtype: object"
      ]
     },
     "execution_count": 134,
     "metadata": {},
     "output_type": "execute_result"
    }
   ],
   "source": [
    "adata.var.dtypes"
   ]
  },
  {
   "cell_type": "markdown",
   "id": "e32d2143-1b61-49ac-af80-1230013c4a00",
   "metadata": {},
   "source": [
    "## Extracting Dataset Metrics:"
   ]
  },
  {
   "cell_type": "code",
   "execution_count": null,
   "id": "b0da681e-3ca7-41b2-9414-5b0c1d98cdc9",
   "metadata": {},
   "outputs": [],
   "source": [
    "def extract_metrics(adata, agg=np.mean, exclude = None):\n",
    "    \"\"\"\n",
    "    Extracts summary statistics from an AnnData object.\n",
    "    \n",
    "    Parameters:\n",
    "    - adata: AnnData object, after highly variable genes, and doublets have been identified.\n",
    "    - agg: function to apply to each variable (default: np.mean)\n",
    "    \n",
    "    Returns:\n",
    "    - metrics: Dictionary containing summary statistics for each variable.\n",
    "    \"\"\"\n",
    "    try:\n",
    "        index = adata.uns['name']\n",
    "    except:\n",
    "        print(\"No name set for adata obj\")\n",
    "\n",
    "    ##### Computing metrics for all cells. #####\n",
    "\n",
    "    # selecting only numeric quantities\n",
    "    numeric_obs = adata.obs.select_dtypes(include=['number']).columns.tolist()\n",
    "    numeric_obs = [item for item in numeric_obs if not item.startswith(\"_\")]\n",
    "\n",
    "    # applying our agg function\n",
    "    obs_metrics = adata.obs[numeric_obs].apply(agg).to_list()\n",
    "\n",
    "    ##### Computing metrics for all genes.#####\n",
    "    \n",
    "    # selecting only numeric quantities\n",
    "    numeric_vars = adata.var.select_dtypes(include=['number']).columns.tolist()\n",
    "    numeric_vars = [item for item in numeric_obs if not item.startswith(\"_\")]\n",
    "\n",
    "    # applying our agg function\n",
    "    var_metrics = adata.obs[numeric_vars].apply(agg).to_list()\n",
    "    \n",
    "    ##### Custom defined metrics #####\n",
    "    \n",
    "    "
   ]
  },
  {
   "cell_type": "markdown",
   "id": "22f58b26-2deb-4eea-9af7-639a9e4fe5ca",
   "metadata": {},
   "source": [
    "We will fist extract all numeric columns, and then compute a summary statistic. Exclude the ones that start with a \"_\""
   ]
  },
  {
   "cell_type": "code",
   "execution_count": 159,
   "id": "673a437a-f433-4b27-9cd7-ff1cb0716437",
   "metadata": {},
   "outputs": [
    {
     "data": {
      "text/plain": [
       "['n_genes_by_counts',\n",
       " 'log1p_n_genes_by_counts',\n",
       " 'total_counts',\n",
       " 'log1p_total_counts',\n",
       " 'pct_counts_in_top_20_genes',\n",
       " 'total_counts_mt',\n",
       " 'log1p_total_counts_mt',\n",
       " 'pct_counts_mt',\n",
       " 'total_counts_ribo',\n",
       " 'log1p_total_counts_ribo',\n",
       " 'pct_counts_ribo',\n",
       " 'total_counts_hb',\n",
       " 'log1p_total_counts_hb',\n",
       " 'pct_counts_hb',\n",
       " 'pct_counts_in_top_1_genes',\n",
       " 'pct_counts_in_top_2_genes',\n",
       " 'pct_counts_in_top_4_genes',\n",
       " 'pct_counts_in_top_7_genes']"
      ]
     },
     "execution_count": 159,
     "metadata": {},
     "output_type": "execute_result"
    }
   ],
   "source": [
    "numeric_obs = adata.obs.select_dtypes(include=['number']).columns.tolist()\n",
    "numeric_obs = [item for item in numeric_obs if not item.startswith(\"_\")]\n",
    "numeric_obs"
   ]
  },
  {
   "cell_type": "code",
   "execution_count": 158,
   "id": "1d6d7b1d-92b5-4286-ac8c-a69d38aafeb7",
   "metadata": {},
   "outputs": [
    {
     "data": {
      "text/plain": [
       "[23.0,\n",
       " 3.1780538303479453,\n",
       " 5328.0,\n",
       " 8.58091926574707,\n",
       " 98.30994935365052,\n",
       " 0.0,\n",
       " 0.0,\n",
       " 0.0,\n",
       " 0.0,\n",
       " 0.0,\n",
       " 0.0,\n",
       " 0.0,\n",
       " 0.0,\n",
       " 0.0,\n",
       " 20.125708136114632,\n",
       " 33.299927426809816,\n",
       " 51.22679862174186,\n",
       " 68.54919112838425]"
      ]
     },
     "execution_count": 158,
     "metadata": {},
     "output_type": "execute_result"
    }
   ],
   "source": [
    "adata.obs[numeric_obs].apply(np.median).to_list()"
   ]
  },
  {
   "cell_type": "code",
   "execution_count": 155,
   "id": "92d78d87-988e-477f-8f98-74c88f92ba5e",
   "metadata": {},
   "outputs": [
    {
     "data": {
      "text/plain": [
       "mt                          bool\n",
       "ribo                        bool\n",
       "hb                          bool\n",
       "n_cells_by_counts          int64\n",
       "mean_counts              float32\n",
       "log1p_mean_counts        float32\n",
       "pct_dropout_by_counts    float64\n",
       "total_counts             float32\n",
       "log1p_total_counts       float32\n",
       "highly_variable             bool\n",
       "highly_variable_rank     float32\n",
       "means                    float64\n",
       "variances                float64\n",
       "variances_norm           float64\n",
       "dtype: object"
      ]
     },
     "execution_count": 155,
     "metadata": {},
     "output_type": "execute_result"
    }
   ],
   "source": [
    "adata.var.dtypes"
   ]
  },
  {
   "cell_type": "markdown",
   "id": "43e9548a-a50a-43bb-886a-f89d81bbf0cb",
   "metadata": {},
   "source": [
    "adata.var"
   ]
  },
  {
   "cell_type": "markdown",
   "id": "89ebe978-9abd-404d-b0b0-f30bb7722fd0",
   "metadata": {},
   "source": [
    "## PCA"
   ]
  },
  {
   "cell_type": "code",
   "execution_count": 11,
   "id": "7aaaa03e-1728-4c77-a07d-5b8ea8d94f38",
   "metadata": {},
   "outputs": [],
   "source": [
    "sc.pp.pca(adata)"
   ]
  },
  {
   "cell_type": "code",
   "execution_count": 14,
   "id": "e56d1cd3-6395-4ca1-806b-006f52ef74be",
   "metadata": {},
   "outputs": [
    {
     "data": {
      "image/png": "[encoded data removed]",
      "text/plain": [
       "<Figure size 640x480 with 1 Axes>"
      ]
     },
     "metadata": {},
     "output_type": "display_data"
    }
   ],
   "source": [
    "sc.pl.pca_variance_ratio(adata) # hard to capture all the data with just the firs 20 components"
   ]
  },
  {
   "cell_type": "code",
   "execution_count": 222,
   "id": "2ddd06b8-f235-4d30-9d39-d52e0fba890f",
   "metadata": {},
   "outputs": [],
   "source": [
    "sc.pp.pca(adata, n_comps = 20)"
   ]
  },
  {
   "cell_type": "code",
   "execution_count": 13,
   "id": "9a349325-d084-4625-b522-6f93640576ce",
   "metadata": {},
   "outputs": [
    {
     "data": {
      "text/plain": [
       "{'params': {'zero_center': True,\n",
       "  'use_highly_variable': False,\n",
       "  'mask_var': None},\n",
       " 'variance': array([243011.12 , 201461.   , 180539.22 , 170862.88 , 138083.42 ,\n",
       "        116935.13 , 104307.96 ,  98734.6  ,  87862.39 ,  82275.125,\n",
       "         69750.555,  66273.92 ,  64205.207,  59550.26 ,  57851.332,\n",
       "         52433.938,  47902.957,  47167.234,  46574.812,  40476.43 ,\n",
       "         38713.266,  36567.004,  35889.117,  32667.43 ,  31205.771,\n",
       "         29217.45 ,  26478.688,  22560.004,  20628.855,  18855.615,\n",
       "         17780.34 ,  14688.594], dtype=float32),\n",
       " 'variance_ratio': array([0.10558759, 0.08753418, 0.07844374, 0.0742394 , 0.05999682,\n",
       "        0.05080796, 0.04532149, 0.04289988, 0.03817594, 0.03574829,\n",
       "        0.0303064 , 0.02879582, 0.02789696, 0.02587441, 0.02513623,\n",
       "        0.02278239, 0.02081369, 0.02049402, 0.02023661, 0.01758689,\n",
       "        0.0168208 , 0.01588825, 0.01559371, 0.0141939 , 0.01355881,\n",
       "        0.01269489, 0.01150491, 0.00980225, 0.00896317, 0.00819271,\n",
       "        0.0077255 , 0.00638215], dtype=float32)}"
      ]
     },
     "execution_count": 13,
     "metadata": {},
     "output_type": "execute_result"
    }
   ],
   "source": [
    "adata.uns['pca'] # can append these as the last 20 columns"
   ]
  },
  {
   "cell_type": "markdown",
   "id": "00ed8243-61a8-4bb6-a16a-724bdf96ffeb",
   "metadata": {},
   "source": [
    "# Final Pipeline"
   ]
  },
  {
   "cell_type": "code",
   "execution_count": 328,
   "id": "9747805a-9626-4be5-92b1-37969a4ea72a",
   "metadata": {},
   "outputs": [],
   "source": [
    "def setup_qc_metrics(adata):\n",
    "    \"\"\"\n",
    "    Sets up and performs doublet detection for an AnnData object.\n",
    "\n",
    "    1. Identifies the top 2000 highly variable genes using the 'seurat_v3' method \n",
    "    2. Uses the scVI model to detect and remove doublets\n",
    "    3. Trains a SOLO model to further refine the detection of doublets.\n",
    "   \n",
    "    Parameters\n",
    "    ----------\n",
    "    adata : AnnData\n",
    "        An AnnData object containing single-cell gene expression data.\n",
    "\n",
    "    Returns\n",
    "    -------\n",
    "    AnnData\n",
    "        The input AnnData object with additional QC metrics, including doublet predictions, stored in the `obs` DataFrame.\n",
    "    \"\"\"\n",
    "    # setup\n",
    "\n",
    "    adata.var_names_make_unique()\n",
    "\n",
    "    sc.pp.highly_variable_genes(adata, n_top_genes = 2000, flavor = 'seurat_v3', inplace=True)\n",
    "\n",
    "    # using scvi to remove doublets\n",
    "    scvi.model.SCVI.setup_anndata(adata)\n",
    "    vae = scvi.model.SCVI(adata)\n",
    "    vae.train()\n",
    "\n",
    "    # training a solo model\n",
    "    solo = scvi.external.SOLO.from_scvi_model(vae)\n",
    "    solo.train()\n",
    "\n",
    "    temp_df = solo.predict()\n",
    "    temp_df['predict'] = solo.predict(soft = False)\n",
    "    temp_df['difference'] = temp_df.doublet - temp_df.singlet \n",
    "    doublets = temp_df[(temp_df['predict'] == 'doublet') & (temp_df['difference'] > 1)] # filtering out only those that have a predicted difference of more than 1\n",
    "\n",
    "    # adding doublet prediction to adata object\n",
    "    adata.obs['doublet'] = adata.obs.index.isin(doublets)\n",
    "\n",
    "    return adata"
   ]
  },
  {
   "cell_type": "code",
   "execution_count": 333,
   "id": "8ef5fd99-9779-44b8-b41e-1b5d537c1989",
   "metadata": {},
   "outputs": [],
   "source": [
    "def compute_qc_metrics(adata):\n",
    "    \"\"\"\n",
    "    Compute quality control (QC) metrics for an AnnData object.\n",
    "\n",
    "    This function calculates various QC metrics for the input AnnData object, such as the percentage of counts \n",
    "    assigned to specific gene categories (mitochondrial, ribosomal, hemoglobin genes), and the percentage of counts \n",
    "    assigned to the top x% of genes per cell. Additionally, it computes the percentage of highly variable genes.\n",
    "\n",
    "    Parameters\n",
    "    ----------\n",
    "    adata : AnnData\n",
    "        An AnnData object containing single-cell gene expression data. The input object should have a `var` DataFrame \n",
    "        with gene names.\n",
    "\n",
    "    Returns\n",
    "    -------\n",
    "    AnnData\n",
    "        The input AnnData object with additional QC metrics stored in the `obs` and `var` DataFrames.\n",
    "    \"\"\"\n",
    "    \n",
    "    # default is no filtering \n",
    "    # sc.pp.filter_cells(adata, min_genes = 200) \n",
    "    \n",
    "    adata.var[\"mt\"] = adata.var_names.str.startswith((\"^(?i)MT-\"))\n",
    "    adata.var[\"ribo\"] = adata.var_names.str.startswith((\"RPS\", \"RPL\"))\n",
    "    adata.var[\"hb\"] = adata.var_names.str.contains((\"^HB[^(P)]\"))\n",
    "\n",
    "\n",
    "    # To calculate the % of counts assigned to the top x genes per cell. Some data have very small cell counts so % were used instead\n",
    "    n_genes = len(adata.var)\n",
    "    percents = [0.01, 0.05, 0.1, 0.2] # 1% , 5%, 10%, 20% of genes)\n",
    "    ceiling_values = [math.ceil(n_genes * p) for p in percents]\n",
    "    sc.pp.calculate_qc_metrics(adata, qc_vars=[\"mt\", \"ribo\", \"hb\"], inplace=True, percent_top=ceiling_values, log1p=True)\n",
    "\n",
    "    # Doing some renaming\n",
    "    percent_names = [f\"pct_counts_in_top_{n}_genes\" for n in ceiling_values]\n",
    "    new_names = [f\"pct_counts_in_top_{round(n*100)}_pct_genes\" for n in percents]\n",
    "    adata.obs.rename(columns = dict(zip(percent_names, new_names)), inplace = True)\n",
    "    # remove = ['total_counts_mt', 'log1p_total_counts_mt', 'total_counts_ribo', \n",
    "    #       'log1p_total_counts_ribo', 'total_counts_hb', 'log1p_total_counts_hb']\n",
    "    \n",
    "    # adata.obs = adata.obs[[x for x in adata.obs.columns if x not in remove]]\n",
    "    \n",
    "    #### Other Metrics #####\n",
    "    adata.var['pct_highly_var_genes'] = adata.var[\"highly_variable\"].sum() / len(adata.var)\n",
    "    \n",
    "    return adata"
   ]
  },
  {
   "cell_type": "code",
   "execution_count": 383,
   "id": "b2f960c9-db5c-4343-8f53-466bccfce102",
   "metadata": {},
   "outputs": [],
   "source": [
    "def extract_metrics(adata, agg=np.median, exclude = None):\n",
    "    \"\"\"\n",
    "    Extracts summary statistics from an AnnData object.\n",
    "    \n",
    "    Parameters:\n",
    "    - adata: AnnData object, after highly variable genes, and doublets have been identified.\n",
    "    - agg: function to apply to each variable (default: np.mean)\n",
    "    \n",
    "    Returns:\n",
    "    - dict, column_names: dictionary of {row: [metrics]}, list of all column_names\n",
    "    \"\"\"\n",
    "    try:\n",
    "        index = adata.uns['name']\n",
    "    except:\n",
    "        print(\"No name set for AnnData object\")\n",
    "\n",
    "    ##### Computing metrics for all cells. #####\n",
    "\n",
    "    # selecting only numeric quantities\n",
    "    numeric_obs = adata.obs.select_dtypes(include=['number']).columns.tolist()\n",
    "    numeric_obs = [item for item in numeric_obs if not item.startswith(\"_\")]\n",
    "\n",
    "    # applying our agg function\n",
    "    obs_metrics = adata.obs[numeric_obs].apply(agg).to_list()\n",
    "\n",
    "    ##### Computing metrics for all genes.#####\n",
    "    \n",
    "    # selecting only numeric quantities\n",
    "    numeric_vars = adata.var.select_dtypes(include=['number']).columns.tolist()\n",
    "    numeric_vars = [item for item in numeric_vars if not item.startswith(\"_\")]\n",
    "\n",
    "    # applying our agg function\n",
    "    var_metrics = adata.var[numeric_vars].apply(agg).to_list()\n",
    "\n",
    "    ##### Custom defined metrics #####\n",
    "\n",
    "    ## TODO\n",
    "\n",
    "    ##### PCA Extraction #####\n",
    "\n",
    "    obs_metrics.extend(var_metrics)\n",
    "    numeric_obs.extend(numeric_vars)\n",
    "    \n",
    "    return {index: obs_metrics}, numeric_obs"
   ]
  },
  {
   "cell_type": "markdown",
   "id": "ee5e5d7d-a745-4137-8249-621cc42b2ad5",
   "metadata": {},
   "source": [
    "## Proof of concept:"
   ]
  },
  {
   "cell_type": "code",
   "execution_count": 178,
   "id": "2f331004-cb14-4051-88c8-0790971b9ca7",
   "metadata": {},
   "outputs": [],
   "source": [
    "adata = sc.read_h5ad(test_data)"
   ]
  },
  {
   "cell_type": "code",
   "execution_count": 189,
   "id": "de97a24d-8659-49af-a48b-761178989df8",
   "metadata": {},
   "outputs": [
    {
     "name": "stderr",
     "output_type": "stream",
     "text": [
      "GPU available: True (cuda), used: True\n",
      "TPU available: False, using: 0 TPU cores\n",
      "IPU available: False, using: 0 IPUs\n",
      "HPU available: False, using: 0 HPUs\n",
      "LOCAL_RANK: 0 - CUDA_VISIBLE_DEVICES: [0]\n"
     ]
    },
    {
     "name": "stdout",
     "output_type": "stream",
     "text": [
      "Epoch 400/400: 100%|█████████████████████████████████| 400/400 [02:12<00:00,  3.06it/s, v_num=1, train_loss_step=164, train_loss_epoch=159]"
     ]
    },
    {
     "name": "stderr",
     "output_type": "stream",
     "text": [
      "`Trainer.fit` stopped: `max_epochs=400` reached.\n"
     ]
    },
    {
     "name": "stdout",
     "output_type": "stream",
     "text": [
      "Epoch 400/400: 100%|█████████████████████████████████| 400/400 [02:12<00:00,  3.01it/s, v_num=1, train_loss_step=164, train_loss_epoch=159]\n",
      "\u001b[34mINFO    \u001b[0m Creating doublets, preparing SOLO model.                                                                  \n"
     ]
    },
    {
     "name": "stderr",
     "output_type": "stream",
     "text": [
      "GPU available: True (cuda), used: True\n",
      "TPU available: False, using: 0 TPU cores\n",
      "IPU available: False, using: 0 IPUs\n",
      "HPU available: False, using: 0 HPUs\n",
      "LOCAL_RANK: 0 - CUDA_VISIBLE_DEVICES: [0]\n"
     ]
    },
    {
     "name": "stdout",
     "output_type": "stream",
     "text": [
      "Epoch 177/400:  44%|███████████              | 177/400 [00:37<00:46,  4.77it/s, v_num=1, train_loss_step=0.00016, train_loss_epoch=4.55e-5]\n",
      "Monitored metric validation_loss did not improve in the last 30 records. Best score: 0.000. Signaling Trainer to stop.\n"
     ]
    }
   ],
   "source": [
    "adata = setup_qc_metrics(adata) # takes around 2 minutes per dataset"
   ]
  },
  {
   "cell_type": "code",
   "execution_count": 201,
   "id": "22b1caba-f3e6-4e07-a64a-d062e3e4d722",
   "metadata": {},
   "outputs": [],
   "source": [
    "adata = compute_qc_metrics(adata)"
   ]
  },
  {
   "cell_type": "code",
   "execution_count": 213,
   "id": "22dc4594-e911-459f-a8c6-82c5753f3ecd",
   "metadata": {},
   "outputs": [],
   "source": [
    "dataset_row, columns = extract_metrics(adata)"
   ]
  },
  {
   "cell_type": "code",
   "execution_count": 211,
   "id": "426a3a6d-b426-4202-8b5c-370ac69d5d19",
   "metadata": {},
   "outputs": [],
   "source": [
    "obs_metrics = [23.0, 3.1780538303479453, 5328.0, 8.58091926574707, 20.125708136114632, 33.299927426809816, 51.22679862174186, 68.54919112838425, 0.0, 0.0, 0.0, 0.0, 0.0, 0.0, 0.0, 0.0, 0.0]\n",
    "var_metrics = [23.0, 3.1780538303479453, 5328.0, 8.58091926574707, 20.125708136114632, 33.299927426809816, 51.22679862174186, 68.54919112838425, 0.0, 0.0, 0.0, 0.0, 0.0, 0.0, 0.0, 0.0, 0.0]\n",
    "\n",
    "obs_metrics.extend(var_metrics)"
   ]
  },
  {
   "cell_type": "code",
   "execution_count": 214,
   "id": "d84464c1-6b4e-48f1-8bfa-c01fec82a00b",
   "metadata": {},
   "outputs": [
    {
     "data": {
      "text/plain": [
       "({'MSC': [23.0,\n",
       "   3.1780538303479453,\n",
       "   5328.0,\n",
       "   8.58091926574707,\n",
       "   20.125708136114632,\n",
       "   33.299927426809816,\n",
       "   51.22679862174186,\n",
       "   68.54919112838425,\n",
       "   0.0,\n",
       "   0.0,\n",
       "   0.0,\n",
       "   0.0,\n",
       "   0.0,\n",
       "   0.0,\n",
       "   0.0,\n",
       "   0.0,\n",
       "   0.0,\n",
       "   23.0,\n",
       "   3.1780538303479453,\n",
       "   5328.0,\n",
       "   8.58091926574707,\n",
       "   20.125708136114632,\n",
       "   33.299927426809816,\n",
       "   51.22679862174186,\n",
       "   68.54919112838425,\n",
       "   0.0,\n",
       "   0.0,\n",
       "   0.0,\n",
       "   0.0,\n",
       "   0.0,\n",
       "   0.0,\n",
       "   0.0,\n",
       "   0.0,\n",
       "   0.0]},\n",
       " ['n_genes_by_counts',\n",
       "  'log1p_n_genes_by_counts',\n",
       "  'total_counts',\n",
       "  'log1p_total_counts',\n",
       "  'pct_counts_in_top_1_genes',\n",
       "  'pct_counts_in_top_2_genes',\n",
       "  'pct_counts_in_top_4_genes',\n",
       "  'pct_counts_in_top_7_genes',\n",
       "  'total_counts_mt',\n",
       "  'log1p_total_counts_mt',\n",
       "  'pct_counts_mt',\n",
       "  'total_counts_ribo',\n",
       "  'log1p_total_counts_ribo',\n",
       "  'pct_counts_ribo',\n",
       "  'total_counts_hb',\n",
       "  'log1p_total_counts_hb',\n",
       "  'pct_counts_hb',\n",
       "  'n_genes_by_counts',\n",
       "  'log1p_n_genes_by_counts',\n",
       "  'total_counts',\n",
       "  'log1p_total_counts',\n",
       "  'pct_counts_in_top_1_genes',\n",
       "  'pct_counts_in_top_2_genes',\n",
       "  'pct_counts_in_top_4_genes',\n",
       "  'pct_counts_in_top_7_genes',\n",
       "  'total_counts_mt',\n",
       "  'log1p_total_counts_mt',\n",
       "  'pct_counts_mt',\n",
       "  'total_counts_ribo',\n",
       "  'log1p_total_counts_ribo',\n",
       "  'pct_counts_ribo',\n",
       "  'total_counts_hb',\n",
       "  'log1p_total_counts_hb',\n",
       "  'pct_counts_hb'])"
      ]
     },
     "execution_count": 214,
     "metadata": {},
     "output_type": "execute_result"
    }
   ],
   "source": [
    "dataset_row, columns"
   ]
  },
  {
   "cell_type": "code",
   "execution_count": 241,
   "id": "d68930b7-0637-4681-bba0-fbca07fd9c98",
   "metadata": {},
   "outputs": [],
   "source": [
    "characteristics_df = pd.DataFrame.from_dict(dataset_row, columns = columns, orient='index') # 34 features so far"
   ]
  },
  {
   "cell_type": "code",
   "execution_count": 251,
   "id": "f9e8c7a7-ae0c-4ba5-b9b2-2662027a17b3",
   "metadata": {},
   "outputs": [],
   "source": [
    "save_path = \"outputs/characteristics/characteristics.csv\"\n",
    "characteristics_df.to_csv(save_path, index=True)"
   ]
  },
  {
   "cell_type": "markdown",
   "id": "d9550d26-925e-442c-9984-d993335d859c",
   "metadata": {},
   "source": [
    "## Running for multiple datasets"
   ]
  },
  {
   "cell_type": "markdown",
   "id": "2fc85fb5-fdb8-4ea3-8005-db5d10eeb78f",
   "metadata": {},
   "source": [
    "### Loading in all the adata objects, and then running"
   ]
  },
  {
   "cell_type": "markdown",
   "id": "0f3b26e4-d7d7-4f02-b760-0715407aa94f",
   "metadata": {},
   "source": [
    "Could also save results to a csv file"
   ]
  },
  {
   "cell_type": "code",
   "execution_count": 229,
   "id": "522ac7f6-392a-4a2e-8bb6-1f7e490a37b4",
   "metadata": {},
   "outputs": [
    {
     "data": {
      "text/plain": [
       "['data/mouse_mt_genes',\n",
       " 'data/Mouse.MitoCarta3.0.xls',\n",
       " 'data/MSC/mRNA_coords_raw_counting.hdf5:Zone.Identifier',\n",
       " 'data/MSC/osmfish.h5ad',\n",
       " 'data/MSC/osmfish_remove_excluded.h5ad:Zone.Identifier']"
      ]
     },
     "execution_count": 229,
     "metadata": {},
     "output_type": "execute_result"
    }
   ],
   "source": [
    "list_files_in_dir(data_path)[:5]"
   ]
  },
  {
   "cell_type": "code",
   "execution_count": 258,
   "id": "2e85c780-2b8c-4b3e-9f2b-6ba719d0860e",
   "metadata": {},
   "outputs": [],
   "source": [
    "data_path_MSC = Path('data/MSC/MSC_gene_expression_FINAL.h5ad')\n",
    "data_path_DPLC = Path('data/DLPC/151507')\n",
    "data_path_HBCA1 = Path('data/HBCA1/')"
   ]
  },
  {
   "cell_type": "code",
   "execution_count": 326,
   "id": "7068b2da-0661-427d-8bcd-c0dcda8a7f37",
   "metadata": {},
   "outputs": [],
   "source": [
    "adata = sc.read_h5ad(data_path_MSC)\n",
    "adata1 = sc.read_visium(data_path_DPLC,\n",
    "                       count_file = \"151507_filtered_feature_bc_matrix.h5\")\n",
    "adata1.uns['name'] = 'DPLC_151707'\n",
    "adata2 = sc.read_visium(data_path_HBCA1,\n",
    "                       count_file = \"V1_Breast_Cancer_Block_A_Section_1_filtered_feature_bc_matrix.h5\")\n",
    "adata2.uns['name'] = 'HBCA1'"
   ]
  },
  {
   "cell_type": "code",
   "execution_count": 263,
   "id": "8e19fcaf-7e3c-4612-9c73-42dc002fff20",
   "metadata": {},
   "outputs": [
    {
     "data": {
      "text/plain": [
       "(AnnData object with n_obs × n_vars = 4226 × 33538\n",
       "     obs: 'in_tissue', 'array_row', 'array_col'\n",
       "     var: 'gene_ids', 'feature_types', 'genome'\n",
       "     uns: 'spatial', 'name'\n",
       "     obsm: 'spatial',\n",
       " AnnData object with n_obs × n_vars = 3798 × 36601\n",
       "     obs: 'in_tissue', 'array_row', 'array_col'\n",
       "     var: 'gene_ids', 'feature_types', 'genome'\n",
       "     uns: 'spatial', 'name'\n",
       "     obsm: 'spatial')"
      ]
     },
     "execution_count": 263,
     "metadata": {},
     "output_type": "execute_result"
    }
   ],
   "source": [
    "adata1, adata2"
   ]
  },
  {
   "cell_type": "code",
   "execution_count": 374,
   "id": "63ca60f1-08a6-4902-ade4-0bae2cf42ba6",
   "metadata": {},
   "outputs": [
    {
     "name": "stderr",
     "output_type": "stream",
     "text": [
      "GPU available: True (cuda), used: True\n",
      "TPU available: False, using: 0 TPU cores\n",
      "IPU available: False, using: 0 IPUs\n",
      "HPU available: False, using: 0 HPUs\n",
      "LOCAL_RANK: 0 - CUDA_VISIBLE_DEVICES: [0]\n"
     ]
    },
    {
     "name": "stdout",
     "output_type": "stream",
     "text": [
      "Epoch 400/400: 100%|█████████████████████████| 400/400 [02:20<00:00,  2.70it/s, v_num=1, train_loss_step=4.21e+3, train_loss_epoch=4.06e+3]"
     ]
    },
    {
     "name": "stderr",
     "output_type": "stream",
     "text": [
      "`Trainer.fit` stopped: `max_epochs=400` reached.\n"
     ]
    },
    {
     "name": "stdout",
     "output_type": "stream",
     "text": [
      "Epoch 400/400: 100%|█████████████████████████| 400/400 [02:20<00:00,  2.84it/s, v_num=1, train_loss_step=4.21e+3, train_loss_epoch=4.06e+3]\n",
      "\u001b[34mINFO    \u001b[0m Creating doublets, preparing SOLO model.                                                                  \n"
     ]
    },
    {
     "name": "stderr",
     "output_type": "stream",
     "text": [
      "GPU available: True (cuda), used: True\n",
      "TPU available: False, using: 0 TPU cores\n",
      "IPU available: False, using: 0 IPUs\n",
      "HPU available: False, using: 0 HPUs\n",
      "LOCAL_RANK: 0 - CUDA_VISIBLE_DEVICES: [0]\n"
     ]
    },
    {
     "name": "stdout",
     "output_type": "stream",
     "text": [
      "Epoch 222/400:  56%|████████████████▋             | 222/400 [00:41<00:33,  5.35it/s, v_num=1, train_loss_step=0.0534, train_loss_epoch=0.2]\n",
      "Monitored metric validation_loss did not improve in the last 30 records. Best score: 0.205. Signaling Trainer to stop.\n"
     ]
    }
   ],
   "source": [
    "adata1 = sc.read_visium(data_path_DPLC,\n",
    "                       count_file = \"151507_filtered_feature_bc_matrix.h5\")\n",
    "adata1 = setup_qc_metrics(adata1)\n",
    "adata1 = compute_qc_metrics(adata1)"
   ]
  },
  {
   "cell_type": "code",
   "execution_count": 384,
   "id": "94e94c72-a5d6-41d7-b568-c29cdf3e3f77",
   "metadata": {},
   "outputs": [],
   "source": [
    "adata1.uns['name'] = 'DLPC_151507'\n",
    "dataset_row, columns = extract_metrics(adata1)"
   ]
  },
  {
   "cell_type": "code",
   "execution_count": 385,
   "id": "85e85232-7c1b-4e32-b5fa-0320b6e7804a",
   "metadata": {},
   "outputs": [
    {
     "data": {
      "text/plain": [
       "({'DLPC_151507': [1.0,\n",
       "   34.0,\n",
       "   66.0,\n",
       "   1384.0,\n",
       "   7.233455418621439,\n",
       "   2463.5,\n",
       "   7.809743881225586,\n",
       "   56.48784498291701,\n",
       "   100.0,\n",
       "   100.0,\n",
       "   100.0,\n",
       "   0.0,\n",
       "   0.0,\n",
       "   0.0,\n",
       "   176.0,\n",
       "   5.176149845123291,\n",
       "   7.092611312866211,\n",
       "   1.0,\n",
       "   0.6931471824645996,\n",
       "   0.023001834750175476,\n",
       "   nan,\n",
       "   0.001419782300047326,\n",
       "   0.0014181020843076252,\n",
       "   0.9672428653744204,\n",
       "   6.0,\n",
       "   0.0014197822893038392,\n",
       "   0.0014187752967700362,\n",
       "   99.85802176999526,\n",
       "   6.0,\n",
       "   1.9459102153778076,\n",
       "   0.05963384817222255]},\n",
       " ['in_tissue',\n",
       "  'array_row',\n",
       "  'array_col',\n",
       "  'n_genes_by_counts',\n",
       "  'log1p_n_genes_by_counts',\n",
       "  'total_counts',\n",
       "  'log1p_total_counts',\n",
       "  'pct_counts_in_top_1_pct_genes',\n",
       "  'pct_counts_in_top_5_pct_genes',\n",
       "  'pct_counts_in_top_10_pct_genes',\n",
       "  'pct_counts_in_top_20_pct_genes',\n",
       "  'total_counts_mt',\n",
       "  'log1p_total_counts_mt',\n",
       "  'pct_counts_mt',\n",
       "  'total_counts_ribo',\n",
       "  'log1p_total_counts_ribo',\n",
       "  'pct_counts_ribo',\n",
       "  'total_counts_hb',\n",
       "  'log1p_total_counts_hb',\n",
       "  'pct_counts_hb',\n",
       "  'highly_variable_rank',\n",
       "  'means',\n",
       "  'variances',\n",
       "  'variances_norm',\n",
       "  'n_cells_by_counts',\n",
       "  'mean_counts',\n",
       "  'log1p_mean_counts',\n",
       "  'pct_dropout_by_counts',\n",
       "  'total_counts',\n",
       "  'log1p_total_counts',\n",
       "  'pct_highly_var_genes'])"
      ]
     },
     "execution_count": 385,
     "metadata": {},
     "output_type": "execute_result"
    }
   ],
   "source": [
    "dataset_row, columns"
   ]
  },
  {
   "cell_type": "code",
   "execution_count": null,
   "id": "7185f7ca-6fb7-4669-bd01-d65baad3ba09",
   "metadata": {},
   "outputs": [],
   "source": []
  },
  {
   "cell_type": "code",
   "execution_count": 361,
   "id": "9ccb713e-46e6-4f74-8748-634afa07f590",
   "metadata": {},
   "outputs": [
    {
     "data": {
      "text/plain": [
       "AnnData object with n_obs × n_vars = 4226 × 33538\n",
       "    obs: 'in_tissue', 'array_row', 'array_col', '_scvi_batch', '_scvi_labels', 'doublet', 'n_genes_by_counts', 'log1p_n_genes_by_counts', 'total_counts', 'log1p_total_counts', 'pct_counts_in_top_336_genes', 'pct_counts_in_top_1677_genes', 'pct_counts_in_top_3354_genes', 'pct_counts_in_top_6708_genes', 'total_counts_mt', 'log1p_total_counts_mt', 'pct_counts_mt', 'total_counts_ribo', 'log1p_total_counts_ribo', 'pct_counts_ribo', 'total_counts_hb', 'log1p_total_counts_hb', 'pct_counts_hb'\n",
       "    var: 'gene_ids', 'feature_types', 'genome', 'highly_variable', 'highly_variable_rank', 'means', 'variances', 'variances_norm', 'mt', 'ribo', 'hb', 'n_cells_by_counts', 'mean_counts', 'log1p_mean_counts', 'pct_dropout_by_counts', 'total_counts', 'log1p_total_counts'\n",
       "    uns: 'spatial', 'hvg', '_scvi_uuid', '_scvi_manager_uuid'\n",
       "    obsm: 'spatial'"
      ]
     },
     "execution_count": 361,
     "metadata": {},
     "output_type": "execute_result"
    }
   ],
   "source": [
    "adata2"
   ]
  },
  {
   "cell_type": "code",
   "execution_count": 362,
   "id": "238f88f2-9992-440b-971b-528d76b1d2a5",
   "metadata": {},
   "outputs": [],
   "source": [
    "percent_names = [f\"pct_counts_in_top_{n}_genes\" for n in ceiling_values]\n",
    "new_names = [f\"pct_counts_in_top_{round(n*100)}_pct_genes\" for n in percents]\n",
    "adata2.obs.rename(columns = dict(zip(percent_names, new_names)), inplace = True)\n",
    "    "
   ]
  },
  {
   "cell_type": "code",
   "execution_count": 364,
   "id": "4061bb27-dc8e-4556-b646-963d6b31a67d",
   "metadata": {},
   "outputs": [
    {
     "data": {
      "text/plain": [
       "AnnData object with n_obs × n_vars = 4226 × 33538\n",
       "    obs: 'in_tissue', 'array_row', 'array_col', '_scvi_batch', '_scvi_labels', 'doublet', 'n_genes_by_counts', 'log1p_n_genes_by_counts', 'total_counts', 'log1p_total_counts', 'pct_counts_in_top_1_pct_genes', 'pct_counts_in_top_5_pct_genes', 'pct_counts_in_top_10_pct_genes', 'pct_counts_in_top_20_pct_genes', 'total_counts_mt', 'log1p_total_counts_mt', 'pct_counts_mt', 'total_counts_ribo', 'log1p_total_counts_ribo', 'pct_counts_ribo', 'total_counts_hb', 'log1p_total_counts_hb', 'pct_counts_hb'\n",
       "    var: 'gene_ids', 'feature_types', 'genome', 'highly_variable', 'highly_variable_rank', 'means', 'variances', 'variances_norm', 'mt', 'ribo', 'hb', 'n_cells_by_counts', 'mean_counts', 'log1p_mean_counts', 'pct_dropout_by_counts', 'total_counts', 'log1p_total_counts'\n",
       "    uns: 'spatial', 'hvg', '_scvi_uuid', '_scvi_manager_uuid'\n",
       "    obsm: 'spatial'"
      ]
     },
     "execution_count": 364,
     "metadata": {},
     "output_type": "execute_result"
    }
   ],
   "source": [
    "adata2"
   ]
  },
  {
   "cell_type": "code",
   "execution_count": 372,
   "id": "8f88f04f-926b-4396-8f8f-d0000362c1ec",
   "metadata": {},
   "outputs": [],
   "source": [
    "adata2 = adata1"
   ]
  },
  {
   "cell_type": "code",
   "execution_count": 370,
   "id": "7c637438-b704-40eb-b610-2cf1b1037da6",
   "metadata": {},
   "outputs": [],
   "source": [
    "adata2 = compute_qc_metrics(adata2)"
   ]
  },
  {
   "cell_type": "code",
   "execution_count": 371,
   "id": "68f24593-9b24-4300-ad77-4fc73b898f63",
   "metadata": {},
   "outputs": [
    {
     "data": {
      "text/plain": [
       "AnnData object with n_obs × n_vars = 4226 × 33538\n",
       "    obs: 'in_tissue', 'array_row', 'array_col', '_scvi_batch', '_scvi_labels', 'doublet', 'n_genes_by_counts', 'log1p_n_genes_by_counts', 'total_counts', 'log1p_total_counts', 'pct_counts_in_top_1_pct_genes', 'pct_counts_in_top_5_pct_genes', 'pct_counts_in_top_10_pct_genes', 'pct_counts_in_top_20_pct_genes', 'total_counts_mt', 'log1p_total_counts_mt', 'pct_counts_mt', 'total_counts_ribo', 'log1p_total_counts_ribo', 'pct_counts_ribo', 'total_counts_hb', 'log1p_total_counts_hb', 'pct_counts_hb', 'pct_counts_in_top_1_pct_genes', 'pct_counts_in_top_5_pct_genes', 'pct_counts_in_top_10_pct_genes', 'pct_counts_in_top_20_pct_genes', 'pct_counts_in_top_1_pct_genes', 'pct_counts_in_top_5_pct_genes', 'pct_counts_in_top_10_pct_genes', 'pct_counts_in_top_20_pct_genes', 'pct_counts_in_top_1_pct_genes', 'pct_counts_in_top_5_pct_genes', 'pct_counts_in_top_10_pct_genes', 'pct_counts_in_top_20_pct_genes'\n",
       "    var: 'gene_ids', 'feature_types', 'genome', 'highly_variable', 'highly_variable_rank', 'means', 'variances', 'variances_norm', 'mt', 'ribo', 'hb', 'n_cells_by_counts', 'mean_counts', 'log1p_mean_counts', 'pct_dropout_by_counts', 'total_counts', 'log1p_total_counts', 'pct_highly_var_genes'\n",
       "    uns: 'spatial', 'hvg', '_scvi_uuid', '_scvi_manager_uuid'\n",
       "    obsm: 'spatial'"
      ]
     },
     "execution_count": 371,
     "metadata": {},
     "output_type": "execute_result"
    }
   ],
   "source": [
    "adata2"
   ]
  },
  {
   "cell_type": "code",
   "execution_count": 334,
   "id": "d6075f31-8f2b-4b4d-af74-359b8dc2a8dc",
   "metadata": {},
   "outputs": [],
   "source": [
    "adata1 = compute_qc_metrics(adata1)"
   ]
  },
  {
   "cell_type": "code",
   "execution_count": 340,
   "id": "702d1e2e-0770-4554-8e7e-cadc59461c60",
   "metadata": {},
   "outputs": [
    {
     "data": {
      "text/plain": [
       "Index(['in_tissue', 'array_row', 'array_col', '_scvi_batch', '_scvi_labels',\n",
       "       'doublet', 'n_genes_by_counts', 'log1p_n_genes_by_counts',\n",
       "       'total_counts', 'log1p_total_counts', 'pct_counts_in_top_1_pct_genes',\n",
       "       'pct_counts_in_top_5_pct_genes', 'pct_counts_in_top_10_pct_genes',\n",
       "       'pct_counts_in_top_20_pct_genes', 'total_counts_mt',\n",
       "       'log1p_total_counts_mt', 'pct_counts_mt', 'total_counts_ribo',\n",
       "       'log1p_total_counts_ribo', 'pct_counts_ribo', 'total_counts_hb',\n",
       "       'log1p_total_counts_hb', 'pct_counts_hb',\n",
       "       'pct_counts_in_top_1_pct_genes', 'pct_counts_in_top_5_pct_genes',\n",
       "       'pct_counts_in_top_10_pct_genes', 'pct_counts_in_top_20_pct_genes',\n",
       "       'pct_counts_in_top_1_pct_genes', 'pct_counts_in_top_5_pct_genes',\n",
       "       'pct_counts_in_top_10_pct_genes', 'pct_counts_in_top_20_pct_genes'],\n",
       "      dtype='object')"
      ]
     },
     "execution_count": 340,
     "metadata": {},
     "output_type": "execute_result"
    }
   ],
   "source": [
    "adata1.obs.columns"
   ]
  },
  {
   "cell_type": "code",
   "execution_count": 336,
   "id": "a33a9421-69d6-40ae-abaa-954aaf2c419d",
   "metadata": {},
   "outputs": [
    {
     "data": {
      "text/html": [
       "<div>\n",
       "<style scoped>\n",
       "    .dataframe tbody tr th:only-of-type {\n",
       "        vertical-align: middle;\n",
       "    }\n",
       "\n",
       "    .dataframe tbody tr th {\n",
       "        vertical-align: top;\n",
       "    }\n",
       "\n",
       "    .dataframe thead th {\n",
       "        text-align: right;\n",
       "    }\n",
       "</style>\n",
       "<table border=\"1\" class=\"dataframe\">\n",
       "  <thead>\n",
       "    <tr style=\"text-align: right;\">\n",
       "      <th></th>\n",
       "      <th>in_tissue</th>\n",
       "      <th>array_row</th>\n",
       "      <th>array_col</th>\n",
       "      <th>_scvi_batch</th>\n",
       "      <th>_scvi_labels</th>\n",
       "      <th>doublet</th>\n",
       "      <th>n_genes_by_counts</th>\n",
       "      <th>log1p_n_genes_by_counts</th>\n",
       "      <th>total_counts</th>\n",
       "      <th>log1p_total_counts</th>\n",
       "      <th>...</th>\n",
       "      <th>log1p_total_counts_hb</th>\n",
       "      <th>pct_counts_hb</th>\n",
       "      <th>pct_counts_in_top_1_pct_genes</th>\n",
       "      <th>pct_counts_in_top_5_pct_genes</th>\n",
       "      <th>pct_counts_in_top_10_pct_genes</th>\n",
       "      <th>pct_counts_in_top_20_pct_genes</th>\n",
       "      <th>pct_counts_in_top_1_pct_genes</th>\n",
       "      <th>pct_counts_in_top_5_pct_genes</th>\n",
       "      <th>pct_counts_in_top_10_pct_genes</th>\n",
       "      <th>pct_counts_in_top_20_pct_genes</th>\n",
       "    </tr>\n",
       "  </thead>\n",
       "  <tbody>\n",
       "    <tr>\n",
       "      <th>AAACAACGAATAGTTC-1</th>\n",
       "      <td>1</td>\n",
       "      <td>0</td>\n",
       "      <td>16</td>\n",
       "      <td>0</td>\n",
       "      <td>0</td>\n",
       "      <td>False</td>\n",
       "      <td>727</td>\n",
       "      <td>6.590301</td>\n",
       "      <td>948.0</td>\n",
       "      <td>6.855409</td>\n",
       "      <td>...</td>\n",
       "      <td>1.098612</td>\n",
       "      <td>0.210970</td>\n",
       "      <td>58.755274</td>\n",
       "      <td>100.000000</td>\n",
       "      <td>100.0</td>\n",
       "      <td>100.0</td>\n",
       "      <td>58.755274</td>\n",
       "      <td>100.000000</td>\n",
       "      <td>100.0</td>\n",
       "      <td>100.0</td>\n",
       "    </tr>\n",
       "    <tr>\n",
       "      <th>AAACAAGTATCTCCCA-1</th>\n",
       "      <td>1</td>\n",
       "      <td>50</td>\n",
       "      <td>102</td>\n",
       "      <td>0</td>\n",
       "      <td>0</td>\n",
       "      <td>False</td>\n",
       "      <td>2170</td>\n",
       "      <td>7.682943</td>\n",
       "      <td>4261.0</td>\n",
       "      <td>8.357493</td>\n",
       "      <td>...</td>\n",
       "      <td>0.693147</td>\n",
       "      <td>0.023469</td>\n",
       "      <td>49.119925</td>\n",
       "      <td>88.429946</td>\n",
       "      <td>100.0</td>\n",
       "      <td>100.0</td>\n",
       "      <td>49.119925</td>\n",
       "      <td>88.429946</td>\n",
       "      <td>100.0</td>\n",
       "      <td>100.0</td>\n",
       "    </tr>\n",
       "    <tr>\n",
       "      <th>AAACAATCTACTAGCA-1</th>\n",
       "      <td>1</td>\n",
       "      <td>3</td>\n",
       "      <td>43</td>\n",
       "      <td>0</td>\n",
       "      <td>0</td>\n",
       "      <td>False</td>\n",
       "      <td>1093</td>\n",
       "      <td>6.997596</td>\n",
       "      <td>1969.0</td>\n",
       "      <td>7.585789</td>\n",
       "      <td>...</td>\n",
       "      <td>0.000000</td>\n",
       "      <td>0.000000</td>\n",
       "      <td>61.554088</td>\n",
       "      <td>100.000000</td>\n",
       "      <td>100.0</td>\n",
       "      <td>100.0</td>\n",
       "      <td>61.554088</td>\n",
       "      <td>100.000000</td>\n",
       "      <td>100.0</td>\n",
       "      <td>100.0</td>\n",
       "    </tr>\n",
       "    <tr>\n",
       "      <th>AAACACCAATAACTGC-1</th>\n",
       "      <td>1</td>\n",
       "      <td>59</td>\n",
       "      <td>19</td>\n",
       "      <td>0</td>\n",
       "      <td>0</td>\n",
       "      <td>False</td>\n",
       "      <td>1896</td>\n",
       "      <td>7.548029</td>\n",
       "      <td>3368.0</td>\n",
       "      <td>8.122372</td>\n",
       "      <td>...</td>\n",
       "      <td>0.000000</td>\n",
       "      <td>0.000000</td>\n",
       "      <td>48.752969</td>\n",
       "      <td>93.497625</td>\n",
       "      <td>100.0</td>\n",
       "      <td>100.0</td>\n",
       "      <td>48.752969</td>\n",
       "      <td>93.497625</td>\n",
       "      <td>100.0</td>\n",
       "      <td>100.0</td>\n",
       "    </tr>\n",
       "    <tr>\n",
       "      <th>AAACAGCTTTCAGAAG-1</th>\n",
       "      <td>1</td>\n",
       "      <td>43</td>\n",
       "      <td>9</td>\n",
       "      <td>0</td>\n",
       "      <td>0</td>\n",
       "      <td>False</td>\n",
       "      <td>1620</td>\n",
       "      <td>7.390799</td>\n",
       "      <td>2981.0</td>\n",
       "      <td>8.000349</td>\n",
       "      <td>...</td>\n",
       "      <td>0.000000</td>\n",
       "      <td>0.000000</td>\n",
       "      <td>53.237169</td>\n",
       "      <td>100.000000</td>\n",
       "      <td>100.0</td>\n",
       "      <td>100.0</td>\n",
       "      <td>53.237169</td>\n",
       "      <td>100.000000</td>\n",
       "      <td>100.0</td>\n",
       "      <td>100.0</td>\n",
       "    </tr>\n",
       "    <tr>\n",
       "      <th>...</th>\n",
       "      <td>...</td>\n",
       "      <td>...</td>\n",
       "      <td>...</td>\n",
       "      <td>...</td>\n",
       "      <td>...</td>\n",
       "      <td>...</td>\n",
       "      <td>...</td>\n",
       "      <td>...</td>\n",
       "      <td>...</td>\n",
       "      <td>...</td>\n",
       "      <td>...</td>\n",
       "      <td>...</td>\n",
       "      <td>...</td>\n",
       "      <td>...</td>\n",
       "      <td>...</td>\n",
       "      <td>...</td>\n",
       "      <td>...</td>\n",
       "      <td>...</td>\n",
       "      <td>...</td>\n",
       "      <td>...</td>\n",
       "      <td>...</td>\n",
       "    </tr>\n",
       "    <tr>\n",
       "      <th>TTGTTGTGTGTCAAGA-1</th>\n",
       "      <td>1</td>\n",
       "      <td>31</td>\n",
       "      <td>77</td>\n",
       "      <td>0</td>\n",
       "      <td>0</td>\n",
       "      <td>False</td>\n",
       "      <td>1320</td>\n",
       "      <td>7.186144</td>\n",
       "      <td>2337.0</td>\n",
       "      <td>7.757051</td>\n",
       "      <td>...</td>\n",
       "      <td>0.693147</td>\n",
       "      <td>0.042790</td>\n",
       "      <td>57.894737</td>\n",
       "      <td>100.000000</td>\n",
       "      <td>100.0</td>\n",
       "      <td>100.0</td>\n",
       "      <td>57.894737</td>\n",
       "      <td>100.000000</td>\n",
       "      <td>100.0</td>\n",
       "      <td>100.0</td>\n",
       "    </tr>\n",
       "    <tr>\n",
       "      <th>TTGTTTCACATCCAGG-1</th>\n",
       "      <td>1</td>\n",
       "      <td>58</td>\n",
       "      <td>42</td>\n",
       "      <td>0</td>\n",
       "      <td>0</td>\n",
       "      <td>False</td>\n",
       "      <td>1444</td>\n",
       "      <td>7.275865</td>\n",
       "      <td>2331.0</td>\n",
       "      <td>7.754482</td>\n",
       "      <td>...</td>\n",
       "      <td>1.609438</td>\n",
       "      <td>0.171600</td>\n",
       "      <td>52.338052</td>\n",
       "      <td>100.000000</td>\n",
       "      <td>100.0</td>\n",
       "      <td>100.0</td>\n",
       "      <td>52.338052</td>\n",
       "      <td>100.000000</td>\n",
       "      <td>100.0</td>\n",
       "      <td>100.0</td>\n",
       "    </tr>\n",
       "    <tr>\n",
       "      <th>TTGTTTCATTAGTCTA-1</th>\n",
       "      <td>1</td>\n",
       "      <td>60</td>\n",
       "      <td>30</td>\n",
       "      <td>0</td>\n",
       "      <td>0</td>\n",
       "      <td>False</td>\n",
       "      <td>629</td>\n",
       "      <td>6.445720</td>\n",
       "      <td>819.0</td>\n",
       "      <td>6.709304</td>\n",
       "      <td>...</td>\n",
       "      <td>2.708050</td>\n",
       "      <td>1.709402</td>\n",
       "      <td>64.224664</td>\n",
       "      <td>100.000000</td>\n",
       "      <td>100.0</td>\n",
       "      <td>100.0</td>\n",
       "      <td>64.224664</td>\n",
       "      <td>100.000000</td>\n",
       "      <td>100.0</td>\n",
       "      <td>100.0</td>\n",
       "    </tr>\n",
       "    <tr>\n",
       "      <th>TTGTTTCCATACAACT-1</th>\n",
       "      <td>1</td>\n",
       "      <td>45</td>\n",
       "      <td>27</td>\n",
       "      <td>0</td>\n",
       "      <td>0</td>\n",
       "      <td>False</td>\n",
       "      <td>1697</td>\n",
       "      <td>7.437206</td>\n",
       "      <td>3092.0</td>\n",
       "      <td>8.036897</td>\n",
       "      <td>...</td>\n",
       "      <td>0.693147</td>\n",
       "      <td>0.032342</td>\n",
       "      <td>51.455369</td>\n",
       "      <td>99.353169</td>\n",
       "      <td>100.0</td>\n",
       "      <td>100.0</td>\n",
       "      <td>51.455369</td>\n",
       "      <td>99.353169</td>\n",
       "      <td>100.0</td>\n",
       "      <td>100.0</td>\n",
       "    </tr>\n",
       "    <tr>\n",
       "      <th>TTGTTTGTGTAAATTC-1</th>\n",
       "      <td>1</td>\n",
       "      <td>7</td>\n",
       "      <td>51</td>\n",
       "      <td>0</td>\n",
       "      <td>0</td>\n",
       "      <td>False</td>\n",
       "      <td>1295</td>\n",
       "      <td>7.167038</td>\n",
       "      <td>2390.0</td>\n",
       "      <td>7.779467</td>\n",
       "      <td>...</td>\n",
       "      <td>0.000000</td>\n",
       "      <td>0.000000</td>\n",
       "      <td>59.874477</td>\n",
       "      <td>100.000000</td>\n",
       "      <td>100.0</td>\n",
       "      <td>100.0</td>\n",
       "      <td>59.874477</td>\n",
       "      <td>100.000000</td>\n",
       "      <td>100.0</td>\n",
       "      <td>100.0</td>\n",
       "    </tr>\n",
       "  </tbody>\n",
       "</table>\n",
       "<p>4226 rows × 31 columns</p>\n",
       "</div>"
      ],
      "text/plain": [
       "                    in_tissue  array_row  array_col  _scvi_batch  \\\n",
       "AAACAACGAATAGTTC-1          1          0         16            0   \n",
       "AAACAAGTATCTCCCA-1          1         50        102            0   \n",
       "AAACAATCTACTAGCA-1          1          3         43            0   \n",
       "AAACACCAATAACTGC-1          1         59         19            0   \n",
       "AAACAGCTTTCAGAAG-1          1         43          9            0   \n",
       "...                       ...        ...        ...          ...   \n",
       "TTGTTGTGTGTCAAGA-1          1         31         77            0   \n",
       "TTGTTTCACATCCAGG-1          1         58         42            0   \n",
       "TTGTTTCATTAGTCTA-1          1         60         30            0   \n",
       "TTGTTTCCATACAACT-1          1         45         27            0   \n",
       "TTGTTTGTGTAAATTC-1          1          7         51            0   \n",
       "\n",
       "                    _scvi_labels  doublet  n_genes_by_counts  \\\n",
       "AAACAACGAATAGTTC-1             0    False                727   \n",
       "AAACAAGTATCTCCCA-1             0    False               2170   \n",
       "AAACAATCTACTAGCA-1             0    False               1093   \n",
       "AAACACCAATAACTGC-1             0    False               1896   \n",
       "AAACAGCTTTCAGAAG-1             0    False               1620   \n",
       "...                          ...      ...                ...   \n",
       "TTGTTGTGTGTCAAGA-1             0    False               1320   \n",
       "TTGTTTCACATCCAGG-1             0    False               1444   \n",
       "TTGTTTCATTAGTCTA-1             0    False                629   \n",
       "TTGTTTCCATACAACT-1             0    False               1697   \n",
       "TTGTTTGTGTAAATTC-1             0    False               1295   \n",
       "\n",
       "                    log1p_n_genes_by_counts  total_counts  log1p_total_counts  \\\n",
       "AAACAACGAATAGTTC-1                 6.590301         948.0            6.855409   \n",
       "AAACAAGTATCTCCCA-1                 7.682943        4261.0            8.357493   \n",
       "AAACAATCTACTAGCA-1                 6.997596        1969.0            7.585789   \n",
       "AAACACCAATAACTGC-1                 7.548029        3368.0            8.122372   \n",
       "AAACAGCTTTCAGAAG-1                 7.390799        2981.0            8.000349   \n",
       "...                                     ...           ...                 ...   \n",
       "TTGTTGTGTGTCAAGA-1                 7.186144        2337.0            7.757051   \n",
       "TTGTTTCACATCCAGG-1                 7.275865        2331.0            7.754482   \n",
       "TTGTTTCATTAGTCTA-1                 6.445720         819.0            6.709304   \n",
       "TTGTTTCCATACAACT-1                 7.437206        3092.0            8.036897   \n",
       "TTGTTTGTGTAAATTC-1                 7.167038        2390.0            7.779467   \n",
       "\n",
       "                    ...  log1p_total_counts_hb  pct_counts_hb  \\\n",
       "AAACAACGAATAGTTC-1  ...               1.098612       0.210970   \n",
       "AAACAAGTATCTCCCA-1  ...               0.693147       0.023469   \n",
       "AAACAATCTACTAGCA-1  ...               0.000000       0.000000   \n",
       "AAACACCAATAACTGC-1  ...               0.000000       0.000000   \n",
       "AAACAGCTTTCAGAAG-1  ...               0.000000       0.000000   \n",
       "...                 ...                    ...            ...   \n",
       "TTGTTGTGTGTCAAGA-1  ...               0.693147       0.042790   \n",
       "TTGTTTCACATCCAGG-1  ...               1.609438       0.171600   \n",
       "TTGTTTCATTAGTCTA-1  ...               2.708050       1.709402   \n",
       "TTGTTTCCATACAACT-1  ...               0.693147       0.032342   \n",
       "TTGTTTGTGTAAATTC-1  ...               0.000000       0.000000   \n",
       "\n",
       "                    pct_counts_in_top_1_pct_genes  \\\n",
       "AAACAACGAATAGTTC-1                      58.755274   \n",
       "AAACAAGTATCTCCCA-1                      49.119925   \n",
       "AAACAATCTACTAGCA-1                      61.554088   \n",
       "AAACACCAATAACTGC-1                      48.752969   \n",
       "AAACAGCTTTCAGAAG-1                      53.237169   \n",
       "...                                           ...   \n",
       "TTGTTGTGTGTCAAGA-1                      57.894737   \n",
       "TTGTTTCACATCCAGG-1                      52.338052   \n",
       "TTGTTTCATTAGTCTA-1                      64.224664   \n",
       "TTGTTTCCATACAACT-1                      51.455369   \n",
       "TTGTTTGTGTAAATTC-1                      59.874477   \n",
       "\n",
       "                    pct_counts_in_top_5_pct_genes  \\\n",
       "AAACAACGAATAGTTC-1                     100.000000   \n",
       "AAACAAGTATCTCCCA-1                      88.429946   \n",
       "AAACAATCTACTAGCA-1                     100.000000   \n",
       "AAACACCAATAACTGC-1                      93.497625   \n",
       "AAACAGCTTTCAGAAG-1                     100.000000   \n",
       "...                                           ...   \n",
       "TTGTTGTGTGTCAAGA-1                     100.000000   \n",
       "TTGTTTCACATCCAGG-1                     100.000000   \n",
       "TTGTTTCATTAGTCTA-1                     100.000000   \n",
       "TTGTTTCCATACAACT-1                      99.353169   \n",
       "TTGTTTGTGTAAATTC-1                     100.000000   \n",
       "\n",
       "                    pct_counts_in_top_10_pct_genes  \\\n",
       "AAACAACGAATAGTTC-1                           100.0   \n",
       "AAACAAGTATCTCCCA-1                           100.0   \n",
       "AAACAATCTACTAGCA-1                           100.0   \n",
       "AAACACCAATAACTGC-1                           100.0   \n",
       "AAACAGCTTTCAGAAG-1                           100.0   \n",
       "...                                            ...   \n",
       "TTGTTGTGTGTCAAGA-1                           100.0   \n",
       "TTGTTTCACATCCAGG-1                           100.0   \n",
       "TTGTTTCATTAGTCTA-1                           100.0   \n",
       "TTGTTTCCATACAACT-1                           100.0   \n",
       "TTGTTTGTGTAAATTC-1                           100.0   \n",
       "\n",
       "                    pct_counts_in_top_20_pct_genes  \\\n",
       "AAACAACGAATAGTTC-1                           100.0   \n",
       "AAACAAGTATCTCCCA-1                           100.0   \n",
       "AAACAATCTACTAGCA-1                           100.0   \n",
       "AAACACCAATAACTGC-1                           100.0   \n",
       "AAACAGCTTTCAGAAG-1                           100.0   \n",
       "...                                            ...   \n",
       "TTGTTGTGTGTCAAGA-1                           100.0   \n",
       "TTGTTTCACATCCAGG-1                           100.0   \n",
       "TTGTTTCATTAGTCTA-1                           100.0   \n",
       "TTGTTTCCATACAACT-1                           100.0   \n",
       "TTGTTTGTGTAAATTC-1                           100.0   \n",
       "\n",
       "                    pct_counts_in_top_1_pct_genes  \\\n",
       "AAACAACGAATAGTTC-1                      58.755274   \n",
       "AAACAAGTATCTCCCA-1                      49.119925   \n",
       "AAACAATCTACTAGCA-1                      61.554088   \n",
       "AAACACCAATAACTGC-1                      48.752969   \n",
       "AAACAGCTTTCAGAAG-1                      53.237169   \n",
       "...                                           ...   \n",
       "TTGTTGTGTGTCAAGA-1                      57.894737   \n",
       "TTGTTTCACATCCAGG-1                      52.338052   \n",
       "TTGTTTCATTAGTCTA-1                      64.224664   \n",
       "TTGTTTCCATACAACT-1                      51.455369   \n",
       "TTGTTTGTGTAAATTC-1                      59.874477   \n",
       "\n",
       "                    pct_counts_in_top_5_pct_genes  \\\n",
       "AAACAACGAATAGTTC-1                     100.000000   \n",
       "AAACAAGTATCTCCCA-1                      88.429946   \n",
       "AAACAATCTACTAGCA-1                     100.000000   \n",
       "AAACACCAATAACTGC-1                      93.497625   \n",
       "AAACAGCTTTCAGAAG-1                     100.000000   \n",
       "...                                           ...   \n",
       "TTGTTGTGTGTCAAGA-1                     100.000000   \n",
       "TTGTTTCACATCCAGG-1                     100.000000   \n",
       "TTGTTTCATTAGTCTA-1                     100.000000   \n",
       "TTGTTTCCATACAACT-1                      99.353169   \n",
       "TTGTTTGTGTAAATTC-1                     100.000000   \n",
       "\n",
       "                    pct_counts_in_top_10_pct_genes  \\\n",
       "AAACAACGAATAGTTC-1                           100.0   \n",
       "AAACAAGTATCTCCCA-1                           100.0   \n",
       "AAACAATCTACTAGCA-1                           100.0   \n",
       "AAACACCAATAACTGC-1                           100.0   \n",
       "AAACAGCTTTCAGAAG-1                           100.0   \n",
       "...                                            ...   \n",
       "TTGTTGTGTGTCAAGA-1                           100.0   \n",
       "TTGTTTCACATCCAGG-1                           100.0   \n",
       "TTGTTTCATTAGTCTA-1                           100.0   \n",
       "TTGTTTCCATACAACT-1                           100.0   \n",
       "TTGTTTGTGTAAATTC-1                           100.0   \n",
       "\n",
       "                    pct_counts_in_top_20_pct_genes  \n",
       "AAACAACGAATAGTTC-1                           100.0  \n",
       "AAACAAGTATCTCCCA-1                           100.0  \n",
       "AAACAATCTACTAGCA-1                           100.0  \n",
       "AAACACCAATAACTGC-1                           100.0  \n",
       "AAACAGCTTTCAGAAG-1                           100.0  \n",
       "...                                            ...  \n",
       "TTGTTGTGTGTCAAGA-1                           100.0  \n",
       "TTGTTTCACATCCAGG-1                           100.0  \n",
       "TTGTTTCATTAGTCTA-1                           100.0  \n",
       "TTGTTTCCATACAACT-1                           100.0  \n",
       "TTGTTTGTGTAAATTC-1                           100.0  \n",
       "\n",
       "[4226 rows x 31 columns]"
      ]
     },
     "execution_count": 336,
     "metadata": {},
     "output_type": "execute_result"
    }
   ],
   "source": [
    "adata1.obs"
   ]
  },
  {
   "cell_type": "code",
   "execution_count": 310,
   "id": "94da164a-2366-45be-8d88-79db184eb8c1",
   "metadata": {},
   "outputs": [],
   "source": [
    "n_genes = adata1.n_vars\n",
    "percents = [0.01, 0.05, 0.1, 0.2] # 1% , 5%, 10%, 20% of genes)\n",
    "ceiling_values = [math.ceil(n_genes * p) for p in percents]\n",
    "\n",
    "\n",
    "percent_names = [f\"pct_counts_in_top_{n}_genes\" for n in ceiling_values]\n",
    "new_names = [f\"pct_counts_in_top_{round(n*100)}_pct_genes\" for n in percents]"
   ]
  },
  {
   "cell_type": "code",
   "execution_count": 275,
   "id": "1b689bb6-4c09-4873-934f-ab13dbf2f9e0",
   "metadata": {},
   "outputs": [
    {
     "data": {
      "text/plain": [
       "({'DPLC_151707': [1.0,\n",
       "   34.0,\n",
       "   66.0,\n",
       "   1384.0,\n",
       "   7.233455418621439,\n",
       "   2463.5,\n",
       "   7.809743881225586,\n",
       "   56.48784498291701,\n",
       "   100.0,\n",
       "   100.0,\n",
       "   100.0,\n",
       "   0.0,\n",
       "   0.0,\n",
       "   0.0,\n",
       "   176.0,\n",
       "   5.176149845123291,\n",
       "   7.092611312866211,\n",
       "   1.0,\n",
       "   0.6931471824645996,\n",
       "   0.023001834750175476,\n",
       "   1.0,\n",
       "   34.0,\n",
       "   66.0,\n",
       "   1384.0,\n",
       "   7.233455418621439,\n",
       "   2463.5,\n",
       "   7.809743881225586,\n",
       "   56.48784498291701,\n",
       "   100.0,\n",
       "   100.0,\n",
       "   100.0,\n",
       "   0.0,\n",
       "   0.0,\n",
       "   0.0,\n",
       "   176.0,\n",
       "   5.176149845123291,\n",
       "   7.092611312866211,\n",
       "   1.0,\n",
       "   0.6931471824645996,\n",
       "   0.023001834750175476]},\n",
       " ['in_tissue',\n",
       "  'array_row',\n",
       "  'array_col',\n",
       "  'n_genes_by_counts',\n",
       "  'log1p_n_genes_by_counts',\n",
       "  'total_counts',\n",
       "  'log1p_total_counts',\n",
       "  'pct_counts_in_top_336_genes',\n",
       "  'pct_counts_in_top_1677_genes',\n",
       "  'pct_counts_in_top_3354_genes',\n",
       "  'pct_counts_in_top_6708_genes',\n",
       "  'total_counts_mt',\n",
       "  'log1p_total_counts_mt',\n",
       "  'pct_counts_mt',\n",
       "  'total_counts_ribo',\n",
       "  'log1p_total_counts_ribo',\n",
       "  'pct_counts_ribo',\n",
       "  'total_counts_hb',\n",
       "  'log1p_total_counts_hb',\n",
       "  'pct_counts_hb',\n",
       "  'in_tissue',\n",
       "  'array_row',\n",
       "  'array_col',\n",
       "  'n_genes_by_counts',\n",
       "  'log1p_n_genes_by_counts',\n",
       "  'total_counts',\n",
       "  'log1p_total_counts',\n",
       "  'pct_counts_in_top_336_genes',\n",
       "  'pct_counts_in_top_1677_genes',\n",
       "  'pct_counts_in_top_3354_genes',\n",
       "  'pct_counts_in_top_6708_genes',\n",
       "  'total_counts_mt',\n",
       "  'log1p_total_counts_mt',\n",
       "  'pct_counts_mt',\n",
       "  'total_counts_ribo',\n",
       "  'log1p_total_counts_ribo',\n",
       "  'pct_counts_ribo',\n",
       "  'total_counts_hb',\n",
       "  'log1p_total_counts_hb',\n",
       "  'pct_counts_hb'])"
      ]
     },
     "execution_count": 275,
     "metadata": {},
     "output_type": "execute_result"
    }
   ],
   "source": [
    "dataset_row, columns"
   ]
  },
  {
   "cell_type": "code",
   "execution_count": 352,
   "id": "fedf3564-74c1-4059-b0ad-2f454fdcf5a3",
   "metadata": {},
   "outputs": [
    {
     "data": {
      "text/plain": [
       "Index(['in_tissue', 'array_row', 'array_col', '_scvi_batch', '_scvi_labels',\n",
       "       'doublet', 'n_genes_by_counts', 'log1p_n_genes_by_counts',\n",
       "       'total_counts', 'log1p_total_counts', 'pct_counts_in_top_1_pct_genes',\n",
       "       'pct_counts_in_top_5_pct_genes', 'pct_counts_in_top_10_pct_genes',\n",
       "       'pct_counts_in_top_20_pct_genes', 'total_counts_mt',\n",
       "       'log1p_total_counts_mt', 'pct_counts_mt', 'total_counts_ribo',\n",
       "       'log1p_total_counts_ribo', 'pct_counts_ribo', 'total_counts_hb',\n",
       "       'log1p_total_counts_hb', 'pct_counts_hb',\n",
       "       'pct_counts_in_top_1_pct_genes', 'pct_counts_in_top_5_pct_genes',\n",
       "       'pct_counts_in_top_10_pct_genes', 'pct_counts_in_top_20_pct_genes',\n",
       "       'pct_counts_in_top_1_pct_genes', 'pct_counts_in_top_5_pct_genes',\n",
       "       'pct_counts_in_top_10_pct_genes', 'pct_counts_in_top_20_pct_genes'],\n",
       "      dtype='object')"
      ]
     },
     "execution_count": 352,
     "metadata": {},
     "output_type": "execute_result"
    }
   ],
   "source": [
    "adata1.obs.columns"
   ]
  },
  {
   "cell_type": "code",
   "execution_count": 349,
   "id": "e49b48ff-32a6-4554-98b3-6e2229d9646e",
   "metadata": {},
   "outputs": [],
   "source": [
    "dataset_row, columns = extract_metrics(adata1)"
   ]
  },
  {
   "cell_type": "code",
   "execution_count": 350,
   "id": "e0746aea-8bb5-4193-a4b2-08c13d7ba8b1",
   "metadata": {},
   "outputs": [
    {
     "data": {
      "text/plain": [
       "(56, 104)"
      ]
     },
     "execution_count": 350,
     "metadata": {},
     "output_type": "execute_result"
    }
   ],
   "source": [
    "len(columns), len(dataset_row['DPLC_151707'])"
   ]
  },
  {
   "cell_type": "code",
   "execution_count": null,
   "id": "61f551c3-9115-4187-b576-917c363ef62f",
   "metadata": {},
   "outputs": [],
   "source": [
    "new_df = pd.DataFrame.from_dict(dataset_row, columns = columns, \n",
    "                                    orient='index') \n"
   ]
  },
  {
   "cell_type": "code",
   "execution_count": null,
   "id": "60b499c8-a714-407b-8e16-9c10efe10586",
   "metadata": {},
   "outputs": [],
   "source": [
    "def run_all_qc(adata):\n",
    "    save_path = \"outputs/characteristics/characteristics.csv\"\n",
    "    \n",
    "    adata = setup_qc_metrics(adata)\n",
    "    adata = compute_qc_metrics(adata)\n",
    "    dataset_row, columns = extract_metrics(adata)\n",
    "\n",
    "    saved_df = pd.read_csv(save_path, index_col = 0)\n",
    "    new_df = pd.DataFrame.from_dict(dataset_row, columns = columns, \n",
    "                                    orient='index') \n",
    "    assert saved_df.columns == new_df.columns\n",
    "\n",
    "    pd.concat[saved_\n",
    "\n",
    "    "
   ]
  },
  {
   "cell_type": "code",
   "execution_count": 344,
   "id": "f213bc1f-4aee-4b4b-a4a1-489a0cabe2b3",
   "metadata": {},
   "outputs": [
    {
     "ename": "ValueError",
     "evalue": "56 columns passed, passed data had 104 columns",
     "output_type": "error",
     "traceback": [
      "\u001b[0;31m---------------------------------------------------------------------------\u001b[0m",
      "\u001b[0;31mAssertionError\u001b[0m                            Traceback (most recent call last)",
      "File \u001b[0;32m~/miniforge3/envs/cv-proj/lib/python3.12/site-packages/pandas/core/internals/construction.py:939\u001b[0m, in \u001b[0;36m_finalize_columns_and_data\u001b[0;34m(content, columns, dtype)\u001b[0m\n\u001b[1;32m    938\u001b[0m \u001b[38;5;28;01mtry\u001b[39;00m:\n\u001b[0;32m--> 939\u001b[0m     columns \u001b[38;5;241m=\u001b[39m \u001b[43m_validate_or_indexify_columns\u001b[49m\u001b[43m(\u001b[49m\u001b[43mcontents\u001b[49m\u001b[43m,\u001b[49m\u001b[43m \u001b[49m\u001b[43mcolumns\u001b[49m\u001b[43m)\u001b[49m\n\u001b[1;32m    940\u001b[0m \u001b[38;5;28;01mexcept\u001b[39;00m \u001b[38;5;167;01mAssertionError\u001b[39;00m \u001b[38;5;28;01mas\u001b[39;00m err:\n\u001b[1;32m    941\u001b[0m     \u001b[38;5;66;03m# GH#26429 do not raise user-facing AssertionError\u001b[39;00m\n",
      "File \u001b[0;32m~/miniforge3/envs/cv-proj/lib/python3.12/site-packages/pandas/core/internals/construction.py:986\u001b[0m, in \u001b[0;36m_validate_or_indexify_columns\u001b[0;34m(content, columns)\u001b[0m\n\u001b[1;32m    984\u001b[0m \u001b[38;5;28;01mif\u001b[39;00m \u001b[38;5;129;01mnot\u001b[39;00m is_mi_list \u001b[38;5;129;01mand\u001b[39;00m \u001b[38;5;28mlen\u001b[39m(columns) \u001b[38;5;241m!=\u001b[39m \u001b[38;5;28mlen\u001b[39m(content):  \u001b[38;5;66;03m# pragma: no cover\u001b[39;00m\n\u001b[1;32m    985\u001b[0m     \u001b[38;5;66;03m# caller's responsibility to check for this...\u001b[39;00m\n\u001b[0;32m--> 986\u001b[0m     \u001b[38;5;28;01mraise\u001b[39;00m \u001b[38;5;167;01mAssertionError\u001b[39;00m(\n\u001b[1;32m    987\u001b[0m         \u001b[38;5;124mf\u001b[39m\u001b[38;5;124m\"\u001b[39m\u001b[38;5;132;01m{\u001b[39;00m\u001b[38;5;28mlen\u001b[39m(columns)\u001b[38;5;132;01m}\u001b[39;00m\u001b[38;5;124m columns passed, passed data had \u001b[39m\u001b[38;5;124m\"\u001b[39m\n\u001b[1;32m    988\u001b[0m         \u001b[38;5;124mf\u001b[39m\u001b[38;5;124m\"\u001b[39m\u001b[38;5;132;01m{\u001b[39;00m\u001b[38;5;28mlen\u001b[39m(content)\u001b[38;5;132;01m}\u001b[39;00m\u001b[38;5;124m columns\u001b[39m\u001b[38;5;124m\"\u001b[39m\n\u001b[1;32m    989\u001b[0m     )\n\u001b[1;32m    990\u001b[0m \u001b[38;5;28;01mif\u001b[39;00m is_mi_list:\n\u001b[1;32m    991\u001b[0m     \u001b[38;5;66;03m# check if nested list column, length of each sub-list should be equal\u001b[39;00m\n",
      "\u001b[0;31mAssertionError\u001b[0m: 56 columns passed, passed data had 104 columns",
      "\nThe above exception was the direct cause of the following exception:\n",
      "\u001b[0;31mValueError\u001b[0m                                Traceback (most recent call last)",
      "Cell \u001b[0;32mIn[344], line 1\u001b[0m\n\u001b[0;32m----> 1\u001b[0m new_df \u001b[38;5;241m=\u001b[39m \u001b[43mpd\u001b[49m\u001b[38;5;241;43m.\u001b[39;49m\u001b[43mDataFrame\u001b[49m\u001b[38;5;241;43m.\u001b[39;49m\u001b[43mfrom_dict\u001b[49m\u001b[43m(\u001b[49m\u001b[43mdataset_row\u001b[49m\u001b[43m,\u001b[49m\u001b[43m \u001b[49m\u001b[43mcolumns\u001b[49m\u001b[43m \u001b[49m\u001b[38;5;241;43m=\u001b[39;49m\u001b[43m \u001b[49m\u001b[43mcolumns\u001b[49m\u001b[43m,\u001b[49m\u001b[43m \u001b[49m\n\u001b[1;32m      2\u001b[0m \u001b[43m                                    \u001b[49m\u001b[43morient\u001b[49m\u001b[38;5;241;43m=\u001b[39;49m\u001b[38;5;124;43m'\u001b[39;49m\u001b[38;5;124;43mindex\u001b[39;49m\u001b[38;5;124;43m'\u001b[39;49m\u001b[43m)\u001b[49m \n\u001b[1;32m      3\u001b[0m new_df\u001b[38;5;241m.\u001b[39mloc[:, \u001b[38;5;241m~\u001b[39mnew_df\u001b[38;5;241m.\u001b[39mcolumns\u001b[38;5;241m.\u001b[39mduplicated(keep\u001b[38;5;241m=\u001b[39m\u001b[38;5;124m'\u001b[39m\u001b[38;5;124mlast\u001b[39m\u001b[38;5;124m'\u001b[39m)]\n",
      "File \u001b[0;32m~/miniforge3/envs/cv-proj/lib/python3.12/site-packages/pandas/core/frame.py:1917\u001b[0m, in \u001b[0;36mDataFrame.from_dict\u001b[0;34m(cls, data, orient, dtype, columns)\u001b[0m\n\u001b[1;32m   1911\u001b[0m     \u001b[38;5;28;01mraise\u001b[39;00m \u001b[38;5;167;01mValueError\u001b[39;00m(\n\u001b[1;32m   1912\u001b[0m         \u001b[38;5;124mf\u001b[39m\u001b[38;5;124m\"\u001b[39m\u001b[38;5;124mExpected \u001b[39m\u001b[38;5;124m'\u001b[39m\u001b[38;5;124mindex\u001b[39m\u001b[38;5;124m'\u001b[39m\u001b[38;5;124m, \u001b[39m\u001b[38;5;124m'\u001b[39m\u001b[38;5;124mcolumns\u001b[39m\u001b[38;5;124m'\u001b[39m\u001b[38;5;124m or \u001b[39m\u001b[38;5;124m'\u001b[39m\u001b[38;5;124mtight\u001b[39m\u001b[38;5;124m'\u001b[39m\u001b[38;5;124m for orient parameter. \u001b[39m\u001b[38;5;124m\"\u001b[39m\n\u001b[1;32m   1913\u001b[0m         \u001b[38;5;124mf\u001b[39m\u001b[38;5;124m\"\u001b[39m\u001b[38;5;124mGot \u001b[39m\u001b[38;5;124m'\u001b[39m\u001b[38;5;132;01m{\u001b[39;00morient\u001b[38;5;132;01m}\u001b[39;00m\u001b[38;5;124m'\u001b[39m\u001b[38;5;124m instead\u001b[39m\u001b[38;5;124m\"\u001b[39m\n\u001b[1;32m   1914\u001b[0m     )\n\u001b[1;32m   1916\u001b[0m \u001b[38;5;28;01mif\u001b[39;00m orient \u001b[38;5;241m!=\u001b[39m \u001b[38;5;124m\"\u001b[39m\u001b[38;5;124mtight\u001b[39m\u001b[38;5;124m\"\u001b[39m:\n\u001b[0;32m-> 1917\u001b[0m     \u001b[38;5;28;01mreturn\u001b[39;00m \u001b[38;5;28;43mcls\u001b[39;49m\u001b[43m(\u001b[49m\u001b[43mdata\u001b[49m\u001b[43m,\u001b[49m\u001b[43m \u001b[49m\u001b[43mindex\u001b[49m\u001b[38;5;241;43m=\u001b[39;49m\u001b[43mindex\u001b[49m\u001b[43m,\u001b[49m\u001b[43m \u001b[49m\u001b[43mcolumns\u001b[49m\u001b[38;5;241;43m=\u001b[39;49m\u001b[43mcolumns\u001b[49m\u001b[43m,\u001b[49m\u001b[43m \u001b[49m\u001b[43mdtype\u001b[49m\u001b[38;5;241;43m=\u001b[39;49m\u001b[43mdtype\u001b[49m\u001b[43m)\u001b[49m\n\u001b[1;32m   1918\u001b[0m \u001b[38;5;28;01melse\u001b[39;00m:\n\u001b[1;32m   1919\u001b[0m     realdata \u001b[38;5;241m=\u001b[39m data[\u001b[38;5;124m\"\u001b[39m\u001b[38;5;124mdata\u001b[39m\u001b[38;5;124m\"\u001b[39m]\n",
      "File \u001b[0;32m~/miniforge3/envs/cv-proj/lib/python3.12/site-packages/pandas/core/frame.py:851\u001b[0m, in \u001b[0;36mDataFrame.__init__\u001b[0;34m(self, data, index, columns, dtype, copy)\u001b[0m\n\u001b[1;32m    849\u001b[0m     \u001b[38;5;28;01mif\u001b[39;00m columns \u001b[38;5;129;01mis\u001b[39;00m \u001b[38;5;129;01mnot\u001b[39;00m \u001b[38;5;28;01mNone\u001b[39;00m:\n\u001b[1;32m    850\u001b[0m         columns \u001b[38;5;241m=\u001b[39m ensure_index(columns)\n\u001b[0;32m--> 851\u001b[0m     arrays, columns, index \u001b[38;5;241m=\u001b[39m \u001b[43mnested_data_to_arrays\u001b[49m\u001b[43m(\u001b[49m\n\u001b[1;32m    852\u001b[0m \u001b[43m        \u001b[49m\u001b[38;5;66;43;03m# error: Argument 3 to \"nested_data_to_arrays\" has incompatible\u001b[39;49;00m\n\u001b[1;32m    853\u001b[0m \u001b[43m        \u001b[49m\u001b[38;5;66;43;03m# type \"Optional[Collection[Any]]\"; expected \"Optional[Index]\"\u001b[39;49;00m\n\u001b[1;32m    854\u001b[0m \u001b[43m        \u001b[49m\u001b[43mdata\u001b[49m\u001b[43m,\u001b[49m\n\u001b[1;32m    855\u001b[0m \u001b[43m        \u001b[49m\u001b[43mcolumns\u001b[49m\u001b[43m,\u001b[49m\n\u001b[1;32m    856\u001b[0m \u001b[43m        \u001b[49m\u001b[43mindex\u001b[49m\u001b[43m,\u001b[49m\u001b[43m  \u001b[49m\u001b[38;5;66;43;03m# type: ignore[arg-type]\u001b[39;49;00m\n\u001b[1;32m    857\u001b[0m \u001b[43m        \u001b[49m\u001b[43mdtype\u001b[49m\u001b[43m,\u001b[49m\n\u001b[1;32m    858\u001b[0m \u001b[43m    \u001b[49m\u001b[43m)\u001b[49m\n\u001b[1;32m    859\u001b[0m     mgr \u001b[38;5;241m=\u001b[39m arrays_to_mgr(\n\u001b[1;32m    860\u001b[0m         arrays,\n\u001b[1;32m    861\u001b[0m         columns,\n\u001b[0;32m   (...)\u001b[0m\n\u001b[1;32m    864\u001b[0m         typ\u001b[38;5;241m=\u001b[39mmanager,\n\u001b[1;32m    865\u001b[0m     )\n\u001b[1;32m    866\u001b[0m \u001b[38;5;28;01melse\u001b[39;00m:\n",
      "File \u001b[0;32m~/miniforge3/envs/cv-proj/lib/python3.12/site-packages/pandas/core/internals/construction.py:520\u001b[0m, in \u001b[0;36mnested_data_to_arrays\u001b[0;34m(data, columns, index, dtype)\u001b[0m\n\u001b[1;32m    517\u001b[0m \u001b[38;5;28;01mif\u001b[39;00m is_named_tuple(data[\u001b[38;5;241m0\u001b[39m]) \u001b[38;5;129;01mand\u001b[39;00m columns \u001b[38;5;129;01mis\u001b[39;00m \u001b[38;5;28;01mNone\u001b[39;00m:\n\u001b[1;32m    518\u001b[0m     columns \u001b[38;5;241m=\u001b[39m ensure_index(data[\u001b[38;5;241m0\u001b[39m]\u001b[38;5;241m.\u001b[39m_fields)\n\u001b[0;32m--> 520\u001b[0m arrays, columns \u001b[38;5;241m=\u001b[39m \u001b[43mto_arrays\u001b[49m\u001b[43m(\u001b[49m\u001b[43mdata\u001b[49m\u001b[43m,\u001b[49m\u001b[43m \u001b[49m\u001b[43mcolumns\u001b[49m\u001b[43m,\u001b[49m\u001b[43m \u001b[49m\u001b[43mdtype\u001b[49m\u001b[38;5;241;43m=\u001b[39;49m\u001b[43mdtype\u001b[49m\u001b[43m)\u001b[49m\n\u001b[1;32m    521\u001b[0m columns \u001b[38;5;241m=\u001b[39m ensure_index(columns)\n\u001b[1;32m    523\u001b[0m \u001b[38;5;28;01mif\u001b[39;00m index \u001b[38;5;129;01mis\u001b[39;00m \u001b[38;5;28;01mNone\u001b[39;00m:\n",
      "File \u001b[0;32m~/miniforge3/envs/cv-proj/lib/python3.12/site-packages/pandas/core/internals/construction.py:845\u001b[0m, in \u001b[0;36mto_arrays\u001b[0;34m(data, columns, dtype)\u001b[0m\n\u001b[1;32m    842\u001b[0m     data \u001b[38;5;241m=\u001b[39m [\u001b[38;5;28mtuple\u001b[39m(x) \u001b[38;5;28;01mfor\u001b[39;00m x \u001b[38;5;129;01min\u001b[39;00m data]\n\u001b[1;32m    843\u001b[0m     arr \u001b[38;5;241m=\u001b[39m _list_to_arrays(data)\n\u001b[0;32m--> 845\u001b[0m content, columns \u001b[38;5;241m=\u001b[39m \u001b[43m_finalize_columns_and_data\u001b[49m\u001b[43m(\u001b[49m\u001b[43marr\u001b[49m\u001b[43m,\u001b[49m\u001b[43m \u001b[49m\u001b[43mcolumns\u001b[49m\u001b[43m,\u001b[49m\u001b[43m \u001b[49m\u001b[43mdtype\u001b[49m\u001b[43m)\u001b[49m\n\u001b[1;32m    846\u001b[0m \u001b[38;5;28;01mreturn\u001b[39;00m content, columns\n",
      "File \u001b[0;32m~/miniforge3/envs/cv-proj/lib/python3.12/site-packages/pandas/core/internals/construction.py:942\u001b[0m, in \u001b[0;36m_finalize_columns_and_data\u001b[0;34m(content, columns, dtype)\u001b[0m\n\u001b[1;32m    939\u001b[0m     columns \u001b[38;5;241m=\u001b[39m _validate_or_indexify_columns(contents, columns)\n\u001b[1;32m    940\u001b[0m \u001b[38;5;28;01mexcept\u001b[39;00m \u001b[38;5;167;01mAssertionError\u001b[39;00m \u001b[38;5;28;01mas\u001b[39;00m err:\n\u001b[1;32m    941\u001b[0m     \u001b[38;5;66;03m# GH#26429 do not raise user-facing AssertionError\u001b[39;00m\n\u001b[0;32m--> 942\u001b[0m     \u001b[38;5;28;01mraise\u001b[39;00m \u001b[38;5;167;01mValueError\u001b[39;00m(err) \u001b[38;5;28;01mfrom\u001b[39;00m \u001b[38;5;21;01merr\u001b[39;00m\n\u001b[1;32m    944\u001b[0m \u001b[38;5;28;01mif\u001b[39;00m \u001b[38;5;28mlen\u001b[39m(contents) \u001b[38;5;129;01mand\u001b[39;00m contents[\u001b[38;5;241m0\u001b[39m]\u001b[38;5;241m.\u001b[39mdtype \u001b[38;5;241m==\u001b[39m np\u001b[38;5;241m.\u001b[39mobject_:\n\u001b[1;32m    945\u001b[0m     contents \u001b[38;5;241m=\u001b[39m convert_object_array(contents, dtype\u001b[38;5;241m=\u001b[39mdtype)\n",
      "\u001b[0;31mValueError\u001b[0m: 56 columns passed, passed data had 104 columns"
     ]
    }
   ],
   "source": [
    "\n",
    "new_df.loc[:, ~new_df.columns.duplicated(keep='last')]"
   ]
  },
  {
   "cell_type": "code",
   "execution_count": null,
   "id": "bde36dba-6691-4fec-bd4d-014a4da56ea7",
   "metadata": {},
   "outputs": [],
   "source": []
  },
  {
   "cell_type": "code",
   "execution_count": 337,
   "id": "f07fbb90-9e2c-4024-b134-4923a7de8551",
   "metadata": {},
   "outputs": [],
   "source": [
    "old_df = pd.read_csv(save_path, index_col = 0)"
   ]
  },
  {
   "cell_type": "code",
   "execution_count": 338,
   "id": "684b1d1a-bd6e-4245-9484-9af424883b59",
   "metadata": {},
   "outputs": [
    {
     "ename": "MergeError",
     "evalue": "Data columns not unique: Index(['n_genes_by_counts', 'log1p_n_genes_by_counts', 'total_counts',\n       'log1p_total_counts', 'total_counts_mt', 'log1p_total_counts_mt',\n       'pct_counts_mt', 'total_counts_ribo', 'log1p_total_counts_ribo',\n       'pct_counts_ribo', 'total_counts_hb', 'log1p_total_counts_hb',\n       'pct_counts_hb'],\n      dtype='object')",
     "output_type": "error",
     "traceback": [
      "\u001b[0;31m---------------------------------------------------------------------------\u001b[0m",
      "\u001b[0;31mMergeError\u001b[0m                                Traceback (most recent call last)",
      "Cell \u001b[0;32mIn[338], line 1\u001b[0m\n\u001b[0;32m----> 1\u001b[0m merged_df \u001b[38;5;241m=\u001b[39m \u001b[43mpd\u001b[49m\u001b[38;5;241;43m.\u001b[39;49m\u001b[43mmerge\u001b[49m\u001b[43m(\u001b[49m\u001b[43mold_df\u001b[49m\u001b[43m,\u001b[49m\u001b[43m \u001b[49m\u001b[43mnew_df\u001b[49m\u001b[43m)\u001b[49m\n",
      "File \u001b[0;32m~/miniforge3/envs/cv-proj/lib/python3.12/site-packages/pandas/core/reshape/merge.py:170\u001b[0m, in \u001b[0;36mmerge\u001b[0;34m(left, right, how, on, left_on, right_on, left_index, right_index, sort, suffixes, copy, indicator, validate)\u001b[0m\n\u001b[1;32m    155\u001b[0m     \u001b[38;5;28;01mreturn\u001b[39;00m _cross_merge(\n\u001b[1;32m    156\u001b[0m         left_df,\n\u001b[1;32m    157\u001b[0m         right_df,\n\u001b[0;32m   (...)\u001b[0m\n\u001b[1;32m    167\u001b[0m         copy\u001b[38;5;241m=\u001b[39mcopy,\n\u001b[1;32m    168\u001b[0m     )\n\u001b[1;32m    169\u001b[0m \u001b[38;5;28;01melse\u001b[39;00m:\n\u001b[0;32m--> 170\u001b[0m     op \u001b[38;5;241m=\u001b[39m \u001b[43m_MergeOperation\u001b[49m\u001b[43m(\u001b[49m\n\u001b[1;32m    171\u001b[0m \u001b[43m        \u001b[49m\u001b[43mleft_df\u001b[49m\u001b[43m,\u001b[49m\n\u001b[1;32m    172\u001b[0m \u001b[43m        \u001b[49m\u001b[43mright_df\u001b[49m\u001b[43m,\u001b[49m\n\u001b[1;32m    173\u001b[0m \u001b[43m        \u001b[49m\u001b[43mhow\u001b[49m\u001b[38;5;241;43m=\u001b[39;49m\u001b[43mhow\u001b[49m\u001b[43m,\u001b[49m\n\u001b[1;32m    174\u001b[0m \u001b[43m        \u001b[49m\u001b[43mon\u001b[49m\u001b[38;5;241;43m=\u001b[39;49m\u001b[43mon\u001b[49m\u001b[43m,\u001b[49m\n\u001b[1;32m    175\u001b[0m \u001b[43m        \u001b[49m\u001b[43mleft_on\u001b[49m\u001b[38;5;241;43m=\u001b[39;49m\u001b[43mleft_on\u001b[49m\u001b[43m,\u001b[49m\n\u001b[1;32m    176\u001b[0m \u001b[43m        \u001b[49m\u001b[43mright_on\u001b[49m\u001b[38;5;241;43m=\u001b[39;49m\u001b[43mright_on\u001b[49m\u001b[43m,\u001b[49m\n\u001b[1;32m    177\u001b[0m \u001b[43m        \u001b[49m\u001b[43mleft_index\u001b[49m\u001b[38;5;241;43m=\u001b[39;49m\u001b[43mleft_index\u001b[49m\u001b[43m,\u001b[49m\n\u001b[1;32m    178\u001b[0m \u001b[43m        \u001b[49m\u001b[43mright_index\u001b[49m\u001b[38;5;241;43m=\u001b[39;49m\u001b[43mright_index\u001b[49m\u001b[43m,\u001b[49m\n\u001b[1;32m    179\u001b[0m \u001b[43m        \u001b[49m\u001b[43msort\u001b[49m\u001b[38;5;241;43m=\u001b[39;49m\u001b[43msort\u001b[49m\u001b[43m,\u001b[49m\n\u001b[1;32m    180\u001b[0m \u001b[43m        \u001b[49m\u001b[43msuffixes\u001b[49m\u001b[38;5;241;43m=\u001b[39;49m\u001b[43msuffixes\u001b[49m\u001b[43m,\u001b[49m\n\u001b[1;32m    181\u001b[0m \u001b[43m        \u001b[49m\u001b[43mindicator\u001b[49m\u001b[38;5;241;43m=\u001b[39;49m\u001b[43mindicator\u001b[49m\u001b[43m,\u001b[49m\n\u001b[1;32m    182\u001b[0m \u001b[43m        \u001b[49m\u001b[43mvalidate\u001b[49m\u001b[38;5;241;43m=\u001b[39;49m\u001b[43mvalidate\u001b[49m\u001b[43m,\u001b[49m\n\u001b[1;32m    183\u001b[0m \u001b[43m    \u001b[49m\u001b[43m)\u001b[49m\n\u001b[1;32m    184\u001b[0m     \u001b[38;5;28;01mreturn\u001b[39;00m op\u001b[38;5;241m.\u001b[39mget_result(copy\u001b[38;5;241m=\u001b[39mcopy)\n",
      "File \u001b[0;32m~/miniforge3/envs/cv-proj/lib/python3.12/site-packages/pandas/core/reshape/merge.py:786\u001b[0m, in \u001b[0;36m_MergeOperation.__init__\u001b[0;34m(self, left, right, how, on, left_on, right_on, left_index, right_index, sort, suffixes, indicator, validate)\u001b[0m\n\u001b[1;32m    779\u001b[0m     msg \u001b[38;5;241m=\u001b[39m (\n\u001b[1;32m    780\u001b[0m         \u001b[38;5;124m\"\u001b[39m\u001b[38;5;124mNot allowed to merge between different levels. \u001b[39m\u001b[38;5;124m\"\u001b[39m\n\u001b[1;32m    781\u001b[0m         \u001b[38;5;124mf\u001b[39m\u001b[38;5;124m\"\u001b[39m\u001b[38;5;124m(\u001b[39m\u001b[38;5;132;01m{\u001b[39;00m_left\u001b[38;5;241m.\u001b[39mcolumns\u001b[38;5;241m.\u001b[39mnlevels\u001b[38;5;132;01m}\u001b[39;00m\u001b[38;5;124m levels on the left, \u001b[39m\u001b[38;5;124m\"\u001b[39m\n\u001b[1;32m    782\u001b[0m         \u001b[38;5;124mf\u001b[39m\u001b[38;5;124m\"\u001b[39m\u001b[38;5;132;01m{\u001b[39;00m_right\u001b[38;5;241m.\u001b[39mcolumns\u001b[38;5;241m.\u001b[39mnlevels\u001b[38;5;132;01m}\u001b[39;00m\u001b[38;5;124m on the right)\u001b[39m\u001b[38;5;124m\"\u001b[39m\n\u001b[1;32m    783\u001b[0m     )\n\u001b[1;32m    784\u001b[0m     \u001b[38;5;28;01mraise\u001b[39;00m MergeError(msg)\n\u001b[0;32m--> 786\u001b[0m \u001b[38;5;28mself\u001b[39m\u001b[38;5;241m.\u001b[39mleft_on, \u001b[38;5;28mself\u001b[39m\u001b[38;5;241m.\u001b[39mright_on \u001b[38;5;241m=\u001b[39m \u001b[38;5;28;43mself\u001b[39;49m\u001b[38;5;241;43m.\u001b[39;49m\u001b[43m_validate_left_right_on\u001b[49m\u001b[43m(\u001b[49m\u001b[43mleft_on\u001b[49m\u001b[43m,\u001b[49m\u001b[43m \u001b[49m\u001b[43mright_on\u001b[49m\u001b[43m)\u001b[49m\n\u001b[1;32m    788\u001b[0m (\n\u001b[1;32m    789\u001b[0m     \u001b[38;5;28mself\u001b[39m\u001b[38;5;241m.\u001b[39mleft_join_keys,\n\u001b[1;32m    790\u001b[0m     \u001b[38;5;28mself\u001b[39m\u001b[38;5;241m.\u001b[39mright_join_keys,\n\u001b[0;32m   (...)\u001b[0m\n\u001b[1;32m    793\u001b[0m     right_drop,\n\u001b[1;32m    794\u001b[0m ) \u001b[38;5;241m=\u001b[39m \u001b[38;5;28mself\u001b[39m\u001b[38;5;241m.\u001b[39m_get_merge_keys()\n\u001b[1;32m    796\u001b[0m \u001b[38;5;28;01mif\u001b[39;00m left_drop:\n",
      "File \u001b[0;32m~/miniforge3/envs/cv-proj/lib/python3.12/site-packages/pandas/core/reshape/merge.py:1583\u001b[0m, in \u001b[0;36m_MergeOperation._validate_left_right_on\u001b[0;34m(self, left_on, right_on)\u001b[0m\n\u001b[1;32m   1572\u001b[0m             \u001b[38;5;28;01mraise\u001b[39;00m MergeError(\n\u001b[1;32m   1573\u001b[0m                 \u001b[38;5;124m\"\u001b[39m\u001b[38;5;124mNo common columns to perform merge on. \u001b[39m\u001b[38;5;124m\"\u001b[39m\n\u001b[1;32m   1574\u001b[0m                 \u001b[38;5;124mf\u001b[39m\u001b[38;5;124m\"\u001b[39m\u001b[38;5;124mMerge options: left_on=\u001b[39m\u001b[38;5;132;01m{\u001b[39;00mleft_on\u001b[38;5;132;01m}\u001b[39;00m\u001b[38;5;124m, \u001b[39m\u001b[38;5;124m\"\u001b[39m\n\u001b[0;32m   (...)\u001b[0m\n\u001b[1;32m   1577\u001b[0m                 \u001b[38;5;124mf\u001b[39m\u001b[38;5;124m\"\u001b[39m\u001b[38;5;124mright_index=\u001b[39m\u001b[38;5;132;01m{\u001b[39;00m\u001b[38;5;28mself\u001b[39m\u001b[38;5;241m.\u001b[39mright_index\u001b[38;5;132;01m}\u001b[39;00m\u001b[38;5;124m\"\u001b[39m\n\u001b[1;32m   1578\u001b[0m             )\n\u001b[1;32m   1579\u001b[0m         \u001b[38;5;28;01mif\u001b[39;00m (\n\u001b[1;32m   1580\u001b[0m             \u001b[38;5;129;01mnot\u001b[39;00m left_cols\u001b[38;5;241m.\u001b[39mjoin(common_cols, how\u001b[38;5;241m=\u001b[39m\u001b[38;5;124m\"\u001b[39m\u001b[38;5;124minner\u001b[39m\u001b[38;5;124m\"\u001b[39m)\u001b[38;5;241m.\u001b[39mis_unique\n\u001b[1;32m   1581\u001b[0m             \u001b[38;5;129;01mor\u001b[39;00m \u001b[38;5;129;01mnot\u001b[39;00m right_cols\u001b[38;5;241m.\u001b[39mjoin(common_cols, how\u001b[38;5;241m=\u001b[39m\u001b[38;5;124m\"\u001b[39m\u001b[38;5;124minner\u001b[39m\u001b[38;5;124m\"\u001b[39m)\u001b[38;5;241m.\u001b[39mis_unique\n\u001b[1;32m   1582\u001b[0m         ):\n\u001b[0;32m-> 1583\u001b[0m             \u001b[38;5;28;01mraise\u001b[39;00m MergeError(\u001b[38;5;124mf\u001b[39m\u001b[38;5;124m\"\u001b[39m\u001b[38;5;124mData columns not unique: \u001b[39m\u001b[38;5;132;01m{\u001b[39;00m\u001b[38;5;28mrepr\u001b[39m(common_cols)\u001b[38;5;132;01m}\u001b[39;00m\u001b[38;5;124m\"\u001b[39m)\n\u001b[1;32m   1584\u001b[0m         left_on \u001b[38;5;241m=\u001b[39m right_on \u001b[38;5;241m=\u001b[39m common_cols\n\u001b[1;32m   1585\u001b[0m \u001b[38;5;28;01melif\u001b[39;00m \u001b[38;5;28mself\u001b[39m\u001b[38;5;241m.\u001b[39mon \u001b[38;5;129;01mis\u001b[39;00m \u001b[38;5;129;01mnot\u001b[39;00m \u001b[38;5;28;01mNone\u001b[39;00m:\n",
      "\u001b[0;31mMergeError\u001b[0m: Data columns not unique: Index(['n_genes_by_counts', 'log1p_n_genes_by_counts', 'total_counts',\n       'log1p_total_counts', 'total_counts_mt', 'log1p_total_counts_mt',\n       'pct_counts_mt', 'total_counts_ribo', 'log1p_total_counts_ribo',\n       'pct_counts_ribo', 'total_counts_hb', 'log1p_total_counts_hb',\n       'pct_counts_hb'],\n      dtype='object')"
     ]
    }
   ],
   "source": [
    "merged_df = pd.merge(old_df, new_df)"
   ]
  },
  {
   "cell_type": "code",
   "execution_count": 3,
   "id": "fa42357c-45cc-49e3-acdd-5dc8beaa6e16",
   "metadata": {},
   "outputs": [],
   "source": [
    "\n",
    "data_path_MSC = Path('data/MSC/MSC_gene_expression_FINAL.h5ad')\n",
    "data_path_DPLC_1 = Path('data/DLPC/151507')\n",
    "data_path_DPLC_2 = Path('data/DLPC/151508')\n",
    "data_path_DPLC_3 = Path('data/DLPC/151509')\n",
    "data_path_HBCA1 = Path('data/HBCA1/')\n",
    "\n",
    "adata = sc.read_h5ad(data_path_MSC)\n",
    "adata.uns['name'] = 'MSC'\n",
    "\n",
    "\n",
    "adata1 = sc.read_visium(data_path_DPLC_1,\n",
    "                       count_file = \"151507_filtered_feature_bc_matrix.h5\")\n",
    "adata1.uns['name'] = 'DPLC_151707'\n",
    "\n",
    "adata2 = sc.read_visium(data_path_DPLC_2,\n",
    "                       count_file = \"151508_filtered_feature_bc_matrix.h5\")\n",
    "adata2.uns['name'] = 'DPLC_151708'\n",
    "\n",
    "\n",
    "adata3 = sc.read_visium(data_path_DPLC_3,\n",
    "                       count_file = \"151509_filtered_feature_bc_matrix.h5\")\n",
    "adata3.uns['name'] = 'DPLC_151709'\n",
    "\n",
    "\n",
    "adata4 = sc.read_visium(data_path_HBCA1,\n",
    "                       count_file = \"V1_Breast_Cancer_Block_A_Section_1_filtered_feature_bc_matrix.h5\")\n",
    "adata4.uns['name'] = 'HBCA1'"
   ]
  }
 ],
 "metadata": {
  "kernelspec": {
   "display_name": "Python 3 (ipykernel)",
   "language": "python",
   "name": "python3"
  },
  "language_info": {
   "codemirror_mode": {
    "name": "ipython",
    "version": 3
   },
   "file_extension": ".py",
   "mimetype": "text/x-python",
   "name": "python",
   "nbconvert_exporter": "python",
   "pygments_lexer": "ipython3",
   "version": "3.12.4"
  }
 },
 "nbformat": 4,
 "nbformat_minor": 5
}
