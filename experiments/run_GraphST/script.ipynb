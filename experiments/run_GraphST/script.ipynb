{
 "cells": [
  {
   "cell_type": "code",
   "execution_count": 17,
   "id": "bb2a5c34-8ed6-464e-a70d-870f4770306b",
   "metadata": {},
   "outputs": [
    {
     "ename": "ModuleNotFoundError",
     "evalue": "No module named 'GraphST'",
     "output_type": "error",
     "traceback": [
      "\u001b[0;31m---------------------------------------------------------------------------\u001b[0m",
      "\u001b[0;31mModuleNotFoundError\u001b[0m                       Traceback (most recent call last)",
      "Cell \u001b[0;32mIn[17], line 9\u001b[0m\n\u001b[1;32m      7\u001b[0m \u001b[38;5;28;01mimport\u001b[39;00m \u001b[38;5;21;01mnumpy\u001b[39;00m \u001b[38;5;28;01mas\u001b[39;00m \u001b[38;5;21;01mnp\u001b[39;00m\n\u001b[1;32m      8\u001b[0m \u001b[38;5;28;01mimport\u001b[39;00m \u001b[38;5;21;01manndata\u001b[39;00m\n\u001b[0;32m----> 9\u001b[0m \u001b[38;5;28;01mfrom\u001b[39;00m \u001b[38;5;21;01mGraphST\u001b[39;00m \u001b[38;5;28;01mimport\u001b[39;00m GraphST\n\u001b[1;32m     10\u001b[0m \u001b[38;5;66;03m# from GraphST.utils import clustering\u001b[39;00m\n\u001b[1;32m     11\u001b[0m \u001b[38;5;66;03m# # Run device, by default, the package is implemented on 'cpu'. We recommend using GPU.\u001b[39;00m\n\u001b[1;32m     12\u001b[0m \u001b[38;5;66;03m# device = torch.device('cuda:3' if torch.cuda.is_available() else 'cpu')\u001b[39;00m\n\u001b[1;32m     14\u001b[0m data_dir \u001b[38;5;241m=\u001b[39m  \u001b[38;5;124m'\u001b[39m\u001b[38;5;124m../../data/DLPC\u001b[39m\u001b[38;5;124m'\u001b[39m\n",
      "\u001b[0;31mModuleNotFoundError\u001b[0m: No module named 'GraphST'"
     ]
    }
   ],
   "source": [
    "import os\n",
    "import torch\n",
    "import pandas as pd\n",
    "import scanpy as sc\n",
    "from sklearn import metrics\n",
    "import multiprocessing as mp\n",
    "import numpy as np\n",
    "import anndata\n",
    "from GraphST import GraphST\n",
    "# from GraphST.utils import clustering\n",
    "# # Run device, by default, the package is implemented on 'cpu'. We recommend using GPU.\n",
    "# device = torch.device('cuda:3' if torch.cuda.is_available() else 'cpu')\n",
    "\n",
    "data_dir =  '../../data/DLPC'"
   ]
  },
  {
   "cell_type": "code",
   "execution_count": 18,
   "id": "fcd84617-6c5a-4c96-b213-671491821809",
   "metadata": {},
   "outputs": [
    {
     "name": "stdout",
     "output_type": "stream",
     "text": [
      "/home/kyan/miniforge3/envs/GraphST/bin/python\n"
     ]
    }
   ],
   "source": [
    "!which python"
   ]
  },
  {
   "cell_type": "code",
   "execution_count": 19,
   "id": "4279fd40-25f9-4ada-a339-bb7f2506922d",
   "metadata": {},
   "outputs": [
    {
     "name": "stdout",
     "output_type": "stream",
     "text": [
      "/home/kyan/miniforge3/condabin/conda\n"
     ]
    }
   ],
   "source": [
    "!which conda"
   ]
  },
  {
   "cell_type": "code",
   "execution_count": 7,
   "id": "f59fc320-bac0-4a1f-89af-96208a0a4cb5",
   "metadata": {},
   "outputs": [
    {
     "name": "stdout",
     "output_type": "stream",
     "text": [
      "Found existing installation: GraphST 1.1.1\n",
      "Uninstalling GraphST-1.1.1:\n",
      "  Successfully uninstalled GraphST-1.1.1\n"
     ]
    }
   ],
   "source": [
    "!pip uninstall GraphST -y"
   ]
  },
  {
   "cell_type": "code",
   "execution_count": 5,
   "id": "09bcfa60-07b9-474b-8ecd-693c90584ae5",
   "metadata": {},
   "outputs": [
    {
     "name": "stdout",
     "output_type": "stream",
     "text": [
      "# packages in environment at /home/kyan/miniforge3/envs/GraphST:\n",
      "#\n",
      "# Name                    Version                   Build  Channel\n",
      "_libgcc_mutex             0.1                 conda_forge    conda-forge\n",
      "_openmp_mutex             4.5                       2_gnu    conda-forge\n",
      "bzip2                     1.0.8                h4bc722e_7    conda-forge\n",
      "ca-certificates           2024.7.4             hbcca054_0    conda-forge\n",
      "certifi                   2024.7.4                 pypi_0    pypi\n",
      "charset-normalizer        3.3.2                    pypi_0    pypi\n",
      "graphst                   1.1.1                    pypi_0    pypi\n",
      "idna                      3.7                      pypi_0    pypi\n",
      "ld_impl_linux-64          2.40                 hf3520f5_7    conda-forge\n",
      "libffi                    3.4.2                h7f98852_5    conda-forge\n",
      "libgcc-ng                 14.1.0               h77fa898_0    conda-forge\n",
      "libgomp                   14.1.0               h77fa898_0    conda-forge\n",
      "libnsl                    2.0.1                hd590300_0    conda-forge\n",
      "libsqlite                 3.46.0               hde9e2c9_0    conda-forge\n",
      "libuuid                   2.38.1               h0b41bf4_0    conda-forge\n",
      "libxcrypt                 4.4.36               hd590300_1    conda-forge\n",
      "libzlib                   1.3.1                h4ab18f5_1    conda-forge\n",
      "ncurses                   6.5                  h59595ed_0    conda-forge\n",
      "openssl                   3.3.1                h4bc722e_2    conda-forge\n",
      "pip                       24.2               pyhd8ed1ab_0    conda-forge\n",
      "python                    3.8.19          hd12c33a_0_cpython    conda-forge\n",
      "readline                  8.2                  h8228510_1    conda-forge\n",
      "requests                  2.32.3                   pypi_0    pypi\n",
      "setuptools                72.2.0             pyhd8ed1ab_0    conda-forge\n",
      "tk                        8.6.13          noxft_h4845f30_101    conda-forge\n",
      "urllib3                   2.2.2                    pypi_0    pypi\n",
      "wheel                     0.44.0             pyhd8ed1ab_0    conda-forge\n",
      "xz                        5.2.6                h166bdaf_0    conda-forge\n"
     ]
    }
   ],
   "source": [
    "!conda list"
   ]
  },
  {
   "cell_type": "code",
   "execution_count": null,
   "id": "c269f832-4d1a-4b16-bd7f-53a22af93e2a",
   "metadata": {},
   "outputs": [],
   "source": [
    "# for loading DLPFC12 data\n",
    "\n",
    "def load_DLPFC(root_dir, section_id='151507'):\n",
    "    ad = sc.read_visium(path=os.path.join(root_dir, section_id), count_file=section_id+'_filtered_feature_bc_matrix.h5')\n",
    "    ad.var_names_make_unique()\n",
    "\n",
    "    gt_dir = os.path.join(root_dir, section_id, 'gt')\n",
    "    gt_df = pd.read_csv(os.path.join(gt_dir, 'tissue_positions_list_GTs.txt'), sep=',', header=None, index_col=0)\n",
    "    ad.obs['original_clusters'] = gt_df.loc[:, 6]\n",
    "    keep_bcs = ad.obs.dropna().index\n",
    "    ad = ad[keep_bcs].copy()\n",
    "    ad.obs['original_clusters'] = ad.obs['original_clusters'].astype(int).astype(str)\n",
    "    # print(ad.obs)\n",
    "    return ad\n"
   ]
  },
  {
   "cell_type": "code",
   "execution_count": 3,
   "id": "d7a17f6c-c550-4a77-954c-e25f73d45299",
   "metadata": {},
   "outputs": [
    {
     "ename": "NameError",
     "evalue": "name 'load_DLPFC' is not defined",
     "output_type": "error",
     "traceback": [
      "\u001b[0;31m---------------------------------------------------------------------------\u001b[0m",
      "\u001b[0;31mNameError\u001b[0m                                 Traceback (most recent call last)",
      "Cell \u001b[0;32mIn[3], line 6\u001b[0m\n\u001b[1;32m      4\u001b[0m n_clusters \u001b[38;5;241m=\u001b[39m param[\u001b[38;5;241m0\u001b[39m]\n\u001b[1;32m      5\u001b[0m dataset \u001b[38;5;241m=\u001b[39m param[\u001b[38;5;241m1\u001b[39m]\n\u001b[0;32m----> 6\u001b[0m ad \u001b[38;5;241m=\u001b[39m  \u001b[43mload_DLPFC\u001b[49m(root_dir\u001b[38;5;241m=\u001b[39mdata_dir, section_id\u001b[38;5;241m=\u001b[39mdataset)\n",
      "\u001b[0;31mNameError\u001b[0m: name 'load_DLPFC' is not defined"
     ]
    }
   ],
   "source": [
    "params = [[7, '151507']]\n",
    "\n",
    "for param in params:\n",
    "    n_clusters = param[0]\n",
    "    dataset = param[1]\n",
    "    ad =  load_DLPFC(root_dir=data_dir, section_id=dataset)"
   ]
  }
 ],
 "metadata": {
  "kernelspec": {
   "display_name": "Python 3 (ipykernel)",
   "language": "python",
   "name": "python3"
  },
  "language_info": {
   "codemirror_mode": {
    "name": "ipython",
    "version": 3
   },
   "file_extension": ".py",
   "mimetype": "text/x-python",
   "name": "python",
   "nbconvert_exporter": "python",
   "pygments_lexer": "ipython3",
   "version": "3.10.12"
  }
 },
 "nbformat": 4,
 "nbformat_minor": 5
}
