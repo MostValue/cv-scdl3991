{
 "cells": [
  {
   "cell_type": "markdown",
   "id": "aa3c1acb-a5dc-49d9-b12f-574ee545bc74",
   "metadata": {},
   "source": [
    "## Data Cleaning"
   ]
  },
  {
   "cell_type": "markdown",
   "id": "7d1494e2-8317-46c3-91ae-1db38f051bee",
   "metadata": {},
   "source": [
    "- Cleaning the MH dataset to be raw counts only for future processing"
   ]
  },
  {
   "cell_type": "code",
   "execution_count": 3,
   "id": "a320a569-20b4-4fce-99a1-acf9b713c967",
   "metadata": {},
   "outputs": [],
   "source": [
    "import pandas as pd\n",
    "from pathlib import Path\n",
    "import os\n",
    "\n",
    "# Ensure you are always in the parent dir\n",
    "os.chdir('/home/kyan/git/cv-scdl3991/')\n",
    "data_path = Path('data/MH/Moffitt_and_Bambah-Mukku_et_al_merfish_all_cells.csv')"
   ]
  },
  {
   "cell_type": "code",
   "execution_count": 4,
   "id": "2be73678-87b6-4948-bd38-384cb91f64b5",
   "metadata": {},
   "outputs": [],
   "source": [
    "# Load the CSV file, csvs are pretty inefficient so this takes a while\n",
    "\n",
    "df = pd.read_csv(data_path)\n",
    "\n",
    "# Remove columns 2 to 8 (index 1 to 7)\n",
    "df = df.drop(df.columns[1:9], axis=1)"
   ]
  },
  {
   "cell_type": "code",
   "execution_count": 6,
   "id": "827cb889-0d97-4408-9772-1ab54f5a1f6f",
   "metadata": {},
   "outputs": [],
   "source": [
    "# Save the modified DataFrame back to a new CSV file\n",
    "output_file = data_path.parent / 'MH_merfish_raw_counts.csv'\n",
    "df.to_csv(output_file, index=False)"
   ]
  },
  {
   "cell_type": "code",
   "execution_count": 1,
   "id": "eb0e3bd0-13d4-42b2-94dc-78edaebb967c",
   "metadata": {},
   "outputs": [
    {
     "data": {
      "text/plain": [
       "<torch._C.Generator at 0x7fb5e65db830>"
      ]
     },
     "execution_count": 1,
     "metadata": {},
     "output_type": "execute_result"
    }
   ],
   "source": [
    "import scanpy as sc\n",
    "import pandas as pd\n",
    "import math\n",
    "import numpy as np\n",
    "from sklearn import metrics\n",
    "import torch\n",
    "# Plotting\n",
    "\n",
    "import seaborn as sns\n",
    "\n",
    "# System\n",
    "from pathlib import Path\n",
    "import os\n",
    "from GraphST import GraphST\n",
    "from GraphST.utils import clustering\n",
    "import itertools\n",
    "\n",
    "import pyreadr\n",
    "\n",
    "# Ensure you are always in the parent dir\n",
    "os.chdir('/home/kyan/git/cv-scdl3991/')\n",
    "# data_path = Path('data/MH/MH_raw_counts.csv')\n",
    "data_path = Path('data/')\n",
    "output_path = Path('outputs/clustering/')\n",
    "# Warnings \n",
    "import warnings\n",
    "warnings.simplefilter(\"ignore\")\n",
    "\n",
    "device = torch.device('cuda:0' if torch.cuda.is_available() else 'cpu')\n",
    "\n",
    "# setting seed\n",
    "torch.manual_seed(17)"
   ]
  },
  {
   "cell_type": "code",
   "execution_count": 14,
   "id": "caf7a593-4e1e-489a-8545-e22549e1a217",
   "metadata": {},
   "outputs": [],
   "source": [
    "# Function to load all valid DLPC datasets from the DPLC directory\n",
    "def load_dlpc_datasets(dlpc_dir):\n",
    "    dlpc_dir = Path(dlpc_dir)\n",
    "    datasets = []\n",
    "\n",
    "    # Iterate through all directories in the DPLC folder\n",
    "    for folder in dlpc_dir.iterdir():\n",
    "        if folder.is_dir():  # Check if it's a directory\n",
    "            patient_id = folder.name\n",
    "            count_file = folder / (patient_id + \"_filtered_feature_bc_matrix.h5\")\n",
    "            if count_file.exists():  # Check if the data file exists\n",
    "                print(f\"Loading data from {folder.name}...\")\n",
    "                adata = sc.read_visium(folder, count_file=f\"{patient_id}_filtered_feature_bc_matrix.h5\")\n",
    "                adata.uns['name'] = folder.name\n",
    "                datasets.append(adata)\n",
    "            else:\n",
    "                print(f\"Skipping folder {folder.name}: no valid data file found.\")\n",
    "    \n",
    "    return datasets"
   ]
  },
  {
   "cell_type": "code",
   "execution_count": 38,
   "id": "db4b9032-5432-4732-a60d-5c77eb85c22a",
   "metadata": {},
   "outputs": [
    {
     "name": "stdout",
     "output_type": "stream",
     "text": [
      "Loading data from 151671...\n",
      "Loading data from 151509...\n",
      "Loading data from 151675...\n",
      "Loading data from 151507...\n",
      "Loading data from 151669...\n",
      "Skipping folder DLPFC12: no valid data file found.\n",
      "Loading data from 151670...\n",
      "Loading data from 151674...\n",
      "Loading data from 151676...\n",
      "Loading data from 151508...\n",
      "Loading data from 151510...\n",
      "Loading data from 151673...\n",
      "Loading data from 151672...\n"
     ]
    }
   ],
   "source": [
    "res = load_dlpc_datasets(data_path/\"DLPC\")"
   ]
  },
  {
   "cell_type": "code",
   "execution_count": 18,
   "id": "950da959-b595-4ee5-b684-69c8c33803dc",
   "metadata": {},
   "outputs": [
    {
     "data": {
      "text/plain": [
       "AnnData object with n_obs × n_vars = 4789 × 33538\n",
       "    obs: 'in_tissue', 'array_row', 'array_col'\n",
       "    var: 'gene_ids', 'feature_types', 'genome'\n",
       "    uns: 'spatial', 'name'\n",
       "    obsm: 'spatial'"
      ]
     },
     "execution_count": 18,
     "metadata": {},
     "output_type": "execute_result"
    }
   ],
   "source": [
    "res[1]"
   ]
  },
  {
   "cell_type": "code",
   "execution_count": 4,
   "id": "7ff2e7e4-ad42-4d74-9376-7bb15d6fa7c1",
   "metadata": {},
   "outputs": [],
   "source": [
    "dlpc_dir = Path(data_path/\"DLPC\")"
   ]
  },
  {
   "cell_type": "code",
   "execution_count": 5,
   "id": "d89dec5d-284c-44d6-8fde-f6c85423846b",
   "metadata": {},
   "outputs": [],
   "source": [
    "datasets = []"
   ]
  },
  {
   "cell_type": "code",
   "execution_count": 7,
   "id": "f8fbcbb3-f7cc-480c-b929-e082e6b63dce",
   "metadata": {},
   "outputs": [
    {
     "name": "stdout",
     "output_type": "stream",
     "text": [
      "data/DLPC/151671\n",
      "151671\n",
      "data/DLPC/151509\n",
      "151509\n",
      "data/DLPC/151675\n",
      "151675\n",
      "data/DLPC/151507\n",
      "151507\n",
      "data/DLPC/151669\n",
      "151669\n",
      "data/DLPC/DLPFC12\n",
      "DLPFC12\n",
      "data/DLPC/151670\n",
      "151670\n",
      "data/DLPC/151674\n",
      "151674\n",
      "data/DLPC/.DS_Store\n",
      ".DS_Store\n",
      "data/DLPC/151676\n",
      "151676\n",
      "data/DLPC/151508\n",
      "151508\n",
      "data/DLPC/151510\n",
      "151510\n",
      "data/DLPC/.DS_Store:Zone.Identifier\n",
      ".DS_Store:Zone.Identifier\n",
      "data/DLPC/151673\n",
      "151673\n",
      "data/DLPC/151672\n",
      "151672\n"
     ]
    }
   ],
   "source": [
    "for folder in dlpc_dir.iterdir():\n",
    "    print(folder)\n",
    "    print(folder.name)"
   ]
  },
  {
   "cell_type": "code",
   "execution_count": 24,
   "id": "8bd36898-a705-405b-9152-ae6181418a09",
   "metadata": {},
   "outputs": [],
   "source": [
    "data_path_MH = Path('data/MH')\n",
    "def load_MH_datasets(MH_dir):\n",
    "    datasets = []\n",
    "    # Files must follow the naming scheme MH_{sample}.h5ad\n",
    "    for file in MH_dir.glob(\"MH_*.h5ad\"):\n",
    "        print(f\"Loading data from {file.stem}...\")\n",
    "        adata = sc.read_h5ad(file)\n",
    "        adata.uns['name'] = file.stem\n",
    "        datasets.append(adata)\n",
    "    return datasets"
   ]
  },
  {
   "cell_type": "code",
   "execution_count": 20,
   "id": "5630896e-1404-4c7d-aea1-ec458291eadf",
   "metadata": {},
   "outputs": [],
   "source": []
  },
  {
   "cell_type": "code",
   "execution_count": 39,
   "id": "c6ba1fee-93b5-4991-8ef5-bfcc332ab305",
   "metadata": {},
   "outputs": [
    {
     "name": "stdout",
     "output_type": "stream",
     "text": [
      "Loading data from MH_11...\n",
      "Loading data from MH_5...\n",
      "Loading data from MH_6...\n"
     ]
    }
   ],
   "source": [
    "res1 = load_MH_datasets(data_path_MH)"
   ]
  },
  {
   "cell_type": "code",
   "execution_count": 40,
   "id": "702b4c43-d483-4f4d-8050-02b67760d7a5",
   "metadata": {},
   "outputs": [],
   "source": [
    "res1.extend(res)"
   ]
  },
  {
   "cell_type": "code",
   "execution_count": 45,
   "id": "6f3bb620-2292-4780-8924-d54ff6332f49",
   "metadata": {},
   "outputs": [
    {
     "data": {
      "text/plain": [
       "12"
      ]
     },
     "execution_count": 45,
     "metadata": {},
     "output_type": "execute_result"
    }
   ],
   "source": [
    "len(res)"
   ]
  },
  {
   "cell_type": "code",
   "execution_count": 46,
   "id": "38a72793-4285-4594-bf79-c4208f3ba55f",
   "metadata": {},
   "outputs": [
    {
     "data": {
      "text/plain": [
       "11"
      ]
     },
     "execution_count": 46,
     "metadata": {},
     "output_type": "execute_result"
    }
   ],
   "source": [
    "len(res[1:])"
   ]
  }
 ],
 "metadata": {
  "kernelspec": {
   "display_name": "Python 3 (ipykernel)",
   "language": "python",
   "name": "python3"
  },
  "language_info": {
   "codemirror_mode": {
    "name": "ipython",
    "version": 3
   },
   "file_extension": ".py",
   "mimetype": "text/x-python",
   "name": "python",
   "nbconvert_exporter": "python",
   "pygments_lexer": "ipython3",
   "version": "3.12.4"
  }
 },
 "nbformat": 4,
 "nbformat_minor": 5
}
