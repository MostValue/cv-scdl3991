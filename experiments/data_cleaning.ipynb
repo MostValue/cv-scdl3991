{
 "cells": [
  {
   "cell_type": "markdown",
   "id": "aa3c1acb-a5dc-49d9-b12f-574ee545bc74",
   "metadata": {},
   "source": [
    "## Data Cleaning"
   ]
  },
  {
   "cell_type": "markdown",
   "id": "7d1494e2-8317-46c3-91ae-1db38f051bee",
   "metadata": {},
   "source": [
    "- Cleaning the MH dataset to be raw counts only for future processing"
   ]
  },
  {
   "cell_type": "code",
   "execution_count": 3,
   "id": "a320a569-20b4-4fce-99a1-acf9b713c967",
   "metadata": {},
   "outputs": [],
   "source": [
    "import pandas as pd\n",
    "from pathlib import Path\n",
    "import os\n",
    "\n",
    "# Ensure you are always in the parent dir\n",
    "os.chdir('/home/kyan/git/cv-scdl3991/')\n",
    "data_path = Path('data/MH/Moffitt_and_Bambah-Mukku_et_al_merfish_all_cells.csv')"
   ]
  },
  {
   "cell_type": "code",
   "execution_count": 4,
   "id": "2be73678-87b6-4948-bd38-384cb91f64b5",
   "metadata": {},
   "outputs": [],
   "source": [
    "# Load the CSV file, csvs are pretty inefficient so this takes a while\n",
    "\n",
    "df = pd.read_csv(data_path)\n",
    "\n",
    "# Remove columns 2 to 8 (index 1 to 7)\n",
    "df = df.drop(df.columns[1:9], axis=1)"
   ]
  },
  {
   "cell_type": "code",
   "execution_count": 6,
   "id": "827cb889-0d97-4408-9772-1ab54f5a1f6f",
   "metadata": {},
   "outputs": [],
   "source": [
    "# Save the modified DataFrame back to a new CSV file\n",
    "output_file = data_path.parent / 'MH_merfish_raw_counts.csv'\n",
    "df.to_csv(output_file, index=False)"
   ]
  }
 ],
 "metadata": {
  "kernelspec": {
   "display_name": "Python 3 (ipykernel)",
   "language": "python",
   "name": "python3"
  },
  "language_info": {
   "codemirror_mode": {
    "name": "ipython",
    "version": 3
   },
   "file_extension": ".py",
   "mimetype": "text/x-python",
   "name": "python",
   "nbconvert_exporter": "python",
   "pygments_lexer": "ipython3",
   "version": "3.12.4"
  }
 },
 "nbformat": 4,
 "nbformat_minor": 5
}
